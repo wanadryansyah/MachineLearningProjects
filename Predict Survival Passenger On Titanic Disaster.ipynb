{
 "cells": [
  {
   "cell_type": "markdown",
   "metadata": {
    "id": "CsRD5dD3iniJ"
   },
   "source": [
    "# **Survival Predict On Titanic's tragedy with CRISP-DM (The CRoss Industry Standard Process for Data Mining) Methodology**"
   ]
  },
  {
   "cell_type": "markdown",
   "metadata": {
    "id": "ZW35ECoYmkWW"
   },
   "source": [
    "# **1. Bussiness Understanding**  \n",
    "*   Business Objective     : To predict how many passenger survive on titanic's \n",
    "tragedy\n",
    "*   Model Objective        : Make a classification machine to predict the \n",
    "passenger is survive or not. Survive mark as \"1\", Not Survive mark as \"0\".\n",
    "\n",
    "\n",
    "*   Model Success Criteria :ROC AUC Score Min 90%"
   ]
  },
  {
   "cell_type": "markdown",
   "metadata": {
    "id": "-CSJV0OQvK1h"
   },
   "source": [
    "# **2. Data Understanding**"
   ]
  },
  {
   "cell_type": "markdown",
   "metadata": {
    "id": "l1DRa2KJvjJs"
   },
   "source": [
    "*   **Data Description**\n",
    "\n",
    "\n"
   ]
  },
  {
   "cell_type": "code",
   "execution_count": 539,
   "metadata": {
    "id": "Q1A2HTnciQpD"
   },
   "outputs": [],
   "source": [
    "#Import Library\n",
    "import pandas as pd\n",
    "import numpy as np\n",
    "import matplotlib.pyplot as plt\n",
    "import seaborn as sns\n",
    "import warnings\n",
    "pd.set_option(\"display.max_column\", None)\n",
    "warnings.filterwarnings(\"ignore\")"
   ]
  },
  {
   "cell_type": "code",
   "execution_count": 540,
   "metadata": {
    "id": "dtGwPCRCwzWs"
   },
   "outputs": [],
   "source": [
    "#Import Dataset\n",
    "df_train = pd.read_csv('train.csv')\n",
    "df_backtesting = pd.read_csv('test.csv')"
   ]
  },
  {
   "cell_type": "code",
   "execution_count": 541,
   "metadata": {
    "colab": {
     "base_uri": "https://localhost:8080/",
     "height": 206
    },
    "id": "ub-s7GOVxU_y",
    "outputId": "f29dc7e0-d22f-4132-af3e-93993e7ab11c"
   },
   "outputs": [
    {
     "data": {
      "text/html": [
       "<div>\n",
       "<style scoped>\n",
       "    .dataframe tbody tr th:only-of-type {\n",
       "        vertical-align: middle;\n",
       "    }\n",
       "\n",
       "    .dataframe tbody tr th {\n",
       "        vertical-align: top;\n",
       "    }\n",
       "\n",
       "    .dataframe thead th {\n",
       "        text-align: right;\n",
       "    }\n",
       "</style>\n",
       "<table border=\"1\" class=\"dataframe\">\n",
       "  <thead>\n",
       "    <tr style=\"text-align: right;\">\n",
       "      <th></th>\n",
       "      <th>PassengerId</th>\n",
       "      <th>Survived</th>\n",
       "      <th>Pclass</th>\n",
       "      <th>Name</th>\n",
       "      <th>Sex</th>\n",
       "      <th>Age</th>\n",
       "      <th>SibSp</th>\n",
       "      <th>Parch</th>\n",
       "      <th>Ticket</th>\n",
       "      <th>Fare</th>\n",
       "      <th>Cabin</th>\n",
       "      <th>Embarked</th>\n",
       "    </tr>\n",
       "  </thead>\n",
       "  <tbody>\n",
       "    <tr>\n",
       "      <th>0</th>\n",
       "      <td>1</td>\n",
       "      <td>0</td>\n",
       "      <td>3</td>\n",
       "      <td>Braund, Mr. Owen Harris</td>\n",
       "      <td>male</td>\n",
       "      <td>22.0</td>\n",
       "      <td>1</td>\n",
       "      <td>0</td>\n",
       "      <td>A/5 21171</td>\n",
       "      <td>7.2500</td>\n",
       "      <td>NaN</td>\n",
       "      <td>S</td>\n",
       "    </tr>\n",
       "    <tr>\n",
       "      <th>1</th>\n",
       "      <td>2</td>\n",
       "      <td>1</td>\n",
       "      <td>1</td>\n",
       "      <td>Cumings, Mrs. John Bradley (Florence Briggs Th...</td>\n",
       "      <td>female</td>\n",
       "      <td>38.0</td>\n",
       "      <td>1</td>\n",
       "      <td>0</td>\n",
       "      <td>PC 17599</td>\n",
       "      <td>71.2833</td>\n",
       "      <td>C85</td>\n",
       "      <td>C</td>\n",
       "    </tr>\n",
       "    <tr>\n",
       "      <th>2</th>\n",
       "      <td>3</td>\n",
       "      <td>1</td>\n",
       "      <td>3</td>\n",
       "      <td>Heikkinen, Miss. Laina</td>\n",
       "      <td>female</td>\n",
       "      <td>26.0</td>\n",
       "      <td>0</td>\n",
       "      <td>0</td>\n",
       "      <td>STON/O2. 3101282</td>\n",
       "      <td>7.9250</td>\n",
       "      <td>NaN</td>\n",
       "      <td>S</td>\n",
       "    </tr>\n",
       "    <tr>\n",
       "      <th>3</th>\n",
       "      <td>4</td>\n",
       "      <td>1</td>\n",
       "      <td>1</td>\n",
       "      <td>Futrelle, Mrs. Jacques Heath (Lily May Peel)</td>\n",
       "      <td>female</td>\n",
       "      <td>35.0</td>\n",
       "      <td>1</td>\n",
       "      <td>0</td>\n",
       "      <td>113803</td>\n",
       "      <td>53.1000</td>\n",
       "      <td>C123</td>\n",
       "      <td>S</td>\n",
       "    </tr>\n",
       "    <tr>\n",
       "      <th>4</th>\n",
       "      <td>5</td>\n",
       "      <td>0</td>\n",
       "      <td>3</td>\n",
       "      <td>Allen, Mr. William Henry</td>\n",
       "      <td>male</td>\n",
       "      <td>35.0</td>\n",
       "      <td>0</td>\n",
       "      <td>0</td>\n",
       "      <td>373450</td>\n",
       "      <td>8.0500</td>\n",
       "      <td>NaN</td>\n",
       "      <td>S</td>\n",
       "    </tr>\n",
       "  </tbody>\n",
       "</table>\n",
       "</div>"
      ],
      "text/plain": [
       "   PassengerId  Survived  Pclass  \\\n",
       "0            1         0       3   \n",
       "1            2         1       1   \n",
       "2            3         1       3   \n",
       "3            4         1       1   \n",
       "4            5         0       3   \n",
       "\n",
       "                                                Name     Sex   Age  SibSp  \\\n",
       "0                            Braund, Mr. Owen Harris    male  22.0      1   \n",
       "1  Cumings, Mrs. John Bradley (Florence Briggs Th...  female  38.0      1   \n",
       "2                             Heikkinen, Miss. Laina  female  26.0      0   \n",
       "3       Futrelle, Mrs. Jacques Heath (Lily May Peel)  female  35.0      1   \n",
       "4                           Allen, Mr. William Henry    male  35.0      0   \n",
       "\n",
       "   Parch            Ticket     Fare Cabin Embarked  \n",
       "0      0         A/5 21171   7.2500   NaN        S  \n",
       "1      0          PC 17599  71.2833   C85        C  \n",
       "2      0  STON/O2. 3101282   7.9250   NaN        S  \n",
       "3      0            113803  53.1000  C123        S  \n",
       "4      0            373450   8.0500   NaN        S  "
      ]
     },
     "execution_count": 541,
     "metadata": {},
     "output_type": "execute_result"
    }
   ],
   "source": [
    "df_train.head()"
   ]
  },
  {
   "cell_type": "code",
   "execution_count": 542,
   "metadata": {
    "colab": {
     "base_uri": "https://localhost:8080/",
     "height": 206
    },
    "id": "YCxryT4BxXdw",
    "outputId": "1476293d-0f99-4a83-d52d-ab25df2a8fe4"
   },
   "outputs": [
    {
     "data": {
      "text/html": [
       "<div>\n",
       "<style scoped>\n",
       "    .dataframe tbody tr th:only-of-type {\n",
       "        vertical-align: middle;\n",
       "    }\n",
       "\n",
       "    .dataframe tbody tr th {\n",
       "        vertical-align: top;\n",
       "    }\n",
       "\n",
       "    .dataframe thead th {\n",
       "        text-align: right;\n",
       "    }\n",
       "</style>\n",
       "<table border=\"1\" class=\"dataframe\">\n",
       "  <thead>\n",
       "    <tr style=\"text-align: right;\">\n",
       "      <th></th>\n",
       "      <th>PassengerId</th>\n",
       "      <th>Pclass</th>\n",
       "      <th>Name</th>\n",
       "      <th>Sex</th>\n",
       "      <th>Age</th>\n",
       "      <th>SibSp</th>\n",
       "      <th>Parch</th>\n",
       "      <th>Ticket</th>\n",
       "      <th>Fare</th>\n",
       "      <th>Cabin</th>\n",
       "      <th>Embarked</th>\n",
       "    </tr>\n",
       "  </thead>\n",
       "  <tbody>\n",
       "    <tr>\n",
       "      <th>0</th>\n",
       "      <td>892</td>\n",
       "      <td>3</td>\n",
       "      <td>Kelly, Mr. James</td>\n",
       "      <td>male</td>\n",
       "      <td>34.5</td>\n",
       "      <td>0</td>\n",
       "      <td>0</td>\n",
       "      <td>330911</td>\n",
       "      <td>7.8292</td>\n",
       "      <td>NaN</td>\n",
       "      <td>Q</td>\n",
       "    </tr>\n",
       "    <tr>\n",
       "      <th>1</th>\n",
       "      <td>893</td>\n",
       "      <td>3</td>\n",
       "      <td>Wilkes, Mrs. James (Ellen Needs)</td>\n",
       "      <td>female</td>\n",
       "      <td>47.0</td>\n",
       "      <td>1</td>\n",
       "      <td>0</td>\n",
       "      <td>363272</td>\n",
       "      <td>7.0000</td>\n",
       "      <td>NaN</td>\n",
       "      <td>S</td>\n",
       "    </tr>\n",
       "    <tr>\n",
       "      <th>2</th>\n",
       "      <td>894</td>\n",
       "      <td>2</td>\n",
       "      <td>Myles, Mr. Thomas Francis</td>\n",
       "      <td>male</td>\n",
       "      <td>62.0</td>\n",
       "      <td>0</td>\n",
       "      <td>0</td>\n",
       "      <td>240276</td>\n",
       "      <td>9.6875</td>\n",
       "      <td>NaN</td>\n",
       "      <td>Q</td>\n",
       "    </tr>\n",
       "    <tr>\n",
       "      <th>3</th>\n",
       "      <td>895</td>\n",
       "      <td>3</td>\n",
       "      <td>Wirz, Mr. Albert</td>\n",
       "      <td>male</td>\n",
       "      <td>27.0</td>\n",
       "      <td>0</td>\n",
       "      <td>0</td>\n",
       "      <td>315154</td>\n",
       "      <td>8.6625</td>\n",
       "      <td>NaN</td>\n",
       "      <td>S</td>\n",
       "    </tr>\n",
       "    <tr>\n",
       "      <th>4</th>\n",
       "      <td>896</td>\n",
       "      <td>3</td>\n",
       "      <td>Hirvonen, Mrs. Alexander (Helga E Lindqvist)</td>\n",
       "      <td>female</td>\n",
       "      <td>22.0</td>\n",
       "      <td>1</td>\n",
       "      <td>1</td>\n",
       "      <td>3101298</td>\n",
       "      <td>12.2875</td>\n",
       "      <td>NaN</td>\n",
       "      <td>S</td>\n",
       "    </tr>\n",
       "  </tbody>\n",
       "</table>\n",
       "</div>"
      ],
      "text/plain": [
       "   PassengerId  Pclass                                          Name     Sex  \\\n",
       "0          892       3                              Kelly, Mr. James    male   \n",
       "1          893       3              Wilkes, Mrs. James (Ellen Needs)  female   \n",
       "2          894       2                     Myles, Mr. Thomas Francis    male   \n",
       "3          895       3                              Wirz, Mr. Albert    male   \n",
       "4          896       3  Hirvonen, Mrs. Alexander (Helga E Lindqvist)  female   \n",
       "\n",
       "    Age  SibSp  Parch   Ticket     Fare Cabin Embarked  \n",
       "0  34.5      0      0   330911   7.8292   NaN        Q  \n",
       "1  47.0      1      0   363272   7.0000   NaN        S  \n",
       "2  62.0      0      0   240276   9.6875   NaN        Q  \n",
       "3  27.0      0      0   315154   8.6625   NaN        S  \n",
       "4  22.0      1      1  3101298  12.2875   NaN        S  "
      ]
     },
     "execution_count": 542,
     "metadata": {},
     "output_type": "execute_result"
    }
   ],
   "source": [
    "df_backtesting.head()"
   ]
  },
  {
   "cell_type": "code",
   "execution_count": 543,
   "metadata": {
    "colab": {
     "base_uri": "https://localhost:8080/",
     "height": 300
    },
    "id": "F-rHqHqXxpZq",
    "outputId": "5bde3fae-0167-4018-e5d1-f29b02ead2ef"
   },
   "outputs": [
    {
     "data": {
      "text/html": [
       "<div>\n",
       "<style scoped>\n",
       "    .dataframe tbody tr th:only-of-type {\n",
       "        vertical-align: middle;\n",
       "    }\n",
       "\n",
       "    .dataframe tbody tr th {\n",
       "        vertical-align: top;\n",
       "    }\n",
       "\n",
       "    .dataframe thead th {\n",
       "        text-align: right;\n",
       "    }\n",
       "</style>\n",
       "<table border=\"1\" class=\"dataframe\">\n",
       "  <thead>\n",
       "    <tr style=\"text-align: right;\">\n",
       "      <th></th>\n",
       "      <th>PassengerId</th>\n",
       "      <th>Survived</th>\n",
       "      <th>Pclass</th>\n",
       "      <th>Age</th>\n",
       "      <th>SibSp</th>\n",
       "      <th>Parch</th>\n",
       "      <th>Fare</th>\n",
       "    </tr>\n",
       "  </thead>\n",
       "  <tbody>\n",
       "    <tr>\n",
       "      <th>count</th>\n",
       "      <td>891.000000</td>\n",
       "      <td>891.000000</td>\n",
       "      <td>891.000000</td>\n",
       "      <td>714.000000</td>\n",
       "      <td>891.000000</td>\n",
       "      <td>891.000000</td>\n",
       "      <td>891.000000</td>\n",
       "    </tr>\n",
       "    <tr>\n",
       "      <th>mean</th>\n",
       "      <td>446.000000</td>\n",
       "      <td>0.383838</td>\n",
       "      <td>2.308642</td>\n",
       "      <td>29.699118</td>\n",
       "      <td>0.523008</td>\n",
       "      <td>0.381594</td>\n",
       "      <td>32.204208</td>\n",
       "    </tr>\n",
       "    <tr>\n",
       "      <th>std</th>\n",
       "      <td>257.353842</td>\n",
       "      <td>0.486592</td>\n",
       "      <td>0.836071</td>\n",
       "      <td>14.526497</td>\n",
       "      <td>1.102743</td>\n",
       "      <td>0.806057</td>\n",
       "      <td>49.693429</td>\n",
       "    </tr>\n",
       "    <tr>\n",
       "      <th>min</th>\n",
       "      <td>1.000000</td>\n",
       "      <td>0.000000</td>\n",
       "      <td>1.000000</td>\n",
       "      <td>0.420000</td>\n",
       "      <td>0.000000</td>\n",
       "      <td>0.000000</td>\n",
       "      <td>0.000000</td>\n",
       "    </tr>\n",
       "    <tr>\n",
       "      <th>25%</th>\n",
       "      <td>223.500000</td>\n",
       "      <td>0.000000</td>\n",
       "      <td>2.000000</td>\n",
       "      <td>20.125000</td>\n",
       "      <td>0.000000</td>\n",
       "      <td>0.000000</td>\n",
       "      <td>7.910400</td>\n",
       "    </tr>\n",
       "    <tr>\n",
       "      <th>50%</th>\n",
       "      <td>446.000000</td>\n",
       "      <td>0.000000</td>\n",
       "      <td>3.000000</td>\n",
       "      <td>28.000000</td>\n",
       "      <td>0.000000</td>\n",
       "      <td>0.000000</td>\n",
       "      <td>14.454200</td>\n",
       "    </tr>\n",
       "    <tr>\n",
       "      <th>75%</th>\n",
       "      <td>668.500000</td>\n",
       "      <td>1.000000</td>\n",
       "      <td>3.000000</td>\n",
       "      <td>38.000000</td>\n",
       "      <td>1.000000</td>\n",
       "      <td>0.000000</td>\n",
       "      <td>31.000000</td>\n",
       "    </tr>\n",
       "    <tr>\n",
       "      <th>max</th>\n",
       "      <td>891.000000</td>\n",
       "      <td>1.000000</td>\n",
       "      <td>3.000000</td>\n",
       "      <td>80.000000</td>\n",
       "      <td>8.000000</td>\n",
       "      <td>6.000000</td>\n",
       "      <td>512.329200</td>\n",
       "    </tr>\n",
       "  </tbody>\n",
       "</table>\n",
       "</div>"
      ],
      "text/plain": [
       "       PassengerId    Survived      Pclass         Age       SibSp  \\\n",
       "count   891.000000  891.000000  891.000000  714.000000  891.000000   \n",
       "mean    446.000000    0.383838    2.308642   29.699118    0.523008   \n",
       "std     257.353842    0.486592    0.836071   14.526497    1.102743   \n",
       "min       1.000000    0.000000    1.000000    0.420000    0.000000   \n",
       "25%     223.500000    0.000000    2.000000   20.125000    0.000000   \n",
       "50%     446.000000    0.000000    3.000000   28.000000    0.000000   \n",
       "75%     668.500000    1.000000    3.000000   38.000000    1.000000   \n",
       "max     891.000000    1.000000    3.000000   80.000000    8.000000   \n",
       "\n",
       "            Parch        Fare  \n",
       "count  891.000000  891.000000  \n",
       "mean     0.381594   32.204208  \n",
       "std      0.806057   49.693429  \n",
       "min      0.000000    0.000000  \n",
       "25%      0.000000    7.910400  \n",
       "50%      0.000000   14.454200  \n",
       "75%      0.000000   31.000000  \n",
       "max      6.000000  512.329200  "
      ]
     },
     "execution_count": 543,
     "metadata": {},
     "output_type": "execute_result"
    }
   ],
   "source": [
    "df_train.describe()"
   ]
  },
  {
   "cell_type": "code",
   "execution_count": 544,
   "metadata": {
    "colab": {
     "base_uri": "https://localhost:8080/"
    },
    "id": "bCxm3WWrxpdo",
    "outputId": "5aef615e-ef81-4511-974b-6f4db3064afe"
   },
   "outputs": [
    {
     "name": "stdout",
     "output_type": "stream",
     "text": [
      "<class 'pandas.core.frame.DataFrame'>\n",
      "RangeIndex: 891 entries, 0 to 890\n",
      "Data columns (total 12 columns):\n",
      " #   Column       Non-Null Count  Dtype  \n",
      "---  ------       --------------  -----  \n",
      " 0   PassengerId  891 non-null    int64  \n",
      " 1   Survived     891 non-null    int64  \n",
      " 2   Pclass       891 non-null    int64  \n",
      " 3   Name         891 non-null    object \n",
      " 4   Sex          891 non-null    object \n",
      " 5   Age          714 non-null    float64\n",
      " 6   SibSp        891 non-null    int64  \n",
      " 7   Parch        891 non-null    int64  \n",
      " 8   Ticket       891 non-null    object \n",
      " 9   Fare         891 non-null    float64\n",
      " 10  Cabin        204 non-null    object \n",
      " 11  Embarked     889 non-null    object \n",
      "dtypes: float64(2), int64(5), object(5)\n",
      "memory usage: 83.7+ KB\n"
     ]
    }
   ],
   "source": [
    "df_train.info()"
   ]
  },
  {
   "cell_type": "markdown",
   "metadata": {
    "id": "pES7W0c3zN-e"
   },
   "source": [
    "*  **EDA (Exploratory Data Analysis)**"
   ]
  },
  {
   "cell_type": "code",
   "execution_count": 545,
   "metadata": {
    "id": "tprqLsvBxpkj"
   },
   "outputs": [],
   "source": [
    "df_train_eda = df_train.copy(deep=True)"
   ]
  },
  {
   "cell_type": "code",
   "execution_count": 546,
   "metadata": {
    "id": "M-mGpw0a4ZvD"
   },
   "outputs": [],
   "source": [
    "#Drop Bad Columns For Analysis\n",
    "df_train_eda = df_train_eda.drop(['PassengerId','Name','Ticket','Cabin','Fare'], axis=1)"
   ]
  },
  {
   "cell_type": "code",
   "execution_count": 547,
   "metadata": {
    "colab": {
     "base_uri": "https://localhost:8080/",
     "height": 424
    },
    "id": "9HGV5In57ksp",
    "outputId": "2243b608-59e0-4b2a-e53a-2621053a14d2"
   },
   "outputs": [
    {
     "data": {
      "text/html": [
       "<div>\n",
       "<style scoped>\n",
       "    .dataframe tbody tr th:only-of-type {\n",
       "        vertical-align: middle;\n",
       "    }\n",
       "\n",
       "    .dataframe tbody tr th {\n",
       "        vertical-align: top;\n",
       "    }\n",
       "\n",
       "    .dataframe thead th {\n",
       "        text-align: right;\n",
       "    }\n",
       "</style>\n",
       "<table border=\"1\" class=\"dataframe\">\n",
       "  <thead>\n",
       "    <tr style=\"text-align: right;\">\n",
       "      <th></th>\n",
       "      <th>Survived</th>\n",
       "      <th>Pclass</th>\n",
       "      <th>Sex</th>\n",
       "      <th>Age</th>\n",
       "      <th>SibSp</th>\n",
       "      <th>Parch</th>\n",
       "      <th>Embarked</th>\n",
       "    </tr>\n",
       "  </thead>\n",
       "  <tbody>\n",
       "    <tr>\n",
       "      <th>0</th>\n",
       "      <td>0</td>\n",
       "      <td>3</td>\n",
       "      <td>male</td>\n",
       "      <td>22.0</td>\n",
       "      <td>1</td>\n",
       "      <td>0</td>\n",
       "      <td>S</td>\n",
       "    </tr>\n",
       "    <tr>\n",
       "      <th>1</th>\n",
       "      <td>1</td>\n",
       "      <td>1</td>\n",
       "      <td>female</td>\n",
       "      <td>38.0</td>\n",
       "      <td>1</td>\n",
       "      <td>0</td>\n",
       "      <td>C</td>\n",
       "    </tr>\n",
       "    <tr>\n",
       "      <th>2</th>\n",
       "      <td>1</td>\n",
       "      <td>3</td>\n",
       "      <td>female</td>\n",
       "      <td>26.0</td>\n",
       "      <td>0</td>\n",
       "      <td>0</td>\n",
       "      <td>S</td>\n",
       "    </tr>\n",
       "    <tr>\n",
       "      <th>3</th>\n",
       "      <td>1</td>\n",
       "      <td>1</td>\n",
       "      <td>female</td>\n",
       "      <td>35.0</td>\n",
       "      <td>1</td>\n",
       "      <td>0</td>\n",
       "      <td>S</td>\n",
       "    </tr>\n",
       "    <tr>\n",
       "      <th>4</th>\n",
       "      <td>0</td>\n",
       "      <td>3</td>\n",
       "      <td>male</td>\n",
       "      <td>35.0</td>\n",
       "      <td>0</td>\n",
       "      <td>0</td>\n",
       "      <td>S</td>\n",
       "    </tr>\n",
       "    <tr>\n",
       "      <th>...</th>\n",
       "      <td>...</td>\n",
       "      <td>...</td>\n",
       "      <td>...</td>\n",
       "      <td>...</td>\n",
       "      <td>...</td>\n",
       "      <td>...</td>\n",
       "      <td>...</td>\n",
       "    </tr>\n",
       "    <tr>\n",
       "      <th>886</th>\n",
       "      <td>0</td>\n",
       "      <td>2</td>\n",
       "      <td>male</td>\n",
       "      <td>27.0</td>\n",
       "      <td>0</td>\n",
       "      <td>0</td>\n",
       "      <td>S</td>\n",
       "    </tr>\n",
       "    <tr>\n",
       "      <th>887</th>\n",
       "      <td>1</td>\n",
       "      <td>1</td>\n",
       "      <td>female</td>\n",
       "      <td>19.0</td>\n",
       "      <td>0</td>\n",
       "      <td>0</td>\n",
       "      <td>S</td>\n",
       "    </tr>\n",
       "    <tr>\n",
       "      <th>888</th>\n",
       "      <td>0</td>\n",
       "      <td>3</td>\n",
       "      <td>female</td>\n",
       "      <td>0.0</td>\n",
       "      <td>1</td>\n",
       "      <td>2</td>\n",
       "      <td>S</td>\n",
       "    </tr>\n",
       "    <tr>\n",
       "      <th>889</th>\n",
       "      <td>1</td>\n",
       "      <td>1</td>\n",
       "      <td>male</td>\n",
       "      <td>26.0</td>\n",
       "      <td>0</td>\n",
       "      <td>0</td>\n",
       "      <td>C</td>\n",
       "    </tr>\n",
       "    <tr>\n",
       "      <th>890</th>\n",
       "      <td>0</td>\n",
       "      <td>3</td>\n",
       "      <td>male</td>\n",
       "      <td>32.0</td>\n",
       "      <td>0</td>\n",
       "      <td>0</td>\n",
       "      <td>Q</td>\n",
       "    </tr>\n",
       "  </tbody>\n",
       "</table>\n",
       "<p>891 rows × 7 columns</p>\n",
       "</div>"
      ],
      "text/plain": [
       "     Survived  Pclass     Sex   Age  SibSp  Parch Embarked\n",
       "0           0       3    male  22.0      1      0        S\n",
       "1           1       1  female  38.0      1      0        C\n",
       "2           1       3  female  26.0      0      0        S\n",
       "3           1       1  female  35.0      1      0        S\n",
       "4           0       3    male  35.0      0      0        S\n",
       "..        ...     ...     ...   ...    ...    ...      ...\n",
       "886         0       2    male  27.0      0      0        S\n",
       "887         1       1  female  19.0      0      0        S\n",
       "888         0       3  female   0.0      1      2        S\n",
       "889         1       1    male  26.0      0      0        C\n",
       "890         0       3    male  32.0      0      0        Q\n",
       "\n",
       "[891 rows x 7 columns]"
      ]
     },
     "execution_count": 547,
     "metadata": {},
     "output_type": "execute_result"
    }
   ],
   "source": [
    "df_train_eda.fillna(0)"
   ]
  },
  {
   "cell_type": "code",
   "execution_count": 548,
   "metadata": {
    "id": "5vYDkG0axpqF"
   },
   "outputs": [],
   "source": [
    "df_train_eda_num = df_train_eda.select_dtypes(include = 'number')\n",
    "df_train_eda_obj = df_train_eda.select_dtypes(include = 'object')"
   ]
  },
  {
   "cell_type": "code",
   "execution_count": 549,
   "metadata": {
    "colab": {
     "base_uri": "https://localhost:8080/",
     "height": 601
    },
    "id": "u9h1k8WZ3t15",
    "outputId": "9d1b2341-ace2-4977-c9c4-6ecab49c5983"
   },
   "outputs": [
    {
     "name": "stdout",
     "output_type": "stream",
     "text": [
      "Sex\n"
     ]
    },
    {
     "data": {
      "image/png": "[encoded data removed]",
      "text/plain": [
       "<Figure size 432x288 with 1 Axes>"
      ]
     },
     "metadata": {
      "needs_background": "light"
     },
     "output_type": "display_data"
    },
    {
     "name": "stdout",
     "output_type": "stream",
     "text": [
      "Embarked\n"
     ]
    },
    {
     "data": {
      "image/png": "[encoded data removed]",
      "text/plain": [
       "<Figure size 432x288 with 1 Axes>"
      ]
     },
     "metadata": {
      "needs_background": "light"
     },
     "output_type": "display_data"
    }
   ],
   "source": [
    "for x in df_train_eda_obj.columns:\n",
    "    print(x)\n",
    "    sns.countplot(data = df_train_eda_obj, x=x, hue = df_train_eda['Survived'])\n",
    "    plt.xticks(rotation=45)\n",
    "    plt.show()"
   ]
  },
  {
   "cell_type": "code",
   "execution_count": 550,
   "metadata": {
    "colab": {
     "base_uri": "https://localhost:8080/",
     "height": 1000
    },
    "id": "8O4PjQ7a3t9x",
    "outputId": "00b9bc4f-9d01-4e1b-fb42-69f6ff23ea65"
   },
   "outputs": [
    {
     "name": "stdout",
     "output_type": "stream",
     "text": [
      "Survived\n"
     ]
    },
    {
     "data": {
      "image/png": "[encoded data removed]",
      "text/plain": [
       "<Figure size 432x288 with 1 Axes>"
      ]
     },
     "metadata": {
      "needs_background": "light"
     },
     "output_type": "display_data"
    },
    {
     "name": "stdout",
     "output_type": "stream",
     "text": [
      "Pclass\n"
     ]
    },
    {
     "data": {
      "image/png": "[encoded data removed]",
      "text/plain": [
       "<Figure size 432x288 with 1 Axes>"
      ]
     },
     "metadata": {
      "needs_background": "light"
     },
     "output_type": "display_data"
    },
    {
     "name": "stdout",
     "output_type": "stream",
     "text": [
      "Age\n"
     ]
    },
    {
     "data": {
      "image/png": "[encoded data removed]",
      "text/plain": [
       "<Figure size 432x288 with 1 Axes>"
      ]
     },
     "metadata": {
      "needs_background": "light"
     },
     "output_type": "display_data"
    },
    {
     "name": "stdout",
     "output_type": "stream",
     "text": [
      "SibSp\n"
     ]
    },
    {
     "data": {
      "image/png": "[encoded data removed]",
      "text/plain": [
       "<Figure size 432x288 with 1 Axes>"
      ]
     },
     "metadata": {
      "needs_background": "light"
     },
     "output_type": "display_data"
    },
    {
     "name": "stdout",
     "output_type": "stream",
     "text": [
      "Parch\n"
     ]
    },
    {
     "data": {
      "image/png": "[encoded data removed]",
      "text/plain": [
       "<Figure size 432x288 with 1 Axes>"
      ]
     },
     "metadata": {
      "needs_background": "light"
     },
     "output_type": "display_data"
    }
   ],
   "source": [
    "\n",
    "for x in df_train_eda_num.columns:\n",
    "    print(x)\n",
    "    sns.countplot(data = df_train_eda_num, x=x, hue = df_train_eda['Survived'])\n",
    "    plt.xticks(rotation=45)\n",
    "    plt.show()"
   ]
  },
  {
   "cell_type": "code",
   "execution_count": 551,
   "metadata": {
    "id": "geeXlZVU3uhf"
   },
   "outputs": [],
   "source": [
    "df_train_eda.to_csv('EDA_TitanicProject.csv', index = False)"
   ]
  },
  {
   "cell_type": "markdown",
   "metadata": {
    "id": "OkIAss_e_S8y"
   },
   "source": [
    "## **3. Data Preparation**"
   ]
  },
  {
   "cell_type": "markdown",
   "metadata": {
    "id": "8k1jIn4jAgvm"
   },
   "source": [
    "*   **Data Cleaning** "
   ]
  },
  {
   "cell_type": "code",
   "execution_count": 552,
   "metadata": {
    "id": "chHevP4v05PO"
   },
   "outputs": [],
   "source": [
    "df_train2 = df_train.copy(deep=True)\n",
    "df_backtesting2 = df_backtesting.copy(deep=True)"
   ]
  },
  {
   "cell_type": "code",
   "execution_count": 553,
   "metadata": {
    "colab": {
     "base_uri": "https://localhost:8080/"
    },
    "id": "MQo451c3xqX2",
    "outputId": "bdad15d9-b16e-42ac-a9c1-c7caf7f57044"
   },
   "outputs": [
    {
     "data": {
      "text/plain": [
       "0    549\n",
       "1    342\n",
       "Name: Survived, dtype: int64"
      ]
     },
     "execution_count": 553,
     "metadata": {},
     "output_type": "execute_result"
    }
   ],
   "source": [
    "#Check Unbalanced Dataset\n",
    "df_train2['Survived'].value_counts()"
   ]
  },
  {
   "cell_type": "code",
   "execution_count": 554,
   "metadata": {
    "colab": {
     "base_uri": "https://localhost:8080/"
    },
    "id": "WXk7EeI8FuHb",
    "outputId": "793120e1-fd20-4a54-f2dc-1af4dbebf7e6"
   },
   "outputs": [
    {
     "data": {
      "text/plain": [
       "PassengerId      0\n",
       "Survived         0\n",
       "Pclass           0\n",
       "Name             0\n",
       "Sex              0\n",
       "Age            177\n",
       "SibSp            0\n",
       "Parch            0\n",
       "Ticket           0\n",
       "Fare             0\n",
       "Cabin          687\n",
       "Embarked         2\n",
       "dtype: int64"
      ]
     },
     "execution_count": 554,
     "metadata": {},
     "output_type": "execute_result"
    }
   ],
   "source": [
    "#Check Missing Value\n",
    "df_train2.isna().sum()"
   ]
  },
  {
   "cell_type": "code",
   "execution_count": 555,
   "metadata": {
    "colab": {
     "base_uri": "https://localhost:8080/"
    },
    "id": "hN0hPK9hw30v",
    "outputId": "df691b5f-f721-4815-ceec-dbd855d7d3f3"
   },
   "outputs": [
    {
     "data": {
      "text/plain": [
       "PassengerId      int64\n",
       "Survived         int64\n",
       "Pclass           int64\n",
       "Name            object\n",
       "Sex             object\n",
       "Age            float64\n",
       "SibSp            int64\n",
       "Parch            int64\n",
       "Ticket          object\n",
       "Fare           float64\n",
       "Cabin           object\n",
       "Embarked        object\n",
       "dtype: object"
      ]
     },
     "execution_count": 555,
     "metadata": {},
     "output_type": "execute_result"
    }
   ],
   "source": [
    "#Check the datatypes each columns\n",
    "df_train2.dtypes"
   ]
  },
  {
   "cell_type": "code",
   "execution_count": 556,
   "metadata": {
    "id": "GCWhUNdNBTDf"
   },
   "outputs": [],
   "source": [
    "#Groupping some columns\n",
    "df_train2['Deck'] = df_train2.Cabin.str.extract('([a-zA-Z]+)', expand=False)\n",
    "df_train2[['Cabin', 'Deck']].sample(10)\n",
    "df_train2['Deck'] = df_train2['Deck'].fillna('Z')\n",
    "df_train2 = df_train2.drop(['Cabin'], axis=1)"
   ]
  },
  {
   "cell_type": "code",
   "execution_count": 557,
   "metadata": {
    "id": "6nOjlhWn9kxC"
   },
   "outputs": [],
   "source": [
    "df_train2['FamilyMember'] = df_train2['SibSp'] + df_train2['Parch']\n"
   ]
  },
  {
   "cell_type": "code",
   "execution_count": 558,
   "metadata": {
    "_uuid": "44eb3bfef81b0e24c13fea88440a64033919f3a2",
    "id": "pNgtso8mxRnp"
   },
   "outputs": [],
   "source": [
    "df_train2['Solo'] = 1 #default value\n",
    "df_train2['Solo'].loc[df_train2['FamilyMember'] > 0] = 0\n",
    "\n"
   ]
  },
  {
   "cell_type": "code",
   "execution_count": 559,
   "metadata": {
    "_uuid": "afb60a6c3ab4370550fcc8f71236f9781586b2cc",
    "id": "dff88uvnxRnv"
   },
   "outputs": [],
   "source": [
    "df_train2['Baby'] = 0 #default value\n",
    "df_train2['Baby'].loc[df_train2['Age'] <= 5] = 1\n",
    "\n"
   ]
  },
  {
   "cell_type": "code",
   "execution_count": 560,
   "metadata": {
    "_uuid": "b02738deedc6c3954009d5a30aeaccd5905bcb77",
    "id": "I7m-pDMAtrAQ"
   },
   "outputs": [],
   "source": [
    "df_train2['Title'] = df_train2.Name.str.extract(' ([A-Za-z]+)\\.', expand=False)"
   ]
  },
  {
   "cell_type": "code",
   "execution_count": 561,
   "metadata": {
    "_uuid": "ba02bd0e7c612f3b241693b3b93cd8e1197e7405",
    "id": "HVg8eK4wtrAR"
   },
   "outputs": [],
   "source": [
    "df_train2['Title'] = df_train2['Title'].replace(['Lady', 'Capt', 'Col', 'Don', 'Dr', 'Major', 'Rev', 'Jonkheer', 'Dona'], 'Rare')  \n",
    "df_train2['Title'] = df_train2['Title'].replace(['Countess', 'Lady', 'Sir'], 'Royal')\n",
    "df_train2['Title'] = df_train2['Title'].replace('Mlle', 'Miss')\n",
    "df_train2['Title'] = df_train2['Title'].replace('Ms', 'Miss')\n",
    "df_train2['Title'] = df_train2['Title'].replace('Mme', 'Mrs')"
   ]
  },
  {
   "cell_type": "code",
   "execution_count": 562,
   "metadata": {
    "id": "A0MDZuc7trAS"
   },
   "outputs": [],
   "source": [
    "df_train2['Title'] = df_train2['Title'].astype('object')"
   ]
  },
  {
   "cell_type": "code",
   "execution_count": 563,
   "metadata": {
    "_uuid": "0b0cd25d7331053c8d0fd7f4303e536e68001b39",
    "id": "07a_x8h8trAW"
   },
   "outputs": [],
   "source": [
    "bins = [-np.inf, 20, 30, 110, np.inf]\n",
    "labels = ['Low', 'Mid', 'High', 'Extreme']\n",
    "df_train2['FareBin'] = pd.cut(df_train2[\"Fare\"], bins, labels = labels).astype('object')"
   ]
  },
  {
   "cell_type": "code",
   "execution_count": 564,
   "metadata": {
    "id": "8waNw0YUAqGr"
   },
   "outputs": [],
   "source": [
    "# Drop high cardinality columns\n",
    "df_train2 = df_train2.drop(['PassengerId','Ticket', 'Name', 'Fare'], axis=1)\n"
   ]
  },
  {
   "cell_type": "code",
   "execution_count": 565,
   "metadata": {
    "colab": {
     "base_uri": "https://localhost:8080/",
     "height": 206
    },
    "id": "c5czb9owz-pB",
    "outputId": "630dea48-d54f-4733-b6c9-6db659fe61a3"
   },
   "outputs": [
    {
     "data": {
      "text/html": [
       "<div>\n",
       "<style scoped>\n",
       "    .dataframe tbody tr th:only-of-type {\n",
       "        vertical-align: middle;\n",
       "    }\n",
       "\n",
       "    .dataframe tbody tr th {\n",
       "        vertical-align: top;\n",
       "    }\n",
       "\n",
       "    .dataframe thead th {\n",
       "        text-align: right;\n",
       "    }\n",
       "</style>\n",
       "<table border=\"1\" class=\"dataframe\">\n",
       "  <thead>\n",
       "    <tr style=\"text-align: right;\">\n",
       "      <th></th>\n",
       "      <th>Survived</th>\n",
       "      <th>Pclass</th>\n",
       "      <th>Sex</th>\n",
       "      <th>Age</th>\n",
       "      <th>SibSp</th>\n",
       "      <th>Parch</th>\n",
       "      <th>Embarked</th>\n",
       "      <th>Deck</th>\n",
       "      <th>FamilyMember</th>\n",
       "      <th>Solo</th>\n",
       "      <th>Baby</th>\n",
       "      <th>Title</th>\n",
       "      <th>FareBin</th>\n",
       "    </tr>\n",
       "  </thead>\n",
       "  <tbody>\n",
       "    <tr>\n",
       "      <th>0</th>\n",
       "      <td>0</td>\n",
       "      <td>3</td>\n",
       "      <td>male</td>\n",
       "      <td>22.0</td>\n",
       "      <td>1</td>\n",
       "      <td>0</td>\n",
       "      <td>S</td>\n",
       "      <td>Z</td>\n",
       "      <td>1</td>\n",
       "      <td>0</td>\n",
       "      <td>0</td>\n",
       "      <td>Mr</td>\n",
       "      <td>Low</td>\n",
       "    </tr>\n",
       "    <tr>\n",
       "      <th>1</th>\n",
       "      <td>1</td>\n",
       "      <td>1</td>\n",
       "      <td>female</td>\n",
       "      <td>38.0</td>\n",
       "      <td>1</td>\n",
       "      <td>0</td>\n",
       "      <td>C</td>\n",
       "      <td>C</td>\n",
       "      <td>1</td>\n",
       "      <td>0</td>\n",
       "      <td>0</td>\n",
       "      <td>Mrs</td>\n",
       "      <td>High</td>\n",
       "    </tr>\n",
       "    <tr>\n",
       "      <th>2</th>\n",
       "      <td>1</td>\n",
       "      <td>3</td>\n",
       "      <td>female</td>\n",
       "      <td>26.0</td>\n",
       "      <td>0</td>\n",
       "      <td>0</td>\n",
       "      <td>S</td>\n",
       "      <td>Z</td>\n",
       "      <td>0</td>\n",
       "      <td>1</td>\n",
       "      <td>0</td>\n",
       "      <td>Miss</td>\n",
       "      <td>Low</td>\n",
       "    </tr>\n",
       "    <tr>\n",
       "      <th>3</th>\n",
       "      <td>1</td>\n",
       "      <td>1</td>\n",
       "      <td>female</td>\n",
       "      <td>35.0</td>\n",
       "      <td>1</td>\n",
       "      <td>0</td>\n",
       "      <td>S</td>\n",
       "      <td>C</td>\n",
       "      <td>1</td>\n",
       "      <td>0</td>\n",
       "      <td>0</td>\n",
       "      <td>Mrs</td>\n",
       "      <td>High</td>\n",
       "    </tr>\n",
       "    <tr>\n",
       "      <th>4</th>\n",
       "      <td>0</td>\n",
       "      <td>3</td>\n",
       "      <td>male</td>\n",
       "      <td>35.0</td>\n",
       "      <td>0</td>\n",
       "      <td>0</td>\n",
       "      <td>S</td>\n",
       "      <td>Z</td>\n",
       "      <td>0</td>\n",
       "      <td>1</td>\n",
       "      <td>0</td>\n",
       "      <td>Mr</td>\n",
       "      <td>Low</td>\n",
       "    </tr>\n",
       "  </tbody>\n",
       "</table>\n",
       "</div>"
      ],
      "text/plain": [
       "   Survived  Pclass     Sex   Age  SibSp  Parch Embarked Deck  FamilyMember  \\\n",
       "0         0       3    male  22.0      1      0        S    Z             1   \n",
       "1         1       1  female  38.0      1      0        C    C             1   \n",
       "2         1       3  female  26.0      0      0        S    Z             0   \n",
       "3         1       1  female  35.0      1      0        S    C             1   \n",
       "4         0       3    male  35.0      0      0        S    Z             0   \n",
       "\n",
       "   Solo  Baby Title FareBin  \n",
       "0     0     0    Mr     Low  \n",
       "1     0     0   Mrs    High  \n",
       "2     1     0  Miss     Low  \n",
       "3     0     0   Mrs    High  \n",
       "4     1     0    Mr     Low  "
      ]
     },
     "execution_count": 565,
     "metadata": {},
     "output_type": "execute_result"
    }
   ],
   "source": [
    "df_train2.head()"
   ]
  },
  {
   "cell_type": "code",
   "execution_count": 566,
   "metadata": {
    "colab": {
     "base_uri": "https://localhost:8080/",
     "height": 206
    },
    "id": "fHHUqf5u1X0r",
    "outputId": "bb021ceb-7366-41a3-94e8-a95d892ff5a1"
   },
   "outputs": [
    {
     "data": {
      "text/html": [
       "<div>\n",
       "<style scoped>\n",
       "    .dataframe tbody tr th:only-of-type {\n",
       "        vertical-align: middle;\n",
       "    }\n",
       "\n",
       "    .dataframe tbody tr th {\n",
       "        vertical-align: top;\n",
       "    }\n",
       "\n",
       "    .dataframe thead th {\n",
       "        text-align: right;\n",
       "    }\n",
       "</style>\n",
       "<table border=\"1\" class=\"dataframe\">\n",
       "  <thead>\n",
       "    <tr style=\"text-align: right;\">\n",
       "      <th></th>\n",
       "      <th>PassengerId</th>\n",
       "      <th>Pclass</th>\n",
       "      <th>Name</th>\n",
       "      <th>Sex</th>\n",
       "      <th>Age</th>\n",
       "      <th>SibSp</th>\n",
       "      <th>Parch</th>\n",
       "      <th>Ticket</th>\n",
       "      <th>Fare</th>\n",
       "      <th>Cabin</th>\n",
       "      <th>Embarked</th>\n",
       "    </tr>\n",
       "  </thead>\n",
       "  <tbody>\n",
       "    <tr>\n",
       "      <th>0</th>\n",
       "      <td>892</td>\n",
       "      <td>3</td>\n",
       "      <td>Kelly, Mr. James</td>\n",
       "      <td>male</td>\n",
       "      <td>34.5</td>\n",
       "      <td>0</td>\n",
       "      <td>0</td>\n",
       "      <td>330911</td>\n",
       "      <td>7.8292</td>\n",
       "      <td>NaN</td>\n",
       "      <td>Q</td>\n",
       "    </tr>\n",
       "    <tr>\n",
       "      <th>1</th>\n",
       "      <td>893</td>\n",
       "      <td>3</td>\n",
       "      <td>Wilkes, Mrs. James (Ellen Needs)</td>\n",
       "      <td>female</td>\n",
       "      <td>47.0</td>\n",
       "      <td>1</td>\n",
       "      <td>0</td>\n",
       "      <td>363272</td>\n",
       "      <td>7.0000</td>\n",
       "      <td>NaN</td>\n",
       "      <td>S</td>\n",
       "    </tr>\n",
       "    <tr>\n",
       "      <th>2</th>\n",
       "      <td>894</td>\n",
       "      <td>2</td>\n",
       "      <td>Myles, Mr. Thomas Francis</td>\n",
       "      <td>male</td>\n",
       "      <td>62.0</td>\n",
       "      <td>0</td>\n",
       "      <td>0</td>\n",
       "      <td>240276</td>\n",
       "      <td>9.6875</td>\n",
       "      <td>NaN</td>\n",
       "      <td>Q</td>\n",
       "    </tr>\n",
       "    <tr>\n",
       "      <th>3</th>\n",
       "      <td>895</td>\n",
       "      <td>3</td>\n",
       "      <td>Wirz, Mr. Albert</td>\n",
       "      <td>male</td>\n",
       "      <td>27.0</td>\n",
       "      <td>0</td>\n",
       "      <td>0</td>\n",
       "      <td>315154</td>\n",
       "      <td>8.6625</td>\n",
       "      <td>NaN</td>\n",
       "      <td>S</td>\n",
       "    </tr>\n",
       "    <tr>\n",
       "      <th>4</th>\n",
       "      <td>896</td>\n",
       "      <td>3</td>\n",
       "      <td>Hirvonen, Mrs. Alexander (Helga E Lindqvist)</td>\n",
       "      <td>female</td>\n",
       "      <td>22.0</td>\n",
       "      <td>1</td>\n",
       "      <td>1</td>\n",
       "      <td>3101298</td>\n",
       "      <td>12.2875</td>\n",
       "      <td>NaN</td>\n",
       "      <td>S</td>\n",
       "    </tr>\n",
       "  </tbody>\n",
       "</table>\n",
       "</div>"
      ],
      "text/plain": [
       "   PassengerId  Pclass                                          Name     Sex  \\\n",
       "0          892       3                              Kelly, Mr. James    male   \n",
       "1          893       3              Wilkes, Mrs. James (Ellen Needs)  female   \n",
       "2          894       2                     Myles, Mr. Thomas Francis    male   \n",
       "3          895       3                              Wirz, Mr. Albert    male   \n",
       "4          896       3  Hirvonen, Mrs. Alexander (Helga E Lindqvist)  female   \n",
       "\n",
       "    Age  SibSp  Parch   Ticket     Fare Cabin Embarked  \n",
       "0  34.5      0      0   330911   7.8292   NaN        Q  \n",
       "1  47.0      1      0   363272   7.0000   NaN        S  \n",
       "2  62.0      0      0   240276   9.6875   NaN        Q  \n",
       "3  27.0      0      0   315154   8.6625   NaN        S  \n",
       "4  22.0      1      1  3101298  12.2875   NaN        S  "
      ]
     },
     "execution_count": 566,
     "metadata": {},
     "output_type": "execute_result"
    }
   ],
   "source": [
    "df_backtesting2.head()"
   ]
  },
  {
   "cell_type": "code",
   "execution_count": 567,
   "metadata": {
    "id": "WfLakCUt2MSV"
   },
   "outputs": [],
   "source": [
    "df_backtesting2['Deck'] = df_backtesting2.Cabin.str.extract('([a-zA-Z]+)', expand=False)\n",
    "df_backtesting2[['Cabin', 'Deck']].sample(10)\n",
    "df_backtesting2['Deck'] = df_backtesting2['Deck'].fillna('Z')\n",
    "df_backtesting2 = df_backtesting2.drop(['Cabin'], axis=1)"
   ]
  },
  {
   "cell_type": "code",
   "execution_count": 568,
   "metadata": {
    "id": "nrbOTrHr66DY"
   },
   "outputs": [],
   "source": [
    "df_backtesting2['FamilyMember'] = df_backtesting2['SibSp'] + df_backtesting2['Parch']"
   ]
  },
  {
   "cell_type": "code",
   "execution_count": 569,
   "metadata": {
    "id": "IJk5dUM968gV"
   },
   "outputs": [],
   "source": [
    "df_backtesting2['Solo'] = 1 #default value\n",
    "df_backtesting2['Solo'].loc[df_backtesting2['FamilyMember'] > 0] = 0"
   ]
  },
  {
   "cell_type": "code",
   "execution_count": 570,
   "metadata": {
    "id": "Ve4zB8Lo7ALy"
   },
   "outputs": [],
   "source": [
    "df_backtesting2['Baby'] = 0 #default value\n",
    "df_backtesting2['Baby'].loc[df_backtesting2['Age'] <= 5] = 1"
   ]
  },
  {
   "cell_type": "code",
   "execution_count": 571,
   "metadata": {
    "_uuid": "b02738deedc6c3954009d5a30aeaccd5905bcb77",
    "id": "DunbG3cezuim"
   },
   "outputs": [],
   "source": [
    "df_backtesting2['Title'] = df_backtesting2.Name.str.extract(' ([A-Za-z]+)\\.', expand=False)"
   ]
  },
  {
   "cell_type": "code",
   "execution_count": 572,
   "metadata": {
    "_uuid": "ba02bd0e7c612f3b241693b3b93cd8e1197e7405",
    "id": "uotLRChAzuin"
   },
   "outputs": [],
   "source": [
    "df_backtesting2['Title'] = df_backtesting2['Title'].replace(['Lady', 'Capt', 'Col', 'Don', 'Dr', 'Major', 'Rev', 'Jonkheer', 'Dona'], 'Rare')  \n",
    "df_backtesting2['Title'] = df_backtesting2['Title'].replace(['Countess', 'Lady', 'Sir'], 'Royal')\n",
    "df_backtesting2['Title'] = df_backtesting2['Title'].replace('Mlle', 'Miss')\n",
    "df_backtesting2['Title'] = df_backtesting2['Title'].replace('Ms', 'Miss')\n",
    "df_backtesting2['Title'] = df_backtesting2['Title'].replace('Mme', 'Mrs')"
   ]
  },
  {
   "cell_type": "code",
   "execution_count": 573,
   "metadata": {
    "id": "luQzTqhxzuio"
   },
   "outputs": [],
   "source": [
    "df_backtesting2['Title'] = df_backtesting2['Title'].astype('object')"
   ]
  },
  {
   "cell_type": "code",
   "execution_count": 574,
   "metadata": {
    "_uuid": "0b0cd25d7331053c8d0fd7f4303e536e68001b39",
    "id": "Q0EANlvgzuip"
   },
   "outputs": [],
   "source": [
    "bins = [-np.inf, 20, 30, 110, np.inf]\n",
    "labels = ['Low', 'Mid', 'High', 'Extreme']\n",
    "df_backtesting2['FareBin'] = pd.cut(df_backtesting2[\"Fare\"], bins, labels = labels).astype('object')"
   ]
  },
  {
   "cell_type": "code",
   "execution_count": 575,
   "metadata": {
    "id": "Vi8FWoCm7AYB"
   },
   "outputs": [],
   "source": [
    "# Drop high cardinality columns\n",
    "df_backtesting2 = df_backtesting2.drop(['PassengerId','Ticket', 'Name', 'Fare'], axis=1)"
   ]
  },
  {
   "cell_type": "code",
   "execution_count": 576,
   "metadata": {
    "colab": {
     "base_uri": "https://localhost:8080/",
     "height": 206
    },
    "id": "murnL3dq3qgy",
    "outputId": "4c917d44-a01b-4156-c35c-303b20423756"
   },
   "outputs": [
    {
     "data": {
      "text/html": [
       "<div>\n",
       "<style scoped>\n",
       "    .dataframe tbody tr th:only-of-type {\n",
       "        vertical-align: middle;\n",
       "    }\n",
       "\n",
       "    .dataframe tbody tr th {\n",
       "        vertical-align: top;\n",
       "    }\n",
       "\n",
       "    .dataframe thead th {\n",
       "        text-align: right;\n",
       "    }\n",
       "</style>\n",
       "<table border=\"1\" class=\"dataframe\">\n",
       "  <thead>\n",
       "    <tr style=\"text-align: right;\">\n",
       "      <th></th>\n",
       "      <th>Pclass</th>\n",
       "      <th>Sex</th>\n",
       "      <th>Age</th>\n",
       "      <th>SibSp</th>\n",
       "      <th>Parch</th>\n",
       "      <th>Embarked</th>\n",
       "      <th>Deck</th>\n",
       "      <th>FamilyMember</th>\n",
       "      <th>Solo</th>\n",
       "      <th>Baby</th>\n",
       "      <th>Title</th>\n",
       "      <th>FareBin</th>\n",
       "    </tr>\n",
       "  </thead>\n",
       "  <tbody>\n",
       "    <tr>\n",
       "      <th>0</th>\n",
       "      <td>3</td>\n",
       "      <td>male</td>\n",
       "      <td>34.5</td>\n",
       "      <td>0</td>\n",
       "      <td>0</td>\n",
       "      <td>Q</td>\n",
       "      <td>Z</td>\n",
       "      <td>0</td>\n",
       "      <td>1</td>\n",
       "      <td>0</td>\n",
       "      <td>Mr</td>\n",
       "      <td>Low</td>\n",
       "    </tr>\n",
       "    <tr>\n",
       "      <th>1</th>\n",
       "      <td>3</td>\n",
       "      <td>female</td>\n",
       "      <td>47.0</td>\n",
       "      <td>1</td>\n",
       "      <td>0</td>\n",
       "      <td>S</td>\n",
       "      <td>Z</td>\n",
       "      <td>1</td>\n",
       "      <td>0</td>\n",
       "      <td>0</td>\n",
       "      <td>Mrs</td>\n",
       "      <td>Low</td>\n",
       "    </tr>\n",
       "    <tr>\n",
       "      <th>2</th>\n",
       "      <td>2</td>\n",
       "      <td>male</td>\n",
       "      <td>62.0</td>\n",
       "      <td>0</td>\n",
       "      <td>0</td>\n",
       "      <td>Q</td>\n",
       "      <td>Z</td>\n",
       "      <td>0</td>\n",
       "      <td>1</td>\n",
       "      <td>0</td>\n",
       "      <td>Mr</td>\n",
       "      <td>Low</td>\n",
       "    </tr>\n",
       "    <tr>\n",
       "      <th>3</th>\n",
       "      <td>3</td>\n",
       "      <td>male</td>\n",
       "      <td>27.0</td>\n",
       "      <td>0</td>\n",
       "      <td>0</td>\n",
       "      <td>S</td>\n",
       "      <td>Z</td>\n",
       "      <td>0</td>\n",
       "      <td>1</td>\n",
       "      <td>0</td>\n",
       "      <td>Mr</td>\n",
       "      <td>Low</td>\n",
       "    </tr>\n",
       "    <tr>\n",
       "      <th>4</th>\n",
       "      <td>3</td>\n",
       "      <td>female</td>\n",
       "      <td>22.0</td>\n",
       "      <td>1</td>\n",
       "      <td>1</td>\n",
       "      <td>S</td>\n",
       "      <td>Z</td>\n",
       "      <td>2</td>\n",
       "      <td>0</td>\n",
       "      <td>0</td>\n",
       "      <td>Mrs</td>\n",
       "      <td>Low</td>\n",
       "    </tr>\n",
       "  </tbody>\n",
       "</table>\n",
       "</div>"
      ],
      "text/plain": [
       "   Pclass     Sex   Age  SibSp  Parch Embarked Deck  FamilyMember  Solo  Baby  \\\n",
       "0       3    male  34.5      0      0        Q    Z             0     1     0   \n",
       "1       3  female  47.0      1      0        S    Z             1     0     0   \n",
       "2       2    male  62.0      0      0        Q    Z             0     1     0   \n",
       "3       3    male  27.0      0      0        S    Z             0     1     0   \n",
       "4       3  female  22.0      1      1        S    Z             2     0     0   \n",
       "\n",
       "  Title FareBin  \n",
       "0    Mr     Low  \n",
       "1   Mrs     Low  \n",
       "2    Mr     Low  \n",
       "3    Mr     Low  \n",
       "4   Mrs     Low  "
      ]
     },
     "execution_count": 576,
     "metadata": {},
     "output_type": "execute_result"
    }
   ],
   "source": [
    "df_backtesting2.head()"
   ]
  },
  {
   "cell_type": "code",
   "execution_count": 577,
   "metadata": {
    "id": "XA4RXdG0FRNX"
   },
   "outputs": [],
   "source": [
    "#grouping columns by number and object\n",
    "df_train2_num = df_train2.select_dtypes(include = 'number')\n",
    "df_train2_obj = df_train2.select_dtypes(include = 'object')\n",
    "df_backtesting2_num = df_backtesting2.select_dtypes(include = 'number')\n",
    "df_backtesting2_obj = df_backtesting2.select_dtypes(include = 'object')"
   ]
  },
  {
   "cell_type": "markdown",
   "metadata": {
    "id": "FIrl-sr0Fr8R"
   },
   "source": [
    "*   **Handling Missing Values**"
   ]
  },
  {
   "cell_type": "code",
   "execution_count": 578,
   "metadata": {
    "id": "IPb8K7MsFRq1"
   },
   "outputs": [],
   "source": [
    "#1. Imputation Object Column\n",
    "from sklearn.impute import SimpleImputer\n",
    "simple = SimpleImputer(strategy='most_frequent')"
   ]
  },
  {
   "cell_type": "code",
   "execution_count": 579,
   "metadata": {
    "id": "KyTGl6dwOr2R"
   },
   "outputs": [],
   "source": [
    "df_train2_obj_mode = simple.fit_transform(df_train2_obj)"
   ]
  },
  {
   "cell_type": "code",
   "execution_count": 580,
   "metadata": {
    "colab": {
     "base_uri": "https://localhost:8080/"
    },
    "id": "cpoGz2jQRqXF",
    "outputId": "2dc82a52-330f-4fce-a4a5-780d26981abe"
   },
   "outputs": [
    {
     "data": {
      "text/plain": [
       "0"
      ]
     },
     "execution_count": 580,
     "metadata": {},
     "output_type": "execute_result"
    }
   ],
   "source": [
    "df_train2_obj_mode = pd.DataFrame(df_train2_obj_mode)\n",
    "df_train2_obj_mode.columns = df_train2_obj.columns\n",
    "df_train2_obj_mode.isna().sum().sum()"
   ]
  },
  {
   "cell_type": "code",
   "execution_count": 581,
   "metadata": {
    "colab": {
     "base_uri": "https://localhost:8080/",
     "height": 206
    },
    "id": "HpsD4K-FQ0oW",
    "outputId": "45a9117f-2ee9-4fe2-da19-48ebd01120c9"
   },
   "outputs": [
    {
     "data": {
      "text/html": [
       "<div>\n",
       "<style scoped>\n",
       "    .dataframe tbody tr th:only-of-type {\n",
       "        vertical-align: middle;\n",
       "    }\n",
       "\n",
       "    .dataframe tbody tr th {\n",
       "        vertical-align: top;\n",
       "    }\n",
       "\n",
       "    .dataframe thead th {\n",
       "        text-align: right;\n",
       "    }\n",
       "</style>\n",
       "<table border=\"1\" class=\"dataframe\">\n",
       "  <thead>\n",
       "    <tr style=\"text-align: right;\">\n",
       "      <th></th>\n",
       "      <th>Sex</th>\n",
       "      <th>Embarked</th>\n",
       "      <th>Deck</th>\n",
       "      <th>Title</th>\n",
       "      <th>FareBin</th>\n",
       "    </tr>\n",
       "  </thead>\n",
       "  <tbody>\n",
       "    <tr>\n",
       "      <th>0</th>\n",
       "      <td>male</td>\n",
       "      <td>S</td>\n",
       "      <td>Z</td>\n",
       "      <td>Mr</td>\n",
       "      <td>Low</td>\n",
       "    </tr>\n",
       "    <tr>\n",
       "      <th>1</th>\n",
       "      <td>female</td>\n",
       "      <td>C</td>\n",
       "      <td>C</td>\n",
       "      <td>Mrs</td>\n",
       "      <td>High</td>\n",
       "    </tr>\n",
       "    <tr>\n",
       "      <th>2</th>\n",
       "      <td>female</td>\n",
       "      <td>S</td>\n",
       "      <td>Z</td>\n",
       "      <td>Miss</td>\n",
       "      <td>Low</td>\n",
       "    </tr>\n",
       "    <tr>\n",
       "      <th>3</th>\n",
       "      <td>female</td>\n",
       "      <td>S</td>\n",
       "      <td>C</td>\n",
       "      <td>Mrs</td>\n",
       "      <td>High</td>\n",
       "    </tr>\n",
       "    <tr>\n",
       "      <th>4</th>\n",
       "      <td>male</td>\n",
       "      <td>S</td>\n",
       "      <td>Z</td>\n",
       "      <td>Mr</td>\n",
       "      <td>Low</td>\n",
       "    </tr>\n",
       "  </tbody>\n",
       "</table>\n",
       "</div>"
      ],
      "text/plain": [
       "      Sex Embarked Deck Title FareBin\n",
       "0    male        S    Z    Mr     Low\n",
       "1  female        C    C   Mrs    High\n",
       "2  female        S    Z  Miss     Low\n",
       "3  female        S    C   Mrs    High\n",
       "4    male        S    Z    Mr     Low"
      ]
     },
     "execution_count": 581,
     "metadata": {},
     "output_type": "execute_result"
    }
   ],
   "source": [
    "df_train2_obj_mode.head()"
   ]
  },
  {
   "cell_type": "code",
   "execution_count": 582,
   "metadata": {
    "id": "2rUy6Gr1SqBp"
   },
   "outputs": [],
   "source": [
    "df_backtesting2_obj_mode = simple.fit_transform(df_backtesting2_obj)"
   ]
  },
  {
   "cell_type": "code",
   "execution_count": 583,
   "metadata": {
    "colab": {
     "base_uri": "https://localhost:8080/"
    },
    "id": "MLfm82UFSqBq",
    "outputId": "1d04db0c-1de8-457c-8b4e-aa9b71981a97"
   },
   "outputs": [
    {
     "data": {
      "text/plain": [
       "0"
      ]
     },
     "execution_count": 583,
     "metadata": {},
     "output_type": "execute_result"
    }
   ],
   "source": [
    "df_backtesting2_obj_mode = pd.DataFrame(df_backtesting2_obj_mode)\n",
    "df_backtesting2_obj_mode.columns = df_backtesting2_obj.columns\n",
    "df_backtesting2_obj_mode.isna().sum().sum()"
   ]
  },
  {
   "cell_type": "code",
   "execution_count": 584,
   "metadata": {
    "colab": {
     "base_uri": "https://localhost:8080/",
     "height": 206
    },
    "id": "-MiY4EElSqBq",
    "outputId": "31a7e7c1-0c62-44f9-c118-b4698cd24703"
   },
   "outputs": [
    {
     "data": {
      "text/html": [
       "<div>\n",
       "<style scoped>\n",
       "    .dataframe tbody tr th:only-of-type {\n",
       "        vertical-align: middle;\n",
       "    }\n",
       "\n",
       "    .dataframe tbody tr th {\n",
       "        vertical-align: top;\n",
       "    }\n",
       "\n",
       "    .dataframe thead th {\n",
       "        text-align: right;\n",
       "    }\n",
       "</style>\n",
       "<table border=\"1\" class=\"dataframe\">\n",
       "  <thead>\n",
       "    <tr style=\"text-align: right;\">\n",
       "      <th></th>\n",
       "      <th>Sex</th>\n",
       "      <th>Embarked</th>\n",
       "      <th>Deck</th>\n",
       "      <th>Title</th>\n",
       "      <th>FareBin</th>\n",
       "    </tr>\n",
       "  </thead>\n",
       "  <tbody>\n",
       "    <tr>\n",
       "      <th>0</th>\n",
       "      <td>male</td>\n",
       "      <td>Q</td>\n",
       "      <td>Z</td>\n",
       "      <td>Mr</td>\n",
       "      <td>Low</td>\n",
       "    </tr>\n",
       "    <tr>\n",
       "      <th>1</th>\n",
       "      <td>female</td>\n",
       "      <td>S</td>\n",
       "      <td>Z</td>\n",
       "      <td>Mrs</td>\n",
       "      <td>Low</td>\n",
       "    </tr>\n",
       "    <tr>\n",
       "      <th>2</th>\n",
       "      <td>male</td>\n",
       "      <td>Q</td>\n",
       "      <td>Z</td>\n",
       "      <td>Mr</td>\n",
       "      <td>Low</td>\n",
       "    </tr>\n",
       "    <tr>\n",
       "      <th>3</th>\n",
       "      <td>male</td>\n",
       "      <td>S</td>\n",
       "      <td>Z</td>\n",
       "      <td>Mr</td>\n",
       "      <td>Low</td>\n",
       "    </tr>\n",
       "    <tr>\n",
       "      <th>4</th>\n",
       "      <td>female</td>\n",
       "      <td>S</td>\n",
       "      <td>Z</td>\n",
       "      <td>Mrs</td>\n",
       "      <td>Low</td>\n",
       "    </tr>\n",
       "  </tbody>\n",
       "</table>\n",
       "</div>"
      ],
      "text/plain": [
       "      Sex Embarked Deck Title FareBin\n",
       "0    male        Q    Z    Mr     Low\n",
       "1  female        S    Z   Mrs     Low\n",
       "2    male        Q    Z    Mr     Low\n",
       "3    male        S    Z    Mr     Low\n",
       "4  female        S    Z   Mrs     Low"
      ]
     },
     "execution_count": 584,
     "metadata": {},
     "output_type": "execute_result"
    }
   ],
   "source": [
    "df_backtesting2_obj_mode.head()"
   ]
  },
  {
   "cell_type": "code",
   "execution_count": 585,
   "metadata": {
    "id": "HsV4l3MTk-84"
   },
   "outputs": [],
   "source": [
    "#2. Imputation Numeric Column\n",
    "from sklearn.impute import SimpleImputer\n",
    "simplemed = SimpleImputer(strategy='most_frequent')"
   ]
  },
  {
   "cell_type": "code",
   "execution_count": 586,
   "metadata": {
    "id": "IlsNXUIbk-84"
   },
   "outputs": [],
   "source": [
    "df_train2_num_knn2 = simplemed.fit_transform(df_train2_num)"
   ]
  },
  {
   "cell_type": "code",
   "execution_count": 587,
   "metadata": {
    "colab": {
     "base_uri": "https://localhost:8080/"
    },
    "id": "PxZaTw-tk-85",
    "outputId": "8fcd39a1-4752-4c5c-9206-197988416a58"
   },
   "outputs": [
    {
     "data": {
      "text/plain": [
       "0"
      ]
     },
     "execution_count": 587,
     "metadata": {},
     "output_type": "execute_result"
    }
   ],
   "source": [
    "df_train2_num_knn2 = pd.DataFrame(df_train2_num_knn2)\n",
    "df_train2_num_knn2.columns = df_train2_num.columns\n",
    "df_train2_num_knn2.isna().sum().sum()"
   ]
  },
  {
   "cell_type": "code",
   "execution_count": 588,
   "metadata": {
    "colab": {
     "base_uri": "https://localhost:8080/"
    },
    "id": "4-eivfnXORNs",
    "outputId": "aa4cd9ba-1324-4b02-f17a-a41389bbaab2"
   },
   "outputs": [
    {
     "data": {
      "text/plain": [
       "0"
      ]
     },
     "execution_count": 588,
     "metadata": {},
     "output_type": "execute_result"
    }
   ],
   "source": [
    "df_backtesting2_num_knn2 = pd.DataFrame(simplemed.fit_transform(df_backtesting2_num))\n",
    "df_backtesting2_num_knn2.columns = df_backtesting2_num.columns\n",
    "df_backtesting2_num_knn2.isna().sum().sum()"
   ]
  },
  {
   "cell_type": "markdown",
   "metadata": {
    "id": "F-S1eC1Wpndl"
   },
   "source": [
    "# **4. Feature Engineering**"
   ]
  },
  {
   "cell_type": "markdown",
   "metadata": {
    "id": "USIyS0AS6IBX"
   },
   "source": [
    "*   **Feature Transformation** "
   ]
  },
  {
   "cell_type": "code",
   "execution_count": 589,
   "metadata": {
    "id": "YuaNoKxjORUb"
   },
   "outputs": [],
   "source": [
    "#1. Scalling\n",
    "from sklearn.preprocessing import MinMaxScaler"
   ]
  },
  {
   "cell_type": "code",
   "execution_count": 590,
   "metadata": {
    "id": "xtq3cxPcORbU"
   },
   "outputs": [],
   "source": [
    "scaler = MinMaxScaler()"
   ]
  },
  {
   "cell_type": "code",
   "execution_count": 591,
   "metadata": {
    "id": "pOITavBrORgf"
   },
   "outputs": [],
   "source": [
    "df_train2_num_scaled = scaler.fit_transform(df_train2_num_knn2)"
   ]
  },
  {
   "cell_type": "code",
   "execution_count": 592,
   "metadata": {
    "id": "pSbWOsDiORll"
   },
   "outputs": [],
   "source": [
    "df_train2_num_scaled = pd.DataFrame(df_train2_num_scaled)\n",
    "df_train2_num_scaled.columns = df_train2_num_knn2.columns"
   ]
  },
  {
   "cell_type": "code",
   "execution_count": 593,
   "metadata": {
    "id": "oNQbygnpORs6"
   },
   "outputs": [],
   "source": [
    "df_backtesting2_num_scaled = scaler.fit_transform(df_backtesting2_num_knn2)"
   ]
  },
  {
   "cell_type": "code",
   "execution_count": 594,
   "metadata": {
    "id": "K7k_qWYDORys"
   },
   "outputs": [],
   "source": [
    "df_backtesting2_num_scaled = pd.DataFrame(df_backtesting2_num_scaled)\n",
    "df_backtesting2_num_scaled.columns = df_backtesting2_num_knn2.columns"
   ]
  },
  {
   "cell_type": "code",
   "execution_count": 595,
   "metadata": {
    "colab": {
     "base_uri": "https://localhost:8080/",
     "height": 206
    },
    "id": "whxxKdsglZei",
    "outputId": "b1e233b9-a869-4297-f45c-596c1103816f"
   },
   "outputs": [
    {
     "data": {
      "text/html": [
       "<div>\n",
       "<style scoped>\n",
       "    .dataframe tbody tr th:only-of-type {\n",
       "        vertical-align: middle;\n",
       "    }\n",
       "\n",
       "    .dataframe tbody tr th {\n",
       "        vertical-align: top;\n",
       "    }\n",
       "\n",
       "    .dataframe thead th {\n",
       "        text-align: right;\n",
       "    }\n",
       "</style>\n",
       "<table border=\"1\" class=\"dataframe\">\n",
       "  <thead>\n",
       "    <tr style=\"text-align: right;\">\n",
       "      <th></th>\n",
       "      <th>Pclass</th>\n",
       "      <th>Age</th>\n",
       "      <th>SibSp</th>\n",
       "      <th>Parch</th>\n",
       "      <th>FamilyMember</th>\n",
       "      <th>Solo</th>\n",
       "      <th>Baby</th>\n",
       "    </tr>\n",
       "  </thead>\n",
       "  <tbody>\n",
       "    <tr>\n",
       "      <th>0</th>\n",
       "      <td>1.0</td>\n",
       "      <td>0.452723</td>\n",
       "      <td>0.000</td>\n",
       "      <td>0.000000</td>\n",
       "      <td>0.0</td>\n",
       "      <td>1.0</td>\n",
       "      <td>0.0</td>\n",
       "    </tr>\n",
       "    <tr>\n",
       "      <th>1</th>\n",
       "      <td>1.0</td>\n",
       "      <td>0.617566</td>\n",
       "      <td>0.125</td>\n",
       "      <td>0.000000</td>\n",
       "      <td>0.1</td>\n",
       "      <td>0.0</td>\n",
       "      <td>0.0</td>\n",
       "    </tr>\n",
       "    <tr>\n",
       "      <th>2</th>\n",
       "      <td>0.5</td>\n",
       "      <td>0.815377</td>\n",
       "      <td>0.000</td>\n",
       "      <td>0.000000</td>\n",
       "      <td>0.0</td>\n",
       "      <td>1.0</td>\n",
       "      <td>0.0</td>\n",
       "    </tr>\n",
       "    <tr>\n",
       "      <th>3</th>\n",
       "      <td>1.0</td>\n",
       "      <td>0.353818</td>\n",
       "      <td>0.000</td>\n",
       "      <td>0.000000</td>\n",
       "      <td>0.0</td>\n",
       "      <td>1.0</td>\n",
       "      <td>0.0</td>\n",
       "    </tr>\n",
       "    <tr>\n",
       "      <th>4</th>\n",
       "      <td>1.0</td>\n",
       "      <td>0.287881</td>\n",
       "      <td>0.125</td>\n",
       "      <td>0.111111</td>\n",
       "      <td>0.2</td>\n",
       "      <td>0.0</td>\n",
       "      <td>0.0</td>\n",
       "    </tr>\n",
       "  </tbody>\n",
       "</table>\n",
       "</div>"
      ],
      "text/plain": [
       "   Pclass       Age  SibSp     Parch  FamilyMember  Solo  Baby\n",
       "0     1.0  0.452723  0.000  0.000000           0.0   1.0   0.0\n",
       "1     1.0  0.617566  0.125  0.000000           0.1   0.0   0.0\n",
       "2     0.5  0.815377  0.000  0.000000           0.0   1.0   0.0\n",
       "3     1.0  0.353818  0.000  0.000000           0.0   1.0   0.0\n",
       "4     1.0  0.287881  0.125  0.111111           0.2   0.0   0.0"
      ]
     },
     "execution_count": 595,
     "metadata": {},
     "output_type": "execute_result"
    }
   ],
   "source": [
    "df_backtesting2_num_scaled.head()"
   ]
  },
  {
   "cell_type": "code",
   "execution_count": 596,
   "metadata": {
    "id": "A0Qh4BULOR4C"
   },
   "outputs": [],
   "source": [
    "#2. Encoding The Object Columns\n",
    "from sklearn.preprocessing import OneHotEncoder\n",
    "ohe = OneHotEncoder(handle_unknown='ignore')"
   ]
  },
  {
   "cell_type": "code",
   "execution_count": 597,
   "metadata": {
    "colab": {
     "base_uri": "https://localhost:8080/"
    },
    "id": "XM2cd2tajzhO",
    "outputId": "34495657-da42-4da5-f105-85e1ae640cfd"
   },
   "outputs": [
    {
     "data": {
      "text/plain": [
       "OneHotEncoder(handle_unknown='ignore')"
      ]
     },
     "execution_count": 597,
     "metadata": {},
     "output_type": "execute_result"
    }
   ],
   "source": [
    "ohe.fit(df_train2_obj_mode)"
   ]
  },
  {
   "cell_type": "code",
   "execution_count": 598,
   "metadata": {
    "colab": {
     "base_uri": "https://localhost:8080/",
     "height": 488
    },
    "id": "qQy9EsOho6JW",
    "outputId": "ee195c68-2986-48e3-94e8-5483aafadafd"
   },
   "outputs": [
    {
     "data": {
      "text/html": [
       "<div>\n",
       "<style scoped>\n",
       "    .dataframe tbody tr th:only-of-type {\n",
       "        vertical-align: middle;\n",
       "    }\n",
       "\n",
       "    .dataframe tbody tr th {\n",
       "        vertical-align: top;\n",
       "    }\n",
       "\n",
       "    .dataframe thead th {\n",
       "        text-align: right;\n",
       "    }\n",
       "</style>\n",
       "<table border=\"1\" class=\"dataframe\">\n",
       "  <thead>\n",
       "    <tr style=\"text-align: right;\">\n",
       "      <th></th>\n",
       "      <th>Sex_female</th>\n",
       "      <th>Sex_male</th>\n",
       "      <th>Embarked_C</th>\n",
       "      <th>Embarked_Q</th>\n",
       "      <th>Embarked_S</th>\n",
       "      <th>Deck_A</th>\n",
       "      <th>Deck_B</th>\n",
       "      <th>Deck_C</th>\n",
       "      <th>Deck_D</th>\n",
       "      <th>Deck_E</th>\n",
       "      <th>Deck_F</th>\n",
       "      <th>Deck_G</th>\n",
       "      <th>Deck_T</th>\n",
       "      <th>Deck_Z</th>\n",
       "      <th>Title_Master</th>\n",
       "      <th>Title_Miss</th>\n",
       "      <th>Title_Mr</th>\n",
       "      <th>Title_Mrs</th>\n",
       "      <th>Title_Rare</th>\n",
       "      <th>Title_Royal</th>\n",
       "      <th>FareBin_Extreme</th>\n",
       "      <th>FareBin_High</th>\n",
       "      <th>FareBin_Low</th>\n",
       "      <th>FareBin_Mid</th>\n",
       "    </tr>\n",
       "  </thead>\n",
       "  <tbody>\n",
       "    <tr>\n",
       "      <th>0</th>\n",
       "      <td>0.0</td>\n",
       "      <td>1.0</td>\n",
       "      <td>0.0</td>\n",
       "      <td>0.0</td>\n",
       "      <td>1.0</td>\n",
       "      <td>0.0</td>\n",
       "      <td>0.0</td>\n",
       "      <td>0.0</td>\n",
       "      <td>0.0</td>\n",
       "      <td>0.0</td>\n",
       "      <td>0.0</td>\n",
       "      <td>0.0</td>\n",
       "      <td>0.0</td>\n",
       "      <td>1.0</td>\n",
       "      <td>0.0</td>\n",
       "      <td>0.0</td>\n",
       "      <td>1.0</td>\n",
       "      <td>0.0</td>\n",
       "      <td>0.0</td>\n",
       "      <td>0.0</td>\n",
       "      <td>0.0</td>\n",
       "      <td>0.0</td>\n",
       "      <td>1.0</td>\n",
       "      <td>0.0</td>\n",
       "    </tr>\n",
       "    <tr>\n",
       "      <th>1</th>\n",
       "      <td>1.0</td>\n",
       "      <td>0.0</td>\n",
       "      <td>1.0</td>\n",
       "      <td>0.0</td>\n",
       "      <td>0.0</td>\n",
       "      <td>0.0</td>\n",
       "      <td>0.0</td>\n",
       "      <td>1.0</td>\n",
       "      <td>0.0</td>\n",
       "      <td>0.0</td>\n",
       "      <td>0.0</td>\n",
       "      <td>0.0</td>\n",
       "      <td>0.0</td>\n",
       "      <td>0.0</td>\n",
       "      <td>0.0</td>\n",
       "      <td>0.0</td>\n",
       "      <td>0.0</td>\n",
       "      <td>1.0</td>\n",
       "      <td>0.0</td>\n",
       "      <td>0.0</td>\n",
       "      <td>0.0</td>\n",
       "      <td>1.0</td>\n",
       "      <td>0.0</td>\n",
       "      <td>0.0</td>\n",
       "    </tr>\n",
       "    <tr>\n",
       "      <th>2</th>\n",
       "      <td>1.0</td>\n",
       "      <td>0.0</td>\n",
       "      <td>0.0</td>\n",
       "      <td>0.0</td>\n",
       "      <td>1.0</td>\n",
       "      <td>0.0</td>\n",
       "      <td>0.0</td>\n",
       "      <td>0.0</td>\n",
       "      <td>0.0</td>\n",
       "      <td>0.0</td>\n",
       "      <td>0.0</td>\n",
       "      <td>0.0</td>\n",
       "      <td>0.0</td>\n",
       "      <td>1.0</td>\n",
       "      <td>0.0</td>\n",
       "      <td>1.0</td>\n",
       "      <td>0.0</td>\n",
       "      <td>0.0</td>\n",
       "      <td>0.0</td>\n",
       "      <td>0.0</td>\n",
       "      <td>0.0</td>\n",
       "      <td>0.0</td>\n",
       "      <td>1.0</td>\n",
       "      <td>0.0</td>\n",
       "    </tr>\n",
       "    <tr>\n",
       "      <th>3</th>\n",
       "      <td>1.0</td>\n",
       "      <td>0.0</td>\n",
       "      <td>0.0</td>\n",
       "      <td>0.0</td>\n",
       "      <td>1.0</td>\n",
       "      <td>0.0</td>\n",
       "      <td>0.0</td>\n",
       "      <td>1.0</td>\n",
       "      <td>0.0</td>\n",
       "      <td>0.0</td>\n",
       "      <td>0.0</td>\n",
       "      <td>0.0</td>\n",
       "      <td>0.0</td>\n",
       "      <td>0.0</td>\n",
       "      <td>0.0</td>\n",
       "      <td>0.0</td>\n",
       "      <td>0.0</td>\n",
       "      <td>1.0</td>\n",
       "      <td>0.0</td>\n",
       "      <td>0.0</td>\n",
       "      <td>0.0</td>\n",
       "      <td>1.0</td>\n",
       "      <td>0.0</td>\n",
       "      <td>0.0</td>\n",
       "    </tr>\n",
       "    <tr>\n",
       "      <th>4</th>\n",
       "      <td>0.0</td>\n",
       "      <td>1.0</td>\n",
       "      <td>0.0</td>\n",
       "      <td>0.0</td>\n",
       "      <td>1.0</td>\n",
       "      <td>0.0</td>\n",
       "      <td>0.0</td>\n",
       "      <td>0.0</td>\n",
       "      <td>0.0</td>\n",
       "      <td>0.0</td>\n",
       "      <td>0.0</td>\n",
       "      <td>0.0</td>\n",
       "      <td>0.0</td>\n",
       "      <td>1.0</td>\n",
       "      <td>0.0</td>\n",
       "      <td>0.0</td>\n",
       "      <td>1.0</td>\n",
       "      <td>0.0</td>\n",
       "      <td>0.0</td>\n",
       "      <td>0.0</td>\n",
       "      <td>0.0</td>\n",
       "      <td>0.0</td>\n",
       "      <td>1.0</td>\n",
       "      <td>0.0</td>\n",
       "    </tr>\n",
       "    <tr>\n",
       "      <th>...</th>\n",
       "      <td>...</td>\n",
       "      <td>...</td>\n",
       "      <td>...</td>\n",
       "      <td>...</td>\n",
       "      <td>...</td>\n",
       "      <td>...</td>\n",
       "      <td>...</td>\n",
       "      <td>...</td>\n",
       "      <td>...</td>\n",
       "      <td>...</td>\n",
       "      <td>...</td>\n",
       "      <td>...</td>\n",
       "      <td>...</td>\n",
       "      <td>...</td>\n",
       "      <td>...</td>\n",
       "      <td>...</td>\n",
       "      <td>...</td>\n",
       "      <td>...</td>\n",
       "      <td>...</td>\n",
       "      <td>...</td>\n",
       "      <td>...</td>\n",
       "      <td>...</td>\n",
       "      <td>...</td>\n",
       "      <td>...</td>\n",
       "    </tr>\n",
       "    <tr>\n",
       "      <th>886</th>\n",
       "      <td>0.0</td>\n",
       "      <td>1.0</td>\n",
       "      <td>0.0</td>\n",
       "      <td>0.0</td>\n",
       "      <td>1.0</td>\n",
       "      <td>0.0</td>\n",
       "      <td>0.0</td>\n",
       "      <td>0.0</td>\n",
       "      <td>0.0</td>\n",
       "      <td>0.0</td>\n",
       "      <td>0.0</td>\n",
       "      <td>0.0</td>\n",
       "      <td>0.0</td>\n",
       "      <td>1.0</td>\n",
       "      <td>0.0</td>\n",
       "      <td>0.0</td>\n",
       "      <td>0.0</td>\n",
       "      <td>0.0</td>\n",
       "      <td>1.0</td>\n",
       "      <td>0.0</td>\n",
       "      <td>0.0</td>\n",
       "      <td>0.0</td>\n",
       "      <td>1.0</td>\n",
       "      <td>0.0</td>\n",
       "    </tr>\n",
       "    <tr>\n",
       "      <th>887</th>\n",
       "      <td>1.0</td>\n",
       "      <td>0.0</td>\n",
       "      <td>0.0</td>\n",
       "      <td>0.0</td>\n",
       "      <td>1.0</td>\n",
       "      <td>0.0</td>\n",
       "      <td>1.0</td>\n",
       "      <td>0.0</td>\n",
       "      <td>0.0</td>\n",
       "      <td>0.0</td>\n",
       "      <td>0.0</td>\n",
       "      <td>0.0</td>\n",
       "      <td>0.0</td>\n",
       "      <td>0.0</td>\n",
       "      <td>0.0</td>\n",
       "      <td>1.0</td>\n",
       "      <td>0.0</td>\n",
       "      <td>0.0</td>\n",
       "      <td>0.0</td>\n",
       "      <td>0.0</td>\n",
       "      <td>0.0</td>\n",
       "      <td>0.0</td>\n",
       "      <td>0.0</td>\n",
       "      <td>1.0</td>\n",
       "    </tr>\n",
       "    <tr>\n",
       "      <th>888</th>\n",
       "      <td>1.0</td>\n",
       "      <td>0.0</td>\n",
       "      <td>0.0</td>\n",
       "      <td>0.0</td>\n",
       "      <td>1.0</td>\n",
       "      <td>0.0</td>\n",
       "      <td>0.0</td>\n",
       "      <td>0.0</td>\n",
       "      <td>0.0</td>\n",
       "      <td>0.0</td>\n",
       "      <td>0.0</td>\n",
       "      <td>0.0</td>\n",
       "      <td>0.0</td>\n",
       "      <td>1.0</td>\n",
       "      <td>0.0</td>\n",
       "      <td>1.0</td>\n",
       "      <td>0.0</td>\n",
       "      <td>0.0</td>\n",
       "      <td>0.0</td>\n",
       "      <td>0.0</td>\n",
       "      <td>0.0</td>\n",
       "      <td>0.0</td>\n",
       "      <td>0.0</td>\n",
       "      <td>1.0</td>\n",
       "    </tr>\n",
       "    <tr>\n",
       "      <th>889</th>\n",
       "      <td>0.0</td>\n",
       "      <td>1.0</td>\n",
       "      <td>1.0</td>\n",
       "      <td>0.0</td>\n",
       "      <td>0.0</td>\n",
       "      <td>0.0</td>\n",
       "      <td>0.0</td>\n",
       "      <td>1.0</td>\n",
       "      <td>0.0</td>\n",
       "      <td>0.0</td>\n",
       "      <td>0.0</td>\n",
       "      <td>0.0</td>\n",
       "      <td>0.0</td>\n",
       "      <td>0.0</td>\n",
       "      <td>0.0</td>\n",
       "      <td>0.0</td>\n",
       "      <td>1.0</td>\n",
       "      <td>0.0</td>\n",
       "      <td>0.0</td>\n",
       "      <td>0.0</td>\n",
       "      <td>0.0</td>\n",
       "      <td>0.0</td>\n",
       "      <td>0.0</td>\n",
       "      <td>1.0</td>\n",
       "    </tr>\n",
       "    <tr>\n",
       "      <th>890</th>\n",
       "      <td>0.0</td>\n",
       "      <td>1.0</td>\n",
       "      <td>0.0</td>\n",
       "      <td>1.0</td>\n",
       "      <td>0.0</td>\n",
       "      <td>0.0</td>\n",
       "      <td>0.0</td>\n",
       "      <td>0.0</td>\n",
       "      <td>0.0</td>\n",
       "      <td>0.0</td>\n",
       "      <td>0.0</td>\n",
       "      <td>0.0</td>\n",
       "      <td>0.0</td>\n",
       "      <td>1.0</td>\n",
       "      <td>0.0</td>\n",
       "      <td>0.0</td>\n",
       "      <td>1.0</td>\n",
       "      <td>0.0</td>\n",
       "      <td>0.0</td>\n",
       "      <td>0.0</td>\n",
       "      <td>0.0</td>\n",
       "      <td>0.0</td>\n",
       "      <td>1.0</td>\n",
       "      <td>0.0</td>\n",
       "    </tr>\n",
       "  </tbody>\n",
       "</table>\n",
       "<p>891 rows × 24 columns</p>\n",
       "</div>"
      ],
      "text/plain": [
       "     Sex_female  Sex_male  Embarked_C  Embarked_Q  Embarked_S  Deck_A  Deck_B  \\\n",
       "0           0.0       1.0         0.0         0.0         1.0     0.0     0.0   \n",
       "1           1.0       0.0         1.0         0.0         0.0     0.0     0.0   \n",
       "2           1.0       0.0         0.0         0.0         1.0     0.0     0.0   \n",
       "3           1.0       0.0         0.0         0.0         1.0     0.0     0.0   \n",
       "4           0.0       1.0         0.0         0.0         1.0     0.0     0.0   \n",
       "..          ...       ...         ...         ...         ...     ...     ...   \n",
       "886         0.0       1.0         0.0         0.0         1.0     0.0     0.0   \n",
       "887         1.0       0.0         0.0         0.0         1.0     0.0     1.0   \n",
       "888         1.0       0.0         0.0         0.0         1.0     0.0     0.0   \n",
       "889         0.0       1.0         1.0         0.0         0.0     0.0     0.0   \n",
       "890         0.0       1.0         0.0         1.0         0.0     0.0     0.0   \n",
       "\n",
       "     Deck_C  Deck_D  Deck_E  Deck_F  Deck_G  Deck_T  Deck_Z  Title_Master  \\\n",
       "0       0.0     0.0     0.0     0.0     0.0     0.0     1.0           0.0   \n",
       "1       1.0     0.0     0.0     0.0     0.0     0.0     0.0           0.0   \n",
       "2       0.0     0.0     0.0     0.0     0.0     0.0     1.0           0.0   \n",
       "3       1.0     0.0     0.0     0.0     0.0     0.0     0.0           0.0   \n",
       "4       0.0     0.0     0.0     0.0     0.0     0.0     1.0           0.0   \n",
       "..      ...     ...     ...     ...     ...     ...     ...           ...   \n",
       "886     0.0     0.0     0.0     0.0     0.0     0.0     1.0           0.0   \n",
       "887     0.0     0.0     0.0     0.0     0.0     0.0     0.0           0.0   \n",
       "888     0.0     0.0     0.0     0.0     0.0     0.0     1.0           0.0   \n",
       "889     1.0     0.0     0.0     0.0     0.0     0.0     0.0           0.0   \n",
       "890     0.0     0.0     0.0     0.0     0.0     0.0     1.0           0.0   \n",
       "\n",
       "     Title_Miss  Title_Mr  Title_Mrs  Title_Rare  Title_Royal  \\\n",
       "0           0.0       1.0        0.0         0.0          0.0   \n",
       "1           0.0       0.0        1.0         0.0          0.0   \n",
       "2           1.0       0.0        0.0         0.0          0.0   \n",
       "3           0.0       0.0        1.0         0.0          0.0   \n",
       "4           0.0       1.0        0.0         0.0          0.0   \n",
       "..          ...       ...        ...         ...          ...   \n",
       "886         0.0       0.0        0.0         1.0          0.0   \n",
       "887         1.0       0.0        0.0         0.0          0.0   \n",
       "888         1.0       0.0        0.0         0.0          0.0   \n",
       "889         0.0       1.0        0.0         0.0          0.0   \n",
       "890         0.0       1.0        0.0         0.0          0.0   \n",
       "\n",
       "     FareBin_Extreme  FareBin_High  FareBin_Low  FareBin_Mid  \n",
       "0                0.0           0.0          1.0          0.0  \n",
       "1                0.0           1.0          0.0          0.0  \n",
       "2                0.0           0.0          1.0          0.0  \n",
       "3                0.0           1.0          0.0          0.0  \n",
       "4                0.0           0.0          1.0          0.0  \n",
       "..               ...           ...          ...          ...  \n",
       "886              0.0           0.0          1.0          0.0  \n",
       "887              0.0           0.0          0.0          1.0  \n",
       "888              0.0           0.0          0.0          1.0  \n",
       "889              0.0           0.0          0.0          1.0  \n",
       "890              0.0           0.0          1.0          0.0  \n",
       "\n",
       "[891 rows x 24 columns]"
      ]
     },
     "execution_count": 598,
     "metadata": {},
     "output_type": "execute_result"
    }
   ],
   "source": [
    "df_train2_obj_ohe = pd.DataFrame(ohe.transform(df_train2_obj_mode).toarray())\n",
    "df_train2_obj_ohe.columns = ohe.get_feature_names(df_train2_obj_mode.columns)\n",
    "df_train2_obj_ohe"
   ]
  },
  {
   "cell_type": "code",
   "execution_count": 599,
   "metadata": {
    "colab": {
     "base_uri": "https://localhost:8080/"
    },
    "id": "x2Nj6ozXr6Fz",
    "outputId": "f52cea33-f6e5-457b-d6bf-bae75c39efe2"
   },
   "outputs": [
    {
     "data": {
      "text/plain": [
       "OneHotEncoder(handle_unknown='ignore')"
      ]
     },
     "execution_count": 599,
     "metadata": {},
     "output_type": "execute_result"
    }
   ],
   "source": [
    "ohe.fit(df_backtesting2_obj_mode)"
   ]
  },
  {
   "cell_type": "code",
   "execution_count": 600,
   "metadata": {
    "colab": {
     "base_uri": "https://localhost:8080/",
     "height": 270
    },
    "id": "vCWPvUCzQqKI",
    "outputId": "48314222-4c02-4eaa-e6c9-2ff1997a539a"
   },
   "outputs": [
    {
     "data": {
      "text/html": [
       "<div>\n",
       "<style scoped>\n",
       "    .dataframe tbody tr th:only-of-type {\n",
       "        vertical-align: middle;\n",
       "    }\n",
       "\n",
       "    .dataframe tbody tr th {\n",
       "        vertical-align: top;\n",
       "    }\n",
       "\n",
       "    .dataframe thead th {\n",
       "        text-align: right;\n",
       "    }\n",
       "</style>\n",
       "<table border=\"1\" class=\"dataframe\">\n",
       "  <thead>\n",
       "    <tr style=\"text-align: right;\">\n",
       "      <th></th>\n",
       "      <th>Sex_female</th>\n",
       "      <th>Sex_male</th>\n",
       "      <th>Embarked_C</th>\n",
       "      <th>Embarked_Q</th>\n",
       "      <th>Embarked_S</th>\n",
       "      <th>Deck_A</th>\n",
       "      <th>Deck_B</th>\n",
       "      <th>Deck_C</th>\n",
       "      <th>Deck_D</th>\n",
       "      <th>Deck_E</th>\n",
       "      <th>Deck_F</th>\n",
       "      <th>Deck_G</th>\n",
       "      <th>Deck_Z</th>\n",
       "      <th>Title_Master</th>\n",
       "      <th>Title_Miss</th>\n",
       "      <th>Title_Mr</th>\n",
       "      <th>Title_Mrs</th>\n",
       "      <th>Title_Rare</th>\n",
       "      <th>FareBin_Extreme</th>\n",
       "      <th>FareBin_High</th>\n",
       "      <th>FareBin_Low</th>\n",
       "      <th>FareBin_Mid</th>\n",
       "    </tr>\n",
       "  </thead>\n",
       "  <tbody>\n",
       "    <tr>\n",
       "      <th>0</th>\n",
       "      <td>0.0</td>\n",
       "      <td>1.0</td>\n",
       "      <td>0.0</td>\n",
       "      <td>1.0</td>\n",
       "      <td>0.0</td>\n",
       "      <td>0.0</td>\n",
       "      <td>0.0</td>\n",
       "      <td>0.0</td>\n",
       "      <td>0.0</td>\n",
       "      <td>0.0</td>\n",
       "      <td>0.0</td>\n",
       "      <td>0.0</td>\n",
       "      <td>1.0</td>\n",
       "      <td>0.0</td>\n",
       "      <td>0.0</td>\n",
       "      <td>1.0</td>\n",
       "      <td>0.0</td>\n",
       "      <td>0.0</td>\n",
       "      <td>0.0</td>\n",
       "      <td>0.0</td>\n",
       "      <td>1.0</td>\n",
       "      <td>0.0</td>\n",
       "    </tr>\n",
       "    <tr>\n",
       "      <th>1</th>\n",
       "      <td>1.0</td>\n",
       "      <td>0.0</td>\n",
       "      <td>0.0</td>\n",
       "      <td>0.0</td>\n",
       "      <td>1.0</td>\n",
       "      <td>0.0</td>\n",
       "      <td>0.0</td>\n",
       "      <td>0.0</td>\n",
       "      <td>0.0</td>\n",
       "      <td>0.0</td>\n",
       "      <td>0.0</td>\n",
       "      <td>0.0</td>\n",
       "      <td>1.0</td>\n",
       "      <td>0.0</td>\n",
       "      <td>0.0</td>\n",
       "      <td>0.0</td>\n",
       "      <td>1.0</td>\n",
       "      <td>0.0</td>\n",
       "      <td>0.0</td>\n",
       "      <td>0.0</td>\n",
       "      <td>1.0</td>\n",
       "      <td>0.0</td>\n",
       "    </tr>\n",
       "    <tr>\n",
       "      <th>2</th>\n",
       "      <td>0.0</td>\n",
       "      <td>1.0</td>\n",
       "      <td>0.0</td>\n",
       "      <td>1.0</td>\n",
       "      <td>0.0</td>\n",
       "      <td>0.0</td>\n",
       "      <td>0.0</td>\n",
       "      <td>0.0</td>\n",
       "      <td>0.0</td>\n",
       "      <td>0.0</td>\n",
       "      <td>0.0</td>\n",
       "      <td>0.0</td>\n",
       "      <td>1.0</td>\n",
       "      <td>0.0</td>\n",
       "      <td>0.0</td>\n",
       "      <td>1.0</td>\n",
       "      <td>0.0</td>\n",
       "      <td>0.0</td>\n",
       "      <td>0.0</td>\n",
       "      <td>0.0</td>\n",
       "      <td>1.0</td>\n",
       "      <td>0.0</td>\n",
       "    </tr>\n",
       "    <tr>\n",
       "      <th>3</th>\n",
       "      <td>0.0</td>\n",
       "      <td>1.0</td>\n",
       "      <td>0.0</td>\n",
       "      <td>0.0</td>\n",
       "      <td>1.0</td>\n",
       "      <td>0.0</td>\n",
       "      <td>0.0</td>\n",
       "      <td>0.0</td>\n",
       "      <td>0.0</td>\n",
       "      <td>0.0</td>\n",
       "      <td>0.0</td>\n",
       "      <td>0.0</td>\n",
       "      <td>1.0</td>\n",
       "      <td>0.0</td>\n",
       "      <td>0.0</td>\n",
       "      <td>1.0</td>\n",
       "      <td>0.0</td>\n",
       "      <td>0.0</td>\n",
       "      <td>0.0</td>\n",
       "      <td>0.0</td>\n",
       "      <td>1.0</td>\n",
       "      <td>0.0</td>\n",
       "    </tr>\n",
       "    <tr>\n",
       "      <th>4</th>\n",
       "      <td>1.0</td>\n",
       "      <td>0.0</td>\n",
       "      <td>0.0</td>\n",
       "      <td>0.0</td>\n",
       "      <td>1.0</td>\n",
       "      <td>0.0</td>\n",
       "      <td>0.0</td>\n",
       "      <td>0.0</td>\n",
       "      <td>0.0</td>\n",
       "      <td>0.0</td>\n",
       "      <td>0.0</td>\n",
       "      <td>0.0</td>\n",
       "      <td>1.0</td>\n",
       "      <td>0.0</td>\n",
       "      <td>0.0</td>\n",
       "      <td>0.0</td>\n",
       "      <td>1.0</td>\n",
       "      <td>0.0</td>\n",
       "      <td>0.0</td>\n",
       "      <td>0.0</td>\n",
       "      <td>1.0</td>\n",
       "      <td>0.0</td>\n",
       "    </tr>\n",
       "  </tbody>\n",
       "</table>\n",
       "</div>"
      ],
      "text/plain": [
       "   Sex_female  Sex_male  Embarked_C  Embarked_Q  Embarked_S  Deck_A  Deck_B  \\\n",
       "0         0.0       1.0         0.0         1.0         0.0     0.0     0.0   \n",
       "1         1.0       0.0         0.0         0.0         1.0     0.0     0.0   \n",
       "2         0.0       1.0         0.0         1.0         0.0     0.0     0.0   \n",
       "3         0.0       1.0         0.0         0.0         1.0     0.0     0.0   \n",
       "4         1.0       0.0         0.0         0.0         1.0     0.0     0.0   \n",
       "\n",
       "   Deck_C  Deck_D  Deck_E  Deck_F  Deck_G  Deck_Z  Title_Master  Title_Miss  \\\n",
       "0     0.0     0.0     0.0     0.0     0.0     1.0           0.0         0.0   \n",
       "1     0.0     0.0     0.0     0.0     0.0     1.0           0.0         0.0   \n",
       "2     0.0     0.0     0.0     0.0     0.0     1.0           0.0         0.0   \n",
       "3     0.0     0.0     0.0     0.0     0.0     1.0           0.0         0.0   \n",
       "4     0.0     0.0     0.0     0.0     0.0     1.0           0.0         0.0   \n",
       "\n",
       "   Title_Mr  Title_Mrs  Title_Rare  FareBin_Extreme  FareBin_High  \\\n",
       "0       1.0        0.0         0.0              0.0           0.0   \n",
       "1       0.0        1.0         0.0              0.0           0.0   \n",
       "2       1.0        0.0         0.0              0.0           0.0   \n",
       "3       1.0        0.0         0.0              0.0           0.0   \n",
       "4       0.0        1.0         0.0              0.0           0.0   \n",
       "\n",
       "   FareBin_Low  FareBin_Mid  \n",
       "0          1.0          0.0  \n",
       "1          1.0          0.0  \n",
       "2          1.0          0.0  \n",
       "3          1.0          0.0  \n",
       "4          1.0          0.0  "
      ]
     },
     "execution_count": 600,
     "metadata": {},
     "output_type": "execute_result"
    }
   ],
   "source": [
    "df_backtesting2_obj_ohe = pd.DataFrame(ohe.transform(df_backtesting2_obj_mode).toarray())\n",
    "df_backtesting2_obj_ohe.columns = ohe.get_feature_names(df_backtesting2_obj_mode.columns)\n",
    "df_backtesting2_obj_ohe.head()"
   ]
  },
  {
   "cell_type": "code",
   "execution_count": 601,
   "metadata": {
    "id": "nxr_auHaQqRQ"
   },
   "outputs": [],
   "source": [
    "#merge\n",
    "df_train_transformed = pd.concat([df_train2_num_scaled, df_train2_obj_ohe], axis=1)\n",
    "df_backtesting_transformed = pd.concat([df_backtesting2_num_scaled, df_backtesting2_obj_ohe], axis=1)"
   ]
  },
  {
   "cell_type": "code",
   "execution_count": 602,
   "metadata": {
    "colab": {
     "base_uri": "https://localhost:8080/",
     "height": 270
    },
    "id": "ciAQPz8AQqXt",
    "outputId": "7716e54f-9fd2-420c-ad16-b9f8c8c8b6d3"
   },
   "outputs": [
    {
     "data": {
      "text/html": [
       "<div>\n",
       "<style scoped>\n",
       "    .dataframe tbody tr th:only-of-type {\n",
       "        vertical-align: middle;\n",
       "    }\n",
       "\n",
       "    .dataframe tbody tr th {\n",
       "        vertical-align: top;\n",
       "    }\n",
       "\n",
       "    .dataframe thead th {\n",
       "        text-align: right;\n",
       "    }\n",
       "</style>\n",
       "<table border=\"1\" class=\"dataframe\">\n",
       "  <thead>\n",
       "    <tr style=\"text-align: right;\">\n",
       "      <th></th>\n",
       "      <th>Survived</th>\n",
       "      <th>Pclass</th>\n",
       "      <th>Age</th>\n",
       "      <th>SibSp</th>\n",
       "      <th>Parch</th>\n",
       "      <th>FamilyMember</th>\n",
       "      <th>Solo</th>\n",
       "      <th>Baby</th>\n",
       "      <th>Sex_female</th>\n",
       "      <th>Sex_male</th>\n",
       "      <th>Embarked_C</th>\n",
       "      <th>Embarked_Q</th>\n",
       "      <th>Embarked_S</th>\n",
       "      <th>Deck_A</th>\n",
       "      <th>Deck_B</th>\n",
       "      <th>Deck_C</th>\n",
       "      <th>Deck_D</th>\n",
       "      <th>Deck_E</th>\n",
       "      <th>Deck_F</th>\n",
       "      <th>Deck_G</th>\n",
       "      <th>Deck_T</th>\n",
       "      <th>Deck_Z</th>\n",
       "      <th>Title_Master</th>\n",
       "      <th>Title_Miss</th>\n",
       "      <th>Title_Mr</th>\n",
       "      <th>Title_Mrs</th>\n",
       "      <th>Title_Rare</th>\n",
       "      <th>Title_Royal</th>\n",
       "      <th>FareBin_Extreme</th>\n",
       "      <th>FareBin_High</th>\n",
       "      <th>FareBin_Low</th>\n",
       "      <th>FareBin_Mid</th>\n",
       "    </tr>\n",
       "  </thead>\n",
       "  <tbody>\n",
       "    <tr>\n",
       "      <th>0</th>\n",
       "      <td>0.0</td>\n",
       "      <td>1.0</td>\n",
       "      <td>0.271174</td>\n",
       "      <td>0.125</td>\n",
       "      <td>0.0</td>\n",
       "      <td>0.1</td>\n",
       "      <td>0.0</td>\n",
       "      <td>0.0</td>\n",
       "      <td>0.0</td>\n",
       "      <td>1.0</td>\n",
       "      <td>0.0</td>\n",
       "      <td>0.0</td>\n",
       "      <td>1.0</td>\n",
       "      <td>0.0</td>\n",
       "      <td>0.0</td>\n",
       "      <td>0.0</td>\n",
       "      <td>0.0</td>\n",
       "      <td>0.0</td>\n",
       "      <td>0.0</td>\n",
       "      <td>0.0</td>\n",
       "      <td>0.0</td>\n",
       "      <td>1.0</td>\n",
       "      <td>0.0</td>\n",
       "      <td>0.0</td>\n",
       "      <td>1.0</td>\n",
       "      <td>0.0</td>\n",
       "      <td>0.0</td>\n",
       "      <td>0.0</td>\n",
       "      <td>0.0</td>\n",
       "      <td>0.0</td>\n",
       "      <td>1.0</td>\n",
       "      <td>0.0</td>\n",
       "    </tr>\n",
       "    <tr>\n",
       "      <th>1</th>\n",
       "      <td>1.0</td>\n",
       "      <td>0.0</td>\n",
       "      <td>0.472229</td>\n",
       "      <td>0.125</td>\n",
       "      <td>0.0</td>\n",
       "      <td>0.1</td>\n",
       "      <td>0.0</td>\n",
       "      <td>0.0</td>\n",
       "      <td>1.0</td>\n",
       "      <td>0.0</td>\n",
       "      <td>1.0</td>\n",
       "      <td>0.0</td>\n",
       "      <td>0.0</td>\n",
       "      <td>0.0</td>\n",
       "      <td>0.0</td>\n",
       "      <td>1.0</td>\n",
       "      <td>0.0</td>\n",
       "      <td>0.0</td>\n",
       "      <td>0.0</td>\n",
       "      <td>0.0</td>\n",
       "      <td>0.0</td>\n",
       "      <td>0.0</td>\n",
       "      <td>0.0</td>\n",
       "      <td>0.0</td>\n",
       "      <td>0.0</td>\n",
       "      <td>1.0</td>\n",
       "      <td>0.0</td>\n",
       "      <td>0.0</td>\n",
       "      <td>0.0</td>\n",
       "      <td>1.0</td>\n",
       "      <td>0.0</td>\n",
       "      <td>0.0</td>\n",
       "    </tr>\n",
       "    <tr>\n",
       "      <th>2</th>\n",
       "      <td>1.0</td>\n",
       "      <td>1.0</td>\n",
       "      <td>0.321438</td>\n",
       "      <td>0.000</td>\n",
       "      <td>0.0</td>\n",
       "      <td>0.0</td>\n",
       "      <td>1.0</td>\n",
       "      <td>0.0</td>\n",
       "      <td>1.0</td>\n",
       "      <td>0.0</td>\n",
       "      <td>0.0</td>\n",
       "      <td>0.0</td>\n",
       "      <td>1.0</td>\n",
       "      <td>0.0</td>\n",
       "      <td>0.0</td>\n",
       "      <td>0.0</td>\n",
       "      <td>0.0</td>\n",
       "      <td>0.0</td>\n",
       "      <td>0.0</td>\n",
       "      <td>0.0</td>\n",
       "      <td>0.0</td>\n",
       "      <td>1.0</td>\n",
       "      <td>0.0</td>\n",
       "      <td>1.0</td>\n",
       "      <td>0.0</td>\n",
       "      <td>0.0</td>\n",
       "      <td>0.0</td>\n",
       "      <td>0.0</td>\n",
       "      <td>0.0</td>\n",
       "      <td>0.0</td>\n",
       "      <td>1.0</td>\n",
       "      <td>0.0</td>\n",
       "    </tr>\n",
       "    <tr>\n",
       "      <th>3</th>\n",
       "      <td>1.0</td>\n",
       "      <td>0.0</td>\n",
       "      <td>0.434531</td>\n",
       "      <td>0.125</td>\n",
       "      <td>0.0</td>\n",
       "      <td>0.1</td>\n",
       "      <td>0.0</td>\n",
       "      <td>0.0</td>\n",
       "      <td>1.0</td>\n",
       "      <td>0.0</td>\n",
       "      <td>0.0</td>\n",
       "      <td>0.0</td>\n",
       "      <td>1.0</td>\n",
       "      <td>0.0</td>\n",
       "      <td>0.0</td>\n",
       "      <td>1.0</td>\n",
       "      <td>0.0</td>\n",
       "      <td>0.0</td>\n",
       "      <td>0.0</td>\n",
       "      <td>0.0</td>\n",
       "      <td>0.0</td>\n",
       "      <td>0.0</td>\n",
       "      <td>0.0</td>\n",
       "      <td>0.0</td>\n",
       "      <td>0.0</td>\n",
       "      <td>1.0</td>\n",
       "      <td>0.0</td>\n",
       "      <td>0.0</td>\n",
       "      <td>0.0</td>\n",
       "      <td>1.0</td>\n",
       "      <td>0.0</td>\n",
       "      <td>0.0</td>\n",
       "    </tr>\n",
       "    <tr>\n",
       "      <th>4</th>\n",
       "      <td>0.0</td>\n",
       "      <td>1.0</td>\n",
       "      <td>0.434531</td>\n",
       "      <td>0.000</td>\n",
       "      <td>0.0</td>\n",
       "      <td>0.0</td>\n",
       "      <td>1.0</td>\n",
       "      <td>0.0</td>\n",
       "      <td>0.0</td>\n",
       "      <td>1.0</td>\n",
       "      <td>0.0</td>\n",
       "      <td>0.0</td>\n",
       "      <td>1.0</td>\n",
       "      <td>0.0</td>\n",
       "      <td>0.0</td>\n",
       "      <td>0.0</td>\n",
       "      <td>0.0</td>\n",
       "      <td>0.0</td>\n",
       "      <td>0.0</td>\n",
       "      <td>0.0</td>\n",
       "      <td>0.0</td>\n",
       "      <td>1.0</td>\n",
       "      <td>0.0</td>\n",
       "      <td>0.0</td>\n",
       "      <td>1.0</td>\n",
       "      <td>0.0</td>\n",
       "      <td>0.0</td>\n",
       "      <td>0.0</td>\n",
       "      <td>0.0</td>\n",
       "      <td>0.0</td>\n",
       "      <td>1.0</td>\n",
       "      <td>0.0</td>\n",
       "    </tr>\n",
       "  </tbody>\n",
       "</table>\n",
       "</div>"
      ],
      "text/plain": [
       "   Survived  Pclass       Age  SibSp  Parch  FamilyMember  Solo  Baby  \\\n",
       "0       0.0     1.0  0.271174  0.125    0.0           0.1   0.0   0.0   \n",
       "1       1.0     0.0  0.472229  0.125    0.0           0.1   0.0   0.0   \n",
       "2       1.0     1.0  0.321438  0.000    0.0           0.0   1.0   0.0   \n",
       "3       1.0     0.0  0.434531  0.125    0.0           0.1   0.0   0.0   \n",
       "4       0.0     1.0  0.434531  0.000    0.0           0.0   1.0   0.0   \n",
       "\n",
       "   Sex_female  Sex_male  Embarked_C  Embarked_Q  Embarked_S  Deck_A  Deck_B  \\\n",
       "0         0.0       1.0         0.0         0.0         1.0     0.0     0.0   \n",
       "1         1.0       0.0         1.0         0.0         0.0     0.0     0.0   \n",
       "2         1.0       0.0         0.0         0.0         1.0     0.0     0.0   \n",
       "3         1.0       0.0         0.0         0.0         1.0     0.0     0.0   \n",
       "4         0.0       1.0         0.0         0.0         1.0     0.0     0.0   \n",
       "\n",
       "   Deck_C  Deck_D  Deck_E  Deck_F  Deck_G  Deck_T  Deck_Z  Title_Master  \\\n",
       "0     0.0     0.0     0.0     0.0     0.0     0.0     1.0           0.0   \n",
       "1     1.0     0.0     0.0     0.0     0.0     0.0     0.0           0.0   \n",
       "2     0.0     0.0     0.0     0.0     0.0     0.0     1.0           0.0   \n",
       "3     1.0     0.0     0.0     0.0     0.0     0.0     0.0           0.0   \n",
       "4     0.0     0.0     0.0     0.0     0.0     0.0     1.0           0.0   \n",
       "\n",
       "   Title_Miss  Title_Mr  Title_Mrs  Title_Rare  Title_Royal  FareBin_Extreme  \\\n",
       "0         0.0       1.0        0.0         0.0          0.0              0.0   \n",
       "1         0.0       0.0        1.0         0.0          0.0              0.0   \n",
       "2         1.0       0.0        0.0         0.0          0.0              0.0   \n",
       "3         0.0       0.0        1.0         0.0          0.0              0.0   \n",
       "4         0.0       1.0        0.0         0.0          0.0              0.0   \n",
       "\n",
       "   FareBin_High  FareBin_Low  FareBin_Mid  \n",
       "0           0.0          1.0          0.0  \n",
       "1           1.0          0.0          0.0  \n",
       "2           0.0          1.0          0.0  \n",
       "3           1.0          0.0          0.0  \n",
       "4           0.0          1.0          0.0  "
      ]
     },
     "execution_count": 602,
     "metadata": {},
     "output_type": "execute_result"
    }
   ],
   "source": [
    "df_train_transformed.head()"
   ]
  },
  {
   "cell_type": "code",
   "execution_count": 603,
   "metadata": {
    "colab": {
     "base_uri": "https://localhost:8080/",
     "height": 270
    },
    "id": "MKzc1_lPQqdn",
    "outputId": "d498919e-cdba-48d5-ad61-55dcff12c3e2"
   },
   "outputs": [
    {
     "data": {
      "text/html": [
       "<div>\n",
       "<style scoped>\n",
       "    .dataframe tbody tr th:only-of-type {\n",
       "        vertical-align: middle;\n",
       "    }\n",
       "\n",
       "    .dataframe tbody tr th {\n",
       "        vertical-align: top;\n",
       "    }\n",
       "\n",
       "    .dataframe thead th {\n",
       "        text-align: right;\n",
       "    }\n",
       "</style>\n",
       "<table border=\"1\" class=\"dataframe\">\n",
       "  <thead>\n",
       "    <tr style=\"text-align: right;\">\n",
       "      <th></th>\n",
       "      <th>Pclass</th>\n",
       "      <th>Age</th>\n",
       "      <th>SibSp</th>\n",
       "      <th>Parch</th>\n",
       "      <th>FamilyMember</th>\n",
       "      <th>Solo</th>\n",
       "      <th>Baby</th>\n",
       "      <th>Sex_female</th>\n",
       "      <th>Sex_male</th>\n",
       "      <th>Embarked_C</th>\n",
       "      <th>Embarked_Q</th>\n",
       "      <th>Embarked_S</th>\n",
       "      <th>Deck_A</th>\n",
       "      <th>Deck_B</th>\n",
       "      <th>Deck_C</th>\n",
       "      <th>Deck_D</th>\n",
       "      <th>Deck_E</th>\n",
       "      <th>Deck_F</th>\n",
       "      <th>Deck_G</th>\n",
       "      <th>Deck_Z</th>\n",
       "      <th>Title_Master</th>\n",
       "      <th>Title_Miss</th>\n",
       "      <th>Title_Mr</th>\n",
       "      <th>Title_Mrs</th>\n",
       "      <th>Title_Rare</th>\n",
       "      <th>FareBin_Extreme</th>\n",
       "      <th>FareBin_High</th>\n",
       "      <th>FareBin_Low</th>\n",
       "      <th>FareBin_Mid</th>\n",
       "    </tr>\n",
       "  </thead>\n",
       "  <tbody>\n",
       "    <tr>\n",
       "      <th>0</th>\n",
       "      <td>1.0</td>\n",
       "      <td>0.452723</td>\n",
       "      <td>0.000</td>\n",
       "      <td>0.000000</td>\n",
       "      <td>0.0</td>\n",
       "      <td>1.0</td>\n",
       "      <td>0.0</td>\n",
       "      <td>0.0</td>\n",
       "      <td>1.0</td>\n",
       "      <td>0.0</td>\n",
       "      <td>1.0</td>\n",
       "      <td>0.0</td>\n",
       "      <td>0.0</td>\n",
       "      <td>0.0</td>\n",
       "      <td>0.0</td>\n",
       "      <td>0.0</td>\n",
       "      <td>0.0</td>\n",
       "      <td>0.0</td>\n",
       "      <td>0.0</td>\n",
       "      <td>1.0</td>\n",
       "      <td>0.0</td>\n",
       "      <td>0.0</td>\n",
       "      <td>1.0</td>\n",
       "      <td>0.0</td>\n",
       "      <td>0.0</td>\n",
       "      <td>0.0</td>\n",
       "      <td>0.0</td>\n",
       "      <td>1.0</td>\n",
       "      <td>0.0</td>\n",
       "    </tr>\n",
       "    <tr>\n",
       "      <th>1</th>\n",
       "      <td>1.0</td>\n",
       "      <td>0.617566</td>\n",
       "      <td>0.125</td>\n",
       "      <td>0.000000</td>\n",
       "      <td>0.1</td>\n",
       "      <td>0.0</td>\n",
       "      <td>0.0</td>\n",
       "      <td>1.0</td>\n",
       "      <td>0.0</td>\n",
       "      <td>0.0</td>\n",
       "      <td>0.0</td>\n",
       "      <td>1.0</td>\n",
       "      <td>0.0</td>\n",
       "      <td>0.0</td>\n",
       "      <td>0.0</td>\n",
       "      <td>0.0</td>\n",
       "      <td>0.0</td>\n",
       "      <td>0.0</td>\n",
       "      <td>0.0</td>\n",
       "      <td>1.0</td>\n",
       "      <td>0.0</td>\n",
       "      <td>0.0</td>\n",
       "      <td>0.0</td>\n",
       "      <td>1.0</td>\n",
       "      <td>0.0</td>\n",
       "      <td>0.0</td>\n",
       "      <td>0.0</td>\n",
       "      <td>1.0</td>\n",
       "      <td>0.0</td>\n",
       "    </tr>\n",
       "    <tr>\n",
       "      <th>2</th>\n",
       "      <td>0.5</td>\n",
       "      <td>0.815377</td>\n",
       "      <td>0.000</td>\n",
       "      <td>0.000000</td>\n",
       "      <td>0.0</td>\n",
       "      <td>1.0</td>\n",
       "      <td>0.0</td>\n",
       "      <td>0.0</td>\n",
       "      <td>1.0</td>\n",
       "      <td>0.0</td>\n",
       "      <td>1.0</td>\n",
       "      <td>0.0</td>\n",
       "      <td>0.0</td>\n",
       "      <td>0.0</td>\n",
       "      <td>0.0</td>\n",
       "      <td>0.0</td>\n",
       "      <td>0.0</td>\n",
       "      <td>0.0</td>\n",
       "      <td>0.0</td>\n",
       "      <td>1.0</td>\n",
       "      <td>0.0</td>\n",
       "      <td>0.0</td>\n",
       "      <td>1.0</td>\n",
       "      <td>0.0</td>\n",
       "      <td>0.0</td>\n",
       "      <td>0.0</td>\n",
       "      <td>0.0</td>\n",
       "      <td>1.0</td>\n",
       "      <td>0.0</td>\n",
       "    </tr>\n",
       "    <tr>\n",
       "      <th>3</th>\n",
       "      <td>1.0</td>\n",
       "      <td>0.353818</td>\n",
       "      <td>0.000</td>\n",
       "      <td>0.000000</td>\n",
       "      <td>0.0</td>\n",
       "      <td>1.0</td>\n",
       "      <td>0.0</td>\n",
       "      <td>0.0</td>\n",
       "      <td>1.0</td>\n",
       "      <td>0.0</td>\n",
       "      <td>0.0</td>\n",
       "      <td>1.0</td>\n",
       "      <td>0.0</td>\n",
       "      <td>0.0</td>\n",
       "      <td>0.0</td>\n",
       "      <td>0.0</td>\n",
       "      <td>0.0</td>\n",
       "      <td>0.0</td>\n",
       "      <td>0.0</td>\n",
       "      <td>1.0</td>\n",
       "      <td>0.0</td>\n",
       "      <td>0.0</td>\n",
       "      <td>1.0</td>\n",
       "      <td>0.0</td>\n",
       "      <td>0.0</td>\n",
       "      <td>0.0</td>\n",
       "      <td>0.0</td>\n",
       "      <td>1.0</td>\n",
       "      <td>0.0</td>\n",
       "    </tr>\n",
       "    <tr>\n",
       "      <th>4</th>\n",
       "      <td>1.0</td>\n",
       "      <td>0.287881</td>\n",
       "      <td>0.125</td>\n",
       "      <td>0.111111</td>\n",
       "      <td>0.2</td>\n",
       "      <td>0.0</td>\n",
       "      <td>0.0</td>\n",
       "      <td>1.0</td>\n",
       "      <td>0.0</td>\n",
       "      <td>0.0</td>\n",
       "      <td>0.0</td>\n",
       "      <td>1.0</td>\n",
       "      <td>0.0</td>\n",
       "      <td>0.0</td>\n",
       "      <td>0.0</td>\n",
       "      <td>0.0</td>\n",
       "      <td>0.0</td>\n",
       "      <td>0.0</td>\n",
       "      <td>0.0</td>\n",
       "      <td>1.0</td>\n",
       "      <td>0.0</td>\n",
       "      <td>0.0</td>\n",
       "      <td>0.0</td>\n",
       "      <td>1.0</td>\n",
       "      <td>0.0</td>\n",
       "      <td>0.0</td>\n",
       "      <td>0.0</td>\n",
       "      <td>1.0</td>\n",
       "      <td>0.0</td>\n",
       "    </tr>\n",
       "  </tbody>\n",
       "</table>\n",
       "</div>"
      ],
      "text/plain": [
       "   Pclass       Age  SibSp     Parch  FamilyMember  Solo  Baby  Sex_female  \\\n",
       "0     1.0  0.452723  0.000  0.000000           0.0   1.0   0.0         0.0   \n",
       "1     1.0  0.617566  0.125  0.000000           0.1   0.0   0.0         1.0   \n",
       "2     0.5  0.815377  0.000  0.000000           0.0   1.0   0.0         0.0   \n",
       "3     1.0  0.353818  0.000  0.000000           0.0   1.0   0.0         0.0   \n",
       "4     1.0  0.287881  0.125  0.111111           0.2   0.0   0.0         1.0   \n",
       "\n",
       "   Sex_male  Embarked_C  Embarked_Q  Embarked_S  Deck_A  Deck_B  Deck_C  \\\n",
       "0       1.0         0.0         1.0         0.0     0.0     0.0     0.0   \n",
       "1       0.0         0.0         0.0         1.0     0.0     0.0     0.0   \n",
       "2       1.0         0.0         1.0         0.0     0.0     0.0     0.0   \n",
       "3       1.0         0.0         0.0         1.0     0.0     0.0     0.0   \n",
       "4       0.0         0.0         0.0         1.0     0.0     0.0     0.0   \n",
       "\n",
       "   Deck_D  Deck_E  Deck_F  Deck_G  Deck_Z  Title_Master  Title_Miss  Title_Mr  \\\n",
       "0     0.0     0.0     0.0     0.0     1.0           0.0         0.0       1.0   \n",
       "1     0.0     0.0     0.0     0.0     1.0           0.0         0.0       0.0   \n",
       "2     0.0     0.0     0.0     0.0     1.0           0.0         0.0       1.0   \n",
       "3     0.0     0.0     0.0     0.0     1.0           0.0         0.0       1.0   \n",
       "4     0.0     0.0     0.0     0.0     1.0           0.0         0.0       0.0   \n",
       "\n",
       "   Title_Mrs  Title_Rare  FareBin_Extreme  FareBin_High  FareBin_Low  \\\n",
       "0        0.0         0.0              0.0           0.0          1.0   \n",
       "1        1.0         0.0              0.0           0.0          1.0   \n",
       "2        0.0         0.0              0.0           0.0          1.0   \n",
       "3        0.0         0.0              0.0           0.0          1.0   \n",
       "4        1.0         0.0              0.0           0.0          1.0   \n",
       "\n",
       "   FareBin_Mid  \n",
       "0          0.0  \n",
       "1          0.0  \n",
       "2          0.0  \n",
       "3          0.0  \n",
       "4          0.0  "
      ]
     },
     "execution_count": 603,
     "metadata": {},
     "output_type": "execute_result"
    }
   ],
   "source": [
    "df_backtesting_transformed.head()"
   ]
  },
  {
   "cell_type": "code",
   "execution_count": 604,
   "metadata": {
    "colab": {
     "base_uri": "https://localhost:8080/"
    },
    "id": "ir5uQ7NptCzJ",
    "outputId": "17670a70-d180-4e79-dee3-f03949a2bd5c"
   },
   "outputs": [
    {
     "data": {
      "text/plain": [
       "(891, 32)"
      ]
     },
     "execution_count": 604,
     "metadata": {},
     "output_type": "execute_result"
    }
   ],
   "source": [
    "df_train_transformed.shape"
   ]
  },
  {
   "cell_type": "markdown",
   "metadata": {
    "id": "WIqwtwNNu1zO"
   },
   "source": [
    "*   **Feature Selection**"
   ]
  },
  {
   "cell_type": "code",
   "execution_count": 605,
   "metadata": {
    "id": "YKeE9SPLVC8R"
   },
   "outputs": [],
   "source": [
    "#First Step, i using the \"spearmanr\" method \n",
    "from scipy.stats import spearmanr"
   ]
  },
  {
   "cell_type": "code",
   "execution_count": 606,
   "metadata": {
    "colab": {
     "base_uri": "https://localhost:8080/"
    },
    "id": "dNBq-pOdvAzH",
    "outputId": "98c76284-6d4d-4830-8956-741e4f0f7a8c"
   },
   "outputs": [
    {
     "name": "stdout",
     "output_type": "stream",
     "text": [
      "['Survived', 'Pclass'] -0.33966793665005257 1.6876081409966053e-25\n",
      "['Survived', 'Age'] -0.023763940527028796 0.4786665231343198\n",
      "['Survived', 'SibSp'] 0.08887948468090501 0.007941431285733533\n",
      "['Survived', 'Parch'] 0.13826563286545587 3.453591460380432e-05\n",
      "['Survived', 'FamilyMember'] 0.16546291168480365 6.822728892835723e-07\n",
      "['Survived', 'Solo'] -0.20336708569989195 9.009490179329494e-10\n",
      "['Survived', 'Baby'] 0.15030438360027223 6.610733094730834e-06\n",
      "['Survived', 'Sex_female'] 0.5433513806577551 1.4060661308802594e-69\n",
      "['Survived', 'Sex_male'] -0.5433513806577551 1.4060661308802594e-69\n",
      "['Survived', 'Embarked_C'] 0.16824043121823318 4.3971513298069013e-07\n",
      "['Survived', 'Embarked_Q'] 0.0036503826839721708 0.9133532352434204\n",
      "['Survived', 'Embarked_S'] -0.14968272327068563 7.223240983688183e-06\n",
      "['Survived', 'Deck_A'] 0.022286953811301812 0.5064306274590654\n",
      "['Survived', 'Deck_B'] 0.17509503365047563 1.441583705487399e-07\n",
      "['Survived', 'Deck_C'] 0.11465211543263729 0.000606187418154933\n",
      "['Survived', 'Deck_D'] 0.15071564423048256 6.233140155819838e-06\n",
      "['Survived', 'Deck_E'] 0.1453214432364282 1.3316539695856479e-05\n",
      "['Survived', 'Deck_F'] 0.057934947020803866 0.08392361260003427\n",
      "['Survived', 'Deck_G'] 0.016040182686507552 0.6325420044332486\n",
      "['Survived', 'Deck_T'] -0.026456468796962337 0.4302610254164988\n",
      "['Survived', 'Deck_Z'] -0.3169115231122961 3.0908910396547095e-22\n",
      "['Survived', 'Title_Master'] 0.0852205608392943 0.010932112882201245\n",
      "['Survived', 'Title_Miss'] 0.3356355207687261 6.694006194186345e-25\n",
      "['Survived', 'Title_Mr'] -0.5491991849030086 2.4287826448474133e-71\n",
      "['Survived', 'Title_Mrs'] 0.341993726285756 7.55239488258512e-26\n",
      "['Survived', 'Title_Rare'] -0.031347591444174 0.34997906026062264\n",
      "['Survived', 'Title_Royal'] 0.060094847378356644 0.07298716597949835\n",
      "['Survived', 'FareBin_Extreme'] 0.1841632248647126 3.078531885242595e-08\n",
      "['Survived', 'FareBin_High'] 0.15925445685790068 1.7745792609287804e-06\n",
      "['Survived', 'FareBin_Low'] -0.25549580527598004 9.585110280963362e-15\n",
      "['Survived', 'FareBin_Mid'] 0.05356168104034932 0.11011008784729646\n",
      "['Pclass', 'Age'] -0.33855798061266246 2.4710048607558277e-25\n",
      "['Pclass', 'SibSp'] -0.04301876651204207 0.19953228732086473\n",
      "['Pclass', 'Parch'] -0.022801341928590468 0.4966663326701515\n",
      "['Pclass', 'FamilyMember'] -0.07569779112515028 0.023844767636068007\n",
      "['Pclass', 'Solo'] 0.13589551550228388 4.7088172149433035e-05\n",
      "['Pclass', 'Baby'] 0.06267108977688285 0.06149483780229114\n",
      "['Pclass', 'Sex_female'] -0.13577453333860584 4.7832782429159534e-05\n",
      "['Pclass', 'Sex_male'] 0.13577453333860584 4.7832782429159534e-05\n",
      "['Pclass', 'Embarked_C'] -0.22099528486561204 2.557972209590463e-11\n",
      "['Pclass', 'Embarked_Q'] 0.22976258803184862 3.872036090876812e-12\n",
      "['Pclass', 'Embarked_S'] 0.0490111815421742 0.14379874084202765\n",
      "['Pclass', 'Deck_A'] -0.19082910450858995 9.410939277143615e-09\n",
      "['Pclass', 'Deck_B'] -0.34413491842620886 3.580840364157818e-26\n",
      "['Pclass', 'Deck_C'] -0.3883429081444834 1.8969924440704028e-33\n",
      "['Pclass', 'Deck_D'] -0.26545576860016007 7.779020211275104e-16\n",
      "['Pclass', 'Deck_E'] -0.21859399174887176 4.232132529698832e-11\n",
      "['Pclass', 'Deck_F'] -0.00404443932609094 0.9040427167745027\n",
      "['Pclass', 'Deck_G'] 0.058033055887430074 0.08339964431661084\n",
      "['Pclass', 'Deck_T'] -0.04888279530350327 0.14485258976841017\n",
      "['Pclass', 'Deck_Z'] 0.6832907054005039 1.4576980378280354e-123\n",
      "['Pclass', 'Title_Master'] 0.07845620372887269 0.01916984094756893\n",
      "['Pclass', 'Title_Miss'] -0.007323102906397788 0.8272047828049928\n",
      "['Pclass', 'Title_Mr'] 0.14911621991077073 7.828279328710415e-06\n",
      "['Pclass', 'Title_Mrs'] -0.16353063953076766 9.222213046997028e-07\n",
      "['Pclass', 'Title_Rare'] -0.17542137801952226 1.365526191202525e-07\n",
      "['Pclass', 'Title_Royal'] -0.06916958232250849 0.03899304575735543\n",
      "['Pclass', 'FareBin_Extreme'] -0.3517977278304232 2.3620221931816354e-27\n",
      "['Pclass', 'FareBin_High'] -0.4256366750494061 1.6277160635591817e-40\n",
      "['Pclass', 'FareBin_Low'] 0.6350620472769709 8.83407101454491e-102\n",
      "['Pclass', 'FareBin_Mid'] -0.16611280953303675 6.160249478988103e-07\n",
      "['Age', 'SibSp'] -0.13584214511335016 4.74152887719331e-05\n",
      "['Age', 'Parch'] -0.20994946179994553 2.4710564254728073e-10\n",
      "['Age', 'FamilyMember'] -0.16821292333453802 4.416480606594004e-07\n",
      "['Age', 'Solo'] 0.11602192858677401 0.0005203147488558935\n",
      "['Age', 'Baby'] -0.3777046707953252 1.3604917063222335e-31\n",
      "['Age', 'Sex_female'] -0.06557891736595949 0.050363373561276806\n",
      "['Age', 'Sex_male'] 0.06557891736595949 0.050363373561276806\n",
      "['Age', 'Embarked_C'] 0.013113945093088324 0.6958610965415974\n",
      "['Age', 'Embarked_Q'] -0.0852065064370104 0.010945306794315596\n",
      "['Age', 'Embarked_S'] 0.04213216514086362 0.20896312697349384\n",
      "['Age', 'Deck_A'] 0.09471120328317137 0.004662261643493584\n",
      "['Age', 'Deck_B'] 0.08323411499793645 0.012943036041315479\n",
      "['Age', 'Deck_C'] 0.12011559960810025 0.000326404201469604\n",
      "['Age', 'Deck_D'] 0.11398368698783935 0.0006527111687861557\n",
      "['Age', 'Deck_E'] 0.1406541533049946 2.5139591882350058e-05\n",
      "['Age', 'Deck_F'] -0.050544564623906905 0.1316615713342008\n",
      "['Age', 'Deck_G'] -0.054295690431023745 0.10531274365709384\n",
      "['Age', 'Deck_T'] 0.04413715876547578 0.1880835958205693\n",
      "['Age', 'Deck_Z'] -0.23834873028499093 5.645756269707788e-13\n",
      "['Age', 'Title_Master'] -0.3233519225299299 3.9318313478794886e-23\n",
      "['Age', 'Title_Miss'] -0.2572709838291066 6.174523912973417e-15\n",
      "['Age', 'Title_Mr'] 0.14991425172050005 6.9890449418797265e-06\n",
      "['Age', 'Title_Mrs'] 0.19801684936784708 2.4984396244237994e-09\n",
      "['Age', 'Title_Rare'] 0.17062991151218895 2.9958574759424e-07\n",
      "['Age', 'Title_Royal'] 0.051550453792138316 0.12414060176089278\n",
      "['Age', 'FareBin_Extreme'] 0.048315641939473304 0.14957882529138417\n",
      "['Age', 'FareBin_High'] 0.08396685659672243 0.012166105173272058\n",
      "['Age', 'FareBin_Low'] -0.14523882701932644 1.346948697609315e-05\n",
      "['Age', 'FareBin_Mid'] 0.07283127581778016 0.029718529366397288\n",
      "['SibSp', 'Parch'] 0.4500139710086164 1.226001634071391e-45\n",
      "['SibSp', 'FamilyMember'] 0.8491645107690945 1.0319072257621108e-248\n",
      "['SibSp', 'Solo'] -0.8282153445446618 8.525296785814028e-226\n",
      "['SibSp', 'Baby'] 0.25223701704519497 2.1301280547140417e-14\n",
      "['SibSp', 'Sex_female'] 0.19520430353371407 4.2232366733721555e-09\n",
      "['SibSp', 'Sex_male'] -0.19520430353371407 4.2232366733721555e-09\n",
      "['SibSp', 'Embarked_C'] 0.014187948907597319 0.6723451022778726\n",
      "['SibSp', 'Embarked_Q'] -0.04853717368628955 0.14771895300371993\n",
      "['SibSp', 'Embarked_S'] 0.01811525427063495 0.5891841159611635\n",
      "['SibSp', 'Deck_A'] -0.05412283215041954 0.1064273344051499\n",
      "['SibSp', 'Deck_B'] -0.006824128587412821 0.8388113963328251\n",
      "['SibSp', 'Deck_C'] 0.09791617362105169 0.003436923708336965\n",
      "['SibSp', 'Deck_D'] 0.02964033787148935 0.37685545932862374\n",
      "['SibSp', 'Deck_E'] -0.012697946003868357 0.7050502273730317\n",
      "['SibSp', 'Deck_F'] 0.019571993515594074 0.559588806106894\n",
      "['SibSp', 'Deck_G'] 0.020025493927024372 0.5505246275441501\n",
      "['SibSp', 'Deck_T'] -0.022540459096263992 0.5016059438240772\n",
      "['SibSp', 'Deck_Z'] -0.052421004538002504 0.11790548233735784\n",
      "['SibSp', 'Title_Master'] 0.28762300236900784 1.9675745237195644e-18\n",
      "['SibSp', 'Title_Miss'] 0.026463604363991557 0.43013663193293317\n",
      "['SibSp', 'Title_Mr'] -0.3036872564265481 1.8255103634025785e-20\n",
      "['SibSp', 'Title_Mrs'] 0.23706456881832666 7.566512005308703e-13\n",
      "['SibSp', 'Title_Rare'] -0.02432977774375765 0.4682541716867801\n",
      "['SibSp', 'Title_Royal'] 0.014144225391982145 0.6732964241185856\n",
      "['SibSp', 'FareBin_Extreme'] 0.07578062504790781 0.023691162686249437\n",
      "['SibSp', 'FareBin_High'] 0.2987067014819539 8.042088467425101e-20\n",
      "['SibSp', 'FareBin_Low'] -0.4211752312125878 1.2727203611872168e-39\n",
      "['SibSp', 'FareBin_Mid'] 0.19008317474145772 1.0768529505054298e-08\n",
      "['Parch', 'FamilyMember'] 0.8012240815976783 1.7615676211406098e-200\n",
      "['Parch', 'Solo'] -0.6837186050496078 8.942710900545289e-124\n",
      "['Parch', 'Baby'] 0.38100618583611173 3.6739202929956985e-32\n",
      "['Parch', 'Sex_female'] 0.25451198226116245 1.2212845946692023e-14\n",
      "['Parch', 'Sex_male'] -0.25451198226116245 1.2212845946692023e-14\n",
      "['Parch', 'Embarked_C'] 0.02311465938827393 0.4907683009879368\n",
      "['Parch', 'Embarked_Q'] -0.09924985139527294 0.003019585562649734\n",
      "['Parch', 'Embarked_S'] 0.04220861606793708 0.20813742945225275\n",
      "['Parch', 'Deck_A'] -0.05004199815516389 0.13554898475506272\n",
      "['Parch', 'Deck_B'] 0.08763395843657248 0.00886530632225188\n",
      "['Parch', 'Deck_C'] 0.02638480490348218 0.4315114891142714\n",
      "['Parch', 'Deck_D'] -0.004104474318862052 0.9026253715628085\n",
      "['Parch', 'Deck_E'] 0.008582886199353995 0.7980736319808737\n",
      "['Parch', 'Deck_F'] 0.053790049298565214 0.10859938975054838\n",
      "['Parch', 'Deck_G'] 0.11069831192033286 0.000933488290060085\n",
      "['Parch', 'Deck_T'] -0.01860787940236514 0.5790954459465602\n",
      "['Parch', 'Deck_Z'] -0.08035259378058386 0.016439574467865686\n",
      "['Parch', 'Title_Master'] 0.3629237755436381 3.981839147874126e-29\n",
      "['Parch', 'Title_Miss'] 0.13461659316319893 5.554600093553928e-05\n",
      "['Parch', 'Title_Mr'] -0.3828275802374764 1.7727789645355693e-32\n",
      "['Parch', 'Title_Mrs'] 0.19759879934222513 2.7025092979116653e-09\n",
      "['Parch', 'Title_Rare'] -0.05555028190394085 0.09749786807066911\n",
      "['Parch', 'Title_Royal'] -0.026330311885354955 0.43246374406766097\n",
      "['Parch', 'FareBin_Extreme'] 0.19645439690997155 3.347579520654351e-09\n",
      "['Parch', 'FareBin_High'] 0.1955463406124874 3.963693663420515e-09\n",
      "['Parch', 'FareBin_Low'] -0.4035977547019613 3.129812918136356e-36\n",
      "['Parch', 'FareBin_Mid'] 0.20552487538727487 5.923559625204786e-10\n",
      "['FamilyMember', 'Solo'] -0.9636244615463929 0.0\n",
      "['FamilyMember', 'Baby'] 0.3305772721406257 3.6633996577951004e-24\n",
      "['FamilyMember', 'Sex_female'] 0.2920349228297498 5.604265685862463e-19\n",
      "['FamilyMember', 'Sex_male'] -0.2920349228297498 5.604265685862463e-19\n",
      "['FamilyMember', 'Embarked_C'] 0.051651904725364337 0.12340102540892024\n",
      "['FamilyMember', 'Embarked_Q'] -0.08249749903388127 0.01376791934120947\n",
      "['FamilyMember', 'Embarked_S'] 0.006666547640431196 0.8424842893524331\n",
      "['FamilyMember', 'Deck_A'] -0.05693571861765422 0.08941308189992855\n",
      "['FamilyMember', 'Deck_B'] 0.05081237954275023 0.12962552327654867\n",
      "['FamilyMember', 'Deck_C'] 0.09838760894460905 0.0032837580931941498\n",
      "['FamilyMember', 'Deck_D'] 0.0437383768136732 0.19210899190309916\n",
      "['FamilyMember', 'Deck_E'] 0.006092052974118234 0.8559030129664846\n",
      "['FamilyMember', 'Deck_F'] 0.02949983817108115 0.37912247506197183\n",
      "['FamilyMember', 'Deck_G'] 0.08033136326909443 0.016468146195855425\n",
      "['FamilyMember', 'Deck_T'] -0.026225712796455677 0.4342949923741204\n",
      "['FamilyMember', 'Deck_Z'] -0.10929552763957309 0.0010844668765885238\n",
      "['FamilyMember', 'Title_Master'] 0.3363731869193408 5.210466112246251e-25\n",
      "['FamilyMember', 'Title_Miss'] 0.07653528105350414 0.022330778430604964\n",
      "['FamilyMember', 'Title_Mr'] -0.41325245469906874 4.550812914022665e-38\n",
      "['FamilyMember', 'Title_Mrs'] 0.31387942673438435 8.020004587638455e-22\n",
      "['FamilyMember', 'Title_Rare'] -0.04017491114867964 0.23091461990798484\n",
      "['FamilyMember', 'Title_Royal'] -0.0005241470716971421 0.9875346540058643\n",
      "['FamilyMember', 'FareBin_Extreme'] 0.15545546748447572 3.129327372241628e-06\n",
      "['FamilyMember', 'FareBin_High'] 0.2976467170719217 1.0985300911807332e-19\n",
      "['FamilyMember', 'FareBin_Low'] -0.4950244003408637 2.924841268765409e-56\n",
      "['FamilyMember', 'FareBin_Mid'] 0.24127957287505486 2.875283345010597e-13\n",
      "['Solo', 'Baby'] -0.27013219312709896 2.305163761521278e-16\n",
      "['Solo', 'Sex_female'] -0.30364618554380884 1.848187596845614e-20\n",
      "['Solo', 'Sex_male'] 0.30364618554380884 1.848187596845614e-20\n",
      "['Solo', 'Embarked_C'] -0.09529848360306285 0.00441177673513482\n",
      "['Solo', 'Embarked_Q'] 0.08646366375783412 0.00981949748389716\n",
      "['Solo', 'Embarked_S'] 0.029073739383859844 0.38604880510553574\n",
      "['Solo', 'Deck_A'] 0.05276229445807651 0.11552907140146804\n",
      "['Solo', 'Deck_B'] -0.06491411023418525 0.052747197728094226\n",
      "['Solo', 'Deck_C'] -0.12506230865114035 0.0001821805977457696\n",
      "['Solo', 'Deck_D'] -0.08366378267614023 0.012482308284383249\n",
      "['Solo', 'Deck_E'] -0.02817933136768978 0.4008363756532439\n",
      "['Solo', 'Deck_F'] -0.015972217943333818 0.6339847834950318\n",
      "['Solo', 'Deck_G'] -0.08270917665673533 0.013526257589786544\n",
      "['Solo', 'Deck_T'] 0.027215698483172075 0.41714277334393124\n",
      "['Solo', 'Deck_Z'] 0.1580288826419088 2.13405270056828e-06\n",
      "['Solo', 'Title_Master'] -0.2670242644710922 5.186956365730471e-16\n",
      "['Solo', 'Title_Miss'] -0.048054450634968285 0.1517945102367127\n",
      "['Solo', 'Title_Mr'] 0.3969203780461501 5.388010899504132e-35\n",
      "['Solo', 'Title_Mrs'] -0.3616236324217062 6.470516628064416e-29\n",
      "['Solo', 'Title_Rare'] 0.035430105602813254 0.290775307957164\n",
      "['Solo', 'Title_Royal'] -0.009953972522309104 0.766685958559011\n",
      "['Solo', 'FareBin_Extreme'] -0.14620419405786 1.1782269858285029e-05\n",
      "['Solo', 'FareBin_High'] -0.2968561784074586 1.3850291054919186e-19\n",
      "['Solo', 'FareBin_Low'] 0.47653292075948356 1.0532481385391736e-51\n",
      "['Solo', 'FareBin_Mid'] -0.22296680178798492 1.6845076290764997e-11\n",
      "['Baby', 'Sex_female'] 0.05957059283243941 0.07552843048035851\n",
      "['Baby', 'Sex_male'] -0.05957059283243941 0.07552843048035851\n",
      "['Baby', 'Embarked_C'] -0.0039238472626820136 0.9068906507386638\n",
      "['Baby', 'Embarked_Q'] -0.03322920358311238 0.3218025963080348\n",
      "['Baby', 'Embarked_S'] 0.024348614959121457 0.46790970244282726\n",
      "['Baby', 'Deck_A'] 0.01043869609145049 0.7556773157310472\n",
      "['Baby', 'Deck_B'] -0.053785144374641186 0.10863166380580086\n",
      "['Baby', 'Deck_C'] -0.019031310394357206 0.5704890866349673\n",
      "['Baby', 'Deck_D'] -0.04469901562676742 0.1825180130183697\n",
      "['Baby', 'Deck_E'] -0.043990919561717745 0.1895524913726199\n",
      "['Baby', 'Deck_F'] 0.14506899810538856 1.3789161218468481e-05\n",
      "['Baby', 'Deck_G'] 0.13966439098935066 2.8693172765889344e-05\n",
      "['Baby', 'Deck_T'] -0.007639934403804812 0.8198543253540794\n",
      "['Baby', 'Deck_Z'] 0.013241904215848962 0.6930434351662312\n",
      "['Baby', 'Title_Master'] 0.5259500660746291 1.5582551489997988e-64\n",
      "['Baby', 'Title_Miss'] 0.15151645988899778 5.556177812221087e-06\n",
      "['Baby', 'Title_Mr'] -0.2679748913588318 4.0519914025012794e-16\n",
      "['Baby', 'Title_Mrs'] -0.09249945801257604 0.005725106550218577\n",
      "['Baby', 'Title_Rare'] -0.035410711589825554 0.2910396314372655\n",
      "['Baby', 'Title_Royal'] -0.010810573912590252 0.7472648455135398\n",
      "['Baby', 'FareBin_Extreme'] -0.009537827707686904 0.7761748467531222\n",
      "['Baby', 'FareBin_High'] 0.03657837533220342 0.27541241330388694\n",
      "['Baby', 'FareBin_Low'] -0.09892828113585388 0.0031157572471281754\n",
      "['Baby', 'FareBin_Mid'] 0.0988908231496835 0.0031271391979347824\n",
      "['Sex_female', 'Sex_male'] -1.0 0.0\n",
      "['Sex_female', 'Embarked_C'] 0.08285346936132247 0.013363677751668992\n",
      "['Sex_female', 'Embarked_Q'] 0.07411512301074054 0.026949674908178903\n",
      "['Sex_female', 'Embarked_S'] -0.11922374957907693 0.0003617585828009305\n",
      "['Sex_female', 'Deck_A'] -0.0782707049155859 0.019457039895608527\n",
      "['Sex_female', 'Deck_B'] 0.10968907264911035 0.0010399810040390852\n",
      "['Sex_female', 'Deck_C'] 0.058649357510697865 0.08016838627647435\n",
      "['Sex_female', 'Deck_D'] 0.07924813351165816 0.017984942942467073\n",
      "['Sex_female', 'Deck_E'] 0.04700252291580274 0.16097114785894115\n",
      "['Sex_female', 'Deck_F'] 0.00820232865990101 0.8068460609798237\n",
      "['Sex_female', 'Deck_G'] 0.09103140971697231 0.00654625846008164\n",
      "['Sex_female', 'Deck_T'] -0.024727596998439526 0.4610092494531962\n",
      "['Sex_female', 'Deck_Z'] -0.14039098300983044 2.6041345254326817e-05\n",
      "['Sex_female', 'Title_Master'] -0.1599344912092787 1.600972401191194e-06\n",
      "['Sex_female', 'Title_Miss'] 0.693915512425228 6.086738918146968e-129\n",
      "['Sex_female', 'Title_Mr'] -0.8673340331196777 1.299614086139258e-271\n",
      "['Sex_female', 'Title_Mrs'] 0.5501455919565241 1.2497998555142996e-71\n",
      "['Sex_female', 'Title_Rare'] -0.08363799522525674 0.012509545298096692\n",
      "['Sex_female', 'Title_Royal'] 0.01465335730690215 0.662251600804562\n",
      "['Sex_female', 'FareBin_Extreme'] 0.1518188101977791 5.3193446592027165e-06\n",
      "['Sex_female', 'FareBin_High'] 0.09153613125167115 0.00625272355276069\n",
      "['Sex_female', 'FareBin_Low'] -0.18786432469092884 1.6027250584085967e-08\n",
      "['Sex_female', 'FareBin_Mid'] 0.05749359947278594 0.08631370262802898\n",
      "['Sex_male', 'Embarked_C'] -0.08285346936132247 0.013363677751668992\n",
      "['Sex_male', 'Embarked_Q'] -0.07411512301074054 0.026949674908178903\n",
      "['Sex_male', 'Embarked_S'] 0.11922374957907693 0.0003617585828009305\n",
      "['Sex_male', 'Deck_A'] 0.0782707049155859 0.019457039895608527\n",
      "['Sex_male', 'Deck_B'] -0.10968907264911035 0.0010399810040390852\n",
      "['Sex_male', 'Deck_C'] -0.058649357510697865 0.08016838627647435\n",
      "['Sex_male', 'Deck_D'] -0.07924813351165816 0.017984942942467073\n",
      "['Sex_male', 'Deck_E'] -0.04700252291580274 0.16097114785894115\n",
      "['Sex_male', 'Deck_F'] -0.00820232865990101 0.8068460609798237\n",
      "['Sex_male', 'Deck_G'] -0.09103140971697231 0.00654625846008164\n",
      "['Sex_male', 'Deck_T'] 0.024727596998439526 0.4610092494531962\n",
      "['Sex_male', 'Deck_Z'] 0.14039098300983044 2.6041345254326817e-05\n",
      "['Sex_male', 'Title_Master'] 0.1599344912092787 1.600972401191194e-06\n",
      "['Sex_male', 'Title_Miss'] -0.693915512425228 6.086738918146968e-129\n",
      "['Sex_male', 'Title_Mr'] 0.8673340331196777 1.299614086139258e-271\n",
      "['Sex_male', 'Title_Mrs'] -0.5501455919565241 1.2497998555142996e-71\n",
      "['Sex_male', 'Title_Rare'] 0.08363799522525674 0.012509545298096692\n",
      "['Sex_male', 'Title_Royal'] -0.01465335730690215 0.662251600804562\n",
      "['Sex_male', 'FareBin_Extreme'] -0.1518188101977791 5.3193446592027165e-06\n",
      "['Sex_male', 'FareBin_High'] -0.09153613125167115 0.00625272355276069\n",
      "['Sex_male', 'FareBin_Low'] 0.18786432469092884 1.6027250584085967e-08\n",
      "['Sex_male', 'FareBin_Mid'] -0.05749359947278594 0.08631370262802898\n",
      "['Embarked_C', 'Embarked_Q'] -0.14825817586486473 8.837630501912982e-06\n",
      "['Embarked_C', 'Embarked_S'] -0.782742128718732 2.67861250354877e-185\n",
      "['Embarked_C', 'Deck_A'] 0.09304029719523149 0.005446784301927338\n",
      "['Embarked_C', 'Deck_B'] 0.16864154720258312 4.1243844189576494e-07\n",
      "['Embarked_C', 'Deck_C'] 0.11395197565847144 0.0006549986224673398\n",
      "['Embarked_C', 'Deck_D'] 0.10297709264931534 0.0020860646262746783\n",
      "['Embarked_C', 'Deck_E'] -0.015939117405951227 0.6346879568499021\n",
      "['Embarked_C', 'Deck_F'] -0.034726083186326744 0.30047391198301665\n",
      "['Embarked_C', 'Deck_G'] -0.0323708182938836 0.334468078354595\n",
      "['Embarked_C', 'Deck_T'] -0.01615810734091997 0.6300419713888983\n",
      "['Embarked_C', 'Deck_Z'] -0.20852753758866255 3.2796476635328604e-10\n",
      "['Embarked_C', 'Title_Master'] -0.03522488963989072 0.29358039880317116\n",
      "['Embarked_C', 'Title_Miss'] 0.03620369007549473 0.2803634080452603\n",
      "['Embarked_C', 'Title_Mr'] -0.07256696814450052 0.030317920268089334\n",
      "['Embarked_C', 'Title_Mrs'] 0.06787235033785445 0.04282056369687826\n",
      "['Embarked_C', 'Title_Rare'] 0.01967825893737 0.5574583939264925\n",
      "['Embarked_C', 'Title_Royal'] 0.03776620231116273 0.26011214213121336\n",
      "['Embarked_C', 'FareBin_Extreme'] 0.19837275304811391 2.3365815974135083e-09\n",
      "['Embarked_C', 'FareBin_High'] 0.14938785799572565 7.5323641004505375e-06\n",
      "['Embarked_C', 'FareBin_Low'] -0.15746926797448868 2.3205094980112698e-06\n",
      "['Embarked_C', 'FareBin_Mid'] -0.07662304731937693 0.022177055630688777\n",
      "['Embarked_Q', 'Embarked_S'] -0.4994205136163806 2.193758041778226e-57\n",
      "['Embarked_Q', 'Deck_A'] -0.04024637195309527 0.2300854279821576\n",
      "['Embarked_Q', 'Deck_B'] -0.0725789808881373 0.030290454809954667\n",
      "['Embarked_Q', 'Deck_C'] -0.04977613511541484 0.13764095491818043\n",
      "['Embarked_Q', 'Deck_D'] -0.06031793794762582 0.07192715538732682\n",
      "['Embarked_Q', 'Deck_E'] -0.03789654229938662 0.2584697237722009\n",
      "['Embarked_Q', 'Deck_F'] -0.004112597299638253 0.9024336226342136\n",
      "['Embarked_Q', 'Deck_G'] -0.02065386556486619 0.5380857327885715\n",
      "['Embarked_Q', 'Deck_T'] -0.010309513147682636 0.7586064790788234\n",
      "['Embarked_Q', 'Deck_Z'] 0.12957187437517712 0.00010505787037349202\n",
      "['Embarked_Q', 'Title_Master'] 0.010478352899125212 0.7547788167103333\n",
      "['Embarked_Q', 'Title_Miss'] 0.16753136343752598 4.922386095670254e-07\n",
      "['Embarked_Q', 'Title_Mr'] -0.07833757259465295 0.019353082177941603\n",
      "['Embarked_Q', 'Title_Mrs'] -0.09043155279486773 0.00691117185799562\n",
      "['Embarked_Q', 'Title_Rare'] 0.004875925995800823 0.884441567499944\n",
      "['Embarked_Q', 'Title_Royal'] -0.014588051152682585 0.6636642856114794\n",
      "['Embarked_Q', 'FareBin_Extreme'] -0.07419508802379596 0.02678482448123663\n",
      "['Embarked_Q', 'FareBin_High'] -0.13774530825451156 3.698432385842353e-05\n",
      "['Embarked_Q', 'FareBin_Low'] 0.1657469979814514 6.525119616020003e-07\n",
      "['Embarked_Q', 'FareBin_Mid'] -0.024789505416050264 0.45988744974354256\n",
      "['Embarked_S', 'Deck_A'] -0.056180052617075205 0.09375328011921917\n",
      "['Embarked_S', 'Deck_B'] -0.10206292009323796 0.00228665149907878\n",
      "['Embarked_S', 'Deck_C'] -0.06850245538907827 0.04092354822918968\n",
      "['Embarked_S', 'Deck_D'] -0.05225404201124744 0.11908190982739593\n",
      "['Embarked_S', 'Deck_E'] 0.03781164544244527 0.2595386949096521\n",
      "['Embarked_S', 'Deck_F'] 0.03300953721979673 0.3250136260458807\n",
      "['Embarked_S', 'Deck_G'] 0.041355661214851534 0.2174841608424174\n",
      "['Embarked_S', 'Deck_T'] 0.02064295091330924 0.5383005854651959\n",
      "['Embarked_S', 'Deck_Z'] 0.10113901569373976 0.0025071544343372963\n",
      "['Embarked_S', 'Title_Master'] 0.024264415970494183 0.4694505048960651\n",
      "['Embarked_S', 'Title_Miss'] -0.13714353713463762 4.002105154473237e-05\n",
      "['Embarked_S', 'Title_Mr'] 0.11286954238195172 0.0007376892031558857\n",
      "['Embarked_S', 'Title_Mrs'] -0.002550323439776823 0.9394036246651706\n",
      "['Embarked_S', 'Title_Rare'] -0.020307387852025672 0.5449269706100506\n",
      "['Embarked_S', 'Title_Royal'] -0.023904474072120735 0.4760687457124212\n",
      "['Embarked_S', 'FareBin_Extreme'] -0.12709166128947708 0.00014252384012219848\n",
      "['Embarked_S', 'FareBin_High'] -0.04418667671246337 0.18758811938663297\n",
      "['Embarked_S', 'FareBin_Low'] 0.03364483917045474 0.31578369975800646\n",
      "['Embarked_S', 'FareBin_Mid'] 0.0827249945346143 0.013508350268701425\n",
      "['Deck_A', 'Deck_B'] -0.030879572699891708 0.35722316235383345\n",
      "['Deck_A', 'Deck_C'] -0.03484640012520641 0.29880135493672594\n",
      "['Deck_A', 'Deck_D'] -0.025662969184315185 0.44422355670911207\n",
      "['Deck_A', 'Deck_E'] -0.02525643120485188 0.4514759189214458\n",
      "['Deck_A', 'Deck_F'] -0.0159227470031184 0.635035844245137\n",
      "['Deck_A', 'Deck_G'] -0.008787427646952783 0.7933690607943379\n",
      "['Deck_A', 'Deck_T'] -0.0043863024369964485 0.8959760033669057\n",
      "['Deck_A', 'Deck_Z'] -0.24013577276910789 3.7454746918076087e-13\n",
      "['Deck_A', 'Title_Master'] 0.013759432773379826 0.681690981217528\n",
      "['Deck_A', 'Title_Miss'] -0.06698492726294634 0.045617730611263466\n",
      "['Deck_A', 'Title_Mr'] 0.040590731140540376 0.22611931056346574\n",
      "['Deck_A', 'Title_Mrs'] -0.05310655519494416 0.11317022745559846\n",
      "['Deck_A', 'Title_Rare'] 0.09468107005800991 0.00467545406121056\n",
      "['Deck_A', 'Title_Royal'] 0.17813103467988264 8.672637355433784e-08\n",
      "['Deck_A', 'FareBin_Extreme'] -0.03156716430252527 0.3466127590768847\n",
      "['Deck_A', 'FareBin_High'] 0.1911061870777464 8.950231484458264e-09\n",
      "['Deck_A', 'FareBin_Low'] -0.13548142466933602 4.968325791062949e-05\n",
      "['Deck_A', 'FareBin_Mid'] -0.0093088596031277 0.7814101114881375\n",
      "['Deck_B', 'Deck_C'] -0.06284084964615629 0.06079330061635375\n",
      "['Deck_B', 'Deck_D'] -0.046279752921133045 0.16751477004671908\n",
      "['Deck_B', 'Deck_E'] -0.04554661572615416 0.17435401306527964\n",
      "['Deck_B', 'Deck_F'] -0.028714557222023002 0.3919468971022183\n",
      "['Deck_B', 'Deck_G'] -0.01584695743475642 0.6366474957696582\n",
      "['Deck_B', 'Deck_T'] -0.007910113267237529 0.8135986344908361\n",
      "['Deck_B', 'Deck_Z'] -0.4330529390991911 4.976767797711887e-42\n",
      "['Deck_B', 'Title_Master'] -0.026914193076045288 0.4223238855258843\n",
      "['Deck_B', 'Title_Miss'] 0.06487965227002748 0.052873278786655084\n",
      "['Deck_B', 'Title_Mr'] -0.11467328077980121 0.0006047658799593188\n",
      "['Deck_B', 'Title_Mrs'] 0.06273120604423581 0.06124564435577857\n",
      "['Deck_B', 'Title_Rare'] 0.06262794252353181 0.06167420754854565\n",
      "['Deck_B', 'Title_Royal'] 0.09490132822651925 0.004579797384450847\n",
      "['Deck_B', 'FareBin_Extreme'] 0.2734383445554994 9.615530224058466e-17\n",
      "['Deck_B', 'FareBin_High'] 0.18866502737194285 1.3892332420421378e-08\n",
      "['Deck_B', 'FareBin_Low'] -0.2456782341446403 1.0269648971194566e-13\n",
      "['Deck_B', 'FareBin_Mid'] -0.04788011178812312 0.1532872535337388\n",
      "['Deck_C', 'Deck_D'] -0.05222490620769334 0.11928814033302439\n",
      "['Deck_C', 'Deck_E'] -0.051397589317942624 0.12526149703685946\n",
      "['Deck_C', 'Deck_F'] -0.03240326412872475 0.33398358303830533\n",
      "['Deck_C', 'Deck_G'] -0.017882676839649832 0.5939751285644963\n",
      "['Deck_C', 'Deck_T'] -0.00892625602772118 0.7901801880399428\n",
      "['Deck_C', 'Deck_Z'] -0.4886834457816179 1.148386050608134e-54\n",
      "['Deck_C', 'Title_Master'] -0.035936795735807825 0.2839266726275172\n",
      "['Deck_C', 'Title_Miss'] 0.008342583819405176 0.8036100800376763\n",
      "['Deck_C', 'Title_Mr'] -0.04787290700756568 0.15334918206133236\n",
      "['Deck_C', 'Title_Mrs'] 0.07327011570244879 0.02874580100123223\n",
      "['Deck_C', 'Title_Rare'] 0.018131882120406825 0.5888422709540982\n",
      "['Deck_C', 'Title_Royal'] -0.012630730245841708 0.7065390590249836\n",
      "['Deck_C', 'FareBin_Extreme'] 0.3317332192764603 2.491153128305326e-24\n",
      "['Deck_C', 'FareBin_High'] 0.18638431275569287 2.084045691356774e-08\n",
      "['Deck_C', 'FareBin_Low'] -0.3116549539986203 1.6030248005660345e-21\n",
      "['Deck_C', 'FareBin_Mid'] 0.007362730129013564 0.8262845940185569\n",
      "['Deck_D', 'Deck_E'] -0.037852252917807985 0.25902700881174867\n",
      "['Deck_D', 'Deck_F'] -0.023863697995167386 0.47682170036982874\n",
      "['Deck_D', 'Deck_G'] -0.013169870718927874 0.6946290951619665\n",
      "['Deck_D', 'Deck_T'] -0.006573827785585625 0.8446470066730012\n",
      "['Deck_D', 'Deck_Z'] -0.35989566109891913 1.2293506606099084e-28\n",
      "['Deck_D', 'Title_Master'] -0.042518559415676546 0.20481412501993917\n",
      "['Deck_D', 'Title_Miss'] 0.016822355446399706 0.6160393049706636\n",
      "['Deck_D', 'Title_Mr'] -0.04995170033745162 0.13625673519191236\n",
      "['Deck_D', 'Title_Mrs'] 0.07390659560519332 0.02738367993885639\n",
      "['Deck_D', 'Title_Rare'] 0.008705531728897117 0.7952518235315605\n",
      "['Deck_D', 'Title_Royal'] -0.009302023735874023 0.7815665643113299\n",
      "['Deck_D', 'FareBin_Extreme'] 0.03089649529491863 0.3569595990835248\n",
      "['Deck_D', 'FareBin_High'] 0.20729483162982862 4.185091303686404e-10\n",
      "['Deck_D', 'FareBin_Low'] -0.18138868746984632 4.9786490697476877e-08\n",
      "['Deck_D', 'FareBin_Mid'] -0.004209459010916873 0.900147571714058\n",
      "['Deck_E', 'Deck_F'] -0.02348566303374884 0.48383324179984866\n",
      "['Deck_E', 'Deck_G'] -0.01296124121103998 0.6992291287269963\n",
      "['Deck_E', 'Deck_T'] -0.006469688991430618 0.8470774678401485\n",
      "['Deck_E', 'Deck_Z'] -0.3541944012863879 9.936986835144966e-28\n",
      "['Deck_E', 'Title_Master'] -0.012716958515005074 0.7046293037451603\n",
      "['Deck_E', 'Title_Miss'] 0.0201607715499782 0.5478348532275701\n",
      "['Deck_E', 'Title_Mr'] -0.03138364455376794 0.3494249087063116\n",
      "['Deck_E', 'Title_Mrs'] 0.04283719572123586 0.20143794320864397\n",
      "['Deck_E', 'Title_Rare'] -0.029986682979545647 0.37130279820544454\n",
      "['Deck_E', 'Title_Royal'] -0.009154666432541671 0.7849412736198715\n",
      "['Deck_E', 'FareBin_Extreme'] 0.006354598508829608 0.8497652161562976\n",
      "['Deck_E', 'FareBin_High'] 0.12425243724303615 0.00020072766620890433\n",
      "['Deck_E', 'FareBin_Low'] -0.14039707653854205 2.602012280412939e-05\n",
      "['Deck_E', 'FareBin_Mid'] 0.047789870888002225 0.15406428872805766\n",
      "['Deck_F', 'Deck_G'] -0.00817132725426921 0.8075617762036206\n",
      "['Deck_F', 'Deck_T'] -0.004078771864633838 0.9032321341835189\n",
      "['Deck_F', 'Deck_Z'] -0.22329947552212864 1.56924512316277e-11\n",
      "['Deck_F', 'Title_Master'] 0.10922707907583101 0.0010923812940461443\n",
      "['Deck_F', 'Title_Miss'] 0.006941089513805471 0.8360875336563118\n",
      "['Deck_F', 'Title_Mr'] -0.048234735211692366 0.15026250738457636\n",
      "['Deck_F', 'Title_Mrs'] 0.0043413776673804265 0.8970354686248586\n",
      "['Deck_F', 'Title_Rare'] -0.018904902385983084 0.5730519882133553\n",
      "['Deck_F', 'Title_Royal'] -0.005771497814596184 0.8634087390755074\n",
      "['Deck_F', 'FareBin_Extreme'] -0.029353940694426855 0.3814854305804878\n",
      "['Deck_F', 'FareBin_High'] -0.016135443160823913 0.6305221307638904\n",
      "['Deck_F', 'FareBin_Low'] -0.009742019777613064 0.7715146163645911\n",
      "['Deck_F', 'FareBin_Mid'] 0.04930819948723362 0.14138319701589686\n",
      "['Deck_G', 'Deck_T'] -0.0022509880136811233 0.9465045583779369\n",
      "['Deck_G', 'Deck_Z'] -0.12323426255337197 0.00022656064361314788\n",
      "['Deck_G', 'Title_Master'] -0.014559062197147355 0.6642917498072531\n",
      "['Deck_G', 'Title_Miss'] 0.0484047184832874 0.14882884939030794\n",
      "['Deck_G', 'Title_Mr'] -0.0789546397303914 0.018416386473679103\n",
      "['Deck_G', 'Title_Mrs'] 0.06910716196715 0.03917033882063898\n",
      "['Deck_G', 'Title_Rare'] -0.010433216194228071 0.7558014990115682\n",
      "['Deck_G', 'Title_Royal'] -0.003185167700672343 0.9243602397874306\n",
      "['Deck_G', 'FareBin_Extreme'] -0.016199819663950035 0.6291586692179703\n",
      "['Deck_G', 'FareBin_High'] -0.03437571178275689 0.30537993655038553\n",
      "['Deck_G', 'FareBin_Low'] 0.05737972912097203 0.08693918645144465\n",
      "['Deck_G', 'FareBin_Mid'] -0.029239601477531615 0.38334356022969607\n",
      "['Deck_T', 'Deck_Z'] -0.06151319451793833 0.06646032242703136\n",
      "['Deck_T', 'Title_Master'] -0.007267251869536043 0.8285021088081191\n",
      "['Deck_T', 'Title_Miss'] -0.017158863142216697 0.60899802298522\n",
      "['Deck_T', 'Title_Mr'] 0.02850988898648179 0.3953320075934915\n",
      "['Deck_T', 'Title_Mrs'] -0.013603778488368886 0.6850979825885515\n",
      "['Deck_T', 'Title_Rare'] -0.005207808639462623 0.8766368831333986\n",
      "['Deck_T', 'Title_Royal'] -0.0015898974545237067 0.9622014048424102\n",
      "['Deck_T', 'FareBin_Extreme'] -0.00808624677501926 0.8095268149155501\n",
      "['Deck_T', 'FareBin_High'] 0.0654819317751621 0.05070541935477919\n",
      "['Deck_T', 'FareBin_Low'] -0.03922967305989595 0.24208250849855126\n",
      "['Deck_T', 'FareBin_Mid'] -0.014595139825950823 0.6635108875058731\n",
      "['Deck_Z', 'Title_Master'] 0.02784139912677691 0.40651078702564447\n",
      "['Deck_Z', 'Title_Miss'] -0.04374885317660121 0.19200243856467894\n",
      "['Deck_Z', 'Title_Mr'] 0.13731879586358253 3.91130921596244e-05\n",
      "['Deck_Z', 'Title_Mrs'] -0.12381735741705249 0.00021140872327939572\n",
      "['Deck_Z', 'Title_Rare'] -0.056203953544145833 0.09361346677432021\n",
      "['Deck_Z', 'Title_Royal'] -0.08704170753148568 0.009337335780872761\n",
      "['Deck_Z', 'FareBin_Extreme'] -0.3372393396257266 3.8791588312537573e-25\n",
      "['Deck_Z', 'FareBin_High'] -0.41254303768406764 6.239648146576934e-38\n",
      "['Deck_Z', 'FareBin_Low'] 0.497119838615761 8.549650611316652e-57\n",
      "['Deck_Z', 'FareBin_Mid'] -0.003562958170107482 0.9154205015242508\n",
      "['Title_Master', 'Title_Miss'] -0.11098102442195477 0.0009055191559731858\n",
      "['Title_Master', 'Title_Mr'] -0.2549028469729178 1.1093478425686695e-14\n",
      "['Title_Master', 'Title_Mrs'] -0.08798725534059415 0.008593968878937467\n",
      "['Title_Master', 'Title_Rare'] -0.03368334679347542 0.31522982338672795\n",
      "['Title_Master', 'Title_Royal'] -0.010283224871394622 0.7592029788501801\n",
      "['Title_Master', 'FareBin_Extreme'] -0.004749754258967737 0.8874116539628294\n",
      "['Title_Master', 'FareBin_High'] 0.0760969889077025 0.02311236720991429\n",
      "['Title_Master', 'FareBin_Low'] -0.1330121239843796 6.819518328469991e-05\n",
      "['Title_Master', 'FareBin_Mid'] 0.09810540307972697 0.0033746810759484147\n",
      "['Title_Miss', 'Title_Mr'] -0.6018565400360809 6.604115613923126e-89\n",
      "['Title_Miss', 'Title_Mrs'] -0.2077485822360684 3.8265577448221694e-10\n",
      "['Title_Miss', 'Title_Rare'] -0.07953046738669967 0.01757827214577091\n",
      "['Title_Miss', 'Title_Royal'] -0.02427994122077457 0.4691661896039916\n",
      "['Title_Miss', 'FareBin_Extreme'] 0.13140290214536293 8.358200630994463e-05\n",
      "['Title_Miss', 'FareBin_High'] 0.004011943955286731 0.904810016283633\n",
      "['Title_Miss', 'FareBin_Low'] -0.04443118348171318 0.18515568075582012\n",
      "['Title_Miss', 'FareBin_Mid'] -0.026335915302126558 0.4323657694498497\n",
      "['Title_Mr', 'Title_Mrs'] -0.47715999507466467 7.4566114479759e-52\n",
      "['Title_Mr', 'Title_Rare'] -0.18266674563103175 3.993401333831221e-08\n",
      "['Title_Mr', 'Title_Royal'] -0.05576652561774512 0.09619886458608833\n",
      "['Title_Mr', 'FareBin_Extreme'] -0.14397001102469825 1.6039192154474654e-05\n",
      "['Title_Mr', 'FareBin_High'] -0.14210597776815112 2.0674494989293517e-05\n",
      "['Title_Mr', 'FareBin_Low'] 0.25865773615295024 4.36897390859685e-15\n",
      "['Title_Mr', 'FareBin_Mid'] -0.10186491016145599 0.0023323588498497167\n",
      "['Title_Mrs', 'Title_Rare'] -0.0630528288755463 0.059926598096975654\n",
      "['Title_Mrs', 'Title_Royal'] -0.01924946538360022 0.5660788983436502\n",
      "['Title_Mrs', 'FareBin_Extreme'] 0.05751451735636634 0.08619919726956937\n",
      "['Title_Mrs', 'FareBin_High'] 0.10989017670402074 0.0010179050271883327\n",
      "['Title_Mrs', 'FareBin_Low'] -0.19453261699793228 4.78183237489697e-09\n",
      "['Title_Mrs', 'FareBin_Mid'] 0.10488743031629572 0.0017179181265681227\n",
      "['Title_Rare', 'Title_Royal'] -0.00736909471258009 0.8261368233745385\n",
      "['Title_Rare', 'FareBin_Extreme'] -0.005026384725649296 0.8809018861330641\n",
      "['Title_Rare', 'FareBin_High'] 0.06638798088418714 0.04758452942758272\n",
      "['Title_Rare', 'FareBin_Low'] -0.07696778308314953 0.02158210835127161\n",
      "['Title_Rare', 'FareBin_Mid'] 0.03341553294798661 0.3190951404434593\n",
      "['Title_Royal', 'FareBin_Extreme'] -0.01144210981618575 0.7330475993862589\n",
      "['Title_Royal', 'FareBin_High'] 0.09265750541549646 0.005642477990186136\n",
      "['Title_Royal', 'FareBin_Low'] -0.055510330032355955 0.0977393888659251\n",
      "['Title_Royal', 'FareBin_Mid'] -0.02065225033535014 0.5381175255412465\n",
      "['FareBin_Extreme', 'FareBin_High'] -0.12348821355460449 0.0002198406598714196\n",
      "['FareBin_Extreme', 'FareBin_Low'] -0.2823265273664227 8.630831980235502e-18\n",
      "['FareBin_Extreme', 'FareBin_Mid'] -0.1050377130902095 0.0016916518674084037\n",
      "['FareBin_High', 'FareBin_Low'] -0.5990915661223073 6.672552702211394e-88\n",
      "['FareBin_High', 'FareBin_Mid'] -0.22288804606535587 1.7129830964457557e-11\n",
      "['FareBin_Low', 'FareBin_Mid'] -0.5095806816356104 4.761002285240104e-60\n"
     ]
    }
   ],
   "source": [
    "a = []\n",
    "b = []\n",
    "for x in df_train_transformed.columns:\n",
    "    for y in df_train_transformed.columns:\n",
    "        if x != y:\n",
    "            if [y,x] not in a:\n",
    "                if np.abs(spearmanr(df_train_transformed[x], df_train_transformed[y])[0]) > 0.8:\n",
    "                    if spearmanr(df_train_transformed[x], df_train_transformed[y])[1] < 0.05:\n",
    "                        b.append(x)\n",
    "                a.append([x,y])\n",
    "                print([x,y], spearmanr(df_train_transformed[x], df_train_transformed[y])[0], spearmanr(df_train_transformed[x], df_train_transformed[y])[1])\n",
    "            "
   ]
  },
  {
   "cell_type": "code",
   "execution_count": 607,
   "metadata": {
    "colab": {
     "base_uri": "https://localhost:8080/"
    },
    "id": "Oi8fo-i1vA8_",
    "outputId": "1665bc8c-4cbb-4d2b-ad31-904d791493a4"
   },
   "outputs": [
    {
     "data": {
      "text/plain": [
       "['SibSp',\n",
       " 'SibSp',\n",
       " 'Parch',\n",
       " 'FamilyMember',\n",
       " 'Sex_female',\n",
       " 'Sex_female',\n",
       " 'Sex_male']"
      ]
     },
     "execution_count": 607,
     "metadata": {},
     "output_type": "execute_result"
    }
   ],
   "source": [
    "b"
   ]
  },
  {
   "cell_type": "code",
   "execution_count": 608,
   "metadata": {
    "id": "VeiEwvW3vBDc"
   },
   "outputs": [],
   "source": [
    "df_train_transformed_mc = df_train_transformed.drop(b, axis=1)"
   ]
  },
  {
   "cell_type": "code",
   "execution_count": 609,
   "metadata": {
    "colab": {
     "base_uri": "https://localhost:8080/",
     "height": 270
    },
    "id": "r276dBYsvBLT",
    "outputId": "e41da3c7-d590-4439-d267-9c474afe4ced"
   },
   "outputs": [
    {
     "data": {
      "text/html": [
       "<div>\n",
       "<style scoped>\n",
       "    .dataframe tbody tr th:only-of-type {\n",
       "        vertical-align: middle;\n",
       "    }\n",
       "\n",
       "    .dataframe tbody tr th {\n",
       "        vertical-align: top;\n",
       "    }\n",
       "\n",
       "    .dataframe thead th {\n",
       "        text-align: right;\n",
       "    }\n",
       "</style>\n",
       "<table border=\"1\" class=\"dataframe\">\n",
       "  <thead>\n",
       "    <tr style=\"text-align: right;\">\n",
       "      <th></th>\n",
       "      <th>Survived</th>\n",
       "      <th>Pclass</th>\n",
       "      <th>Age</th>\n",
       "      <th>Solo</th>\n",
       "      <th>Baby</th>\n",
       "      <th>Embarked_C</th>\n",
       "      <th>Embarked_Q</th>\n",
       "      <th>Embarked_S</th>\n",
       "      <th>Deck_A</th>\n",
       "      <th>Deck_B</th>\n",
       "      <th>Deck_C</th>\n",
       "      <th>Deck_D</th>\n",
       "      <th>Deck_E</th>\n",
       "      <th>Deck_F</th>\n",
       "      <th>Deck_G</th>\n",
       "      <th>Deck_T</th>\n",
       "      <th>Deck_Z</th>\n",
       "      <th>Title_Master</th>\n",
       "      <th>Title_Miss</th>\n",
       "      <th>Title_Mr</th>\n",
       "      <th>Title_Mrs</th>\n",
       "      <th>Title_Rare</th>\n",
       "      <th>Title_Royal</th>\n",
       "      <th>FareBin_Extreme</th>\n",
       "      <th>FareBin_High</th>\n",
       "      <th>FareBin_Low</th>\n",
       "      <th>FareBin_Mid</th>\n",
       "    </tr>\n",
       "  </thead>\n",
       "  <tbody>\n",
       "    <tr>\n",
       "      <th>0</th>\n",
       "      <td>0.0</td>\n",
       "      <td>1.0</td>\n",
       "      <td>0.271174</td>\n",
       "      <td>0.0</td>\n",
       "      <td>0.0</td>\n",
       "      <td>0.0</td>\n",
       "      <td>0.0</td>\n",
       "      <td>1.0</td>\n",
       "      <td>0.0</td>\n",
       "      <td>0.0</td>\n",
       "      <td>0.0</td>\n",
       "      <td>0.0</td>\n",
       "      <td>0.0</td>\n",
       "      <td>0.0</td>\n",
       "      <td>0.0</td>\n",
       "      <td>0.0</td>\n",
       "      <td>1.0</td>\n",
       "      <td>0.0</td>\n",
       "      <td>0.0</td>\n",
       "      <td>1.0</td>\n",
       "      <td>0.0</td>\n",
       "      <td>0.0</td>\n",
       "      <td>0.0</td>\n",
       "      <td>0.0</td>\n",
       "      <td>0.0</td>\n",
       "      <td>1.0</td>\n",
       "      <td>0.0</td>\n",
       "    </tr>\n",
       "    <tr>\n",
       "      <th>1</th>\n",
       "      <td>1.0</td>\n",
       "      <td>0.0</td>\n",
       "      <td>0.472229</td>\n",
       "      <td>0.0</td>\n",
       "      <td>0.0</td>\n",
       "      <td>1.0</td>\n",
       "      <td>0.0</td>\n",
       "      <td>0.0</td>\n",
       "      <td>0.0</td>\n",
       "      <td>0.0</td>\n",
       "      <td>1.0</td>\n",
       "      <td>0.0</td>\n",
       "      <td>0.0</td>\n",
       "      <td>0.0</td>\n",
       "      <td>0.0</td>\n",
       "      <td>0.0</td>\n",
       "      <td>0.0</td>\n",
       "      <td>0.0</td>\n",
       "      <td>0.0</td>\n",
       "      <td>0.0</td>\n",
       "      <td>1.0</td>\n",
       "      <td>0.0</td>\n",
       "      <td>0.0</td>\n",
       "      <td>0.0</td>\n",
       "      <td>1.0</td>\n",
       "      <td>0.0</td>\n",
       "      <td>0.0</td>\n",
       "    </tr>\n",
       "    <tr>\n",
       "      <th>2</th>\n",
       "      <td>1.0</td>\n",
       "      <td>1.0</td>\n",
       "      <td>0.321438</td>\n",
       "      <td>1.0</td>\n",
       "      <td>0.0</td>\n",
       "      <td>0.0</td>\n",
       "      <td>0.0</td>\n",
       "      <td>1.0</td>\n",
       "      <td>0.0</td>\n",
       "      <td>0.0</td>\n",
       "      <td>0.0</td>\n",
       "      <td>0.0</td>\n",
       "      <td>0.0</td>\n",
       "      <td>0.0</td>\n",
       "      <td>0.0</td>\n",
       "      <td>0.0</td>\n",
       "      <td>1.0</td>\n",
       "      <td>0.0</td>\n",
       "      <td>1.0</td>\n",
       "      <td>0.0</td>\n",
       "      <td>0.0</td>\n",
       "      <td>0.0</td>\n",
       "      <td>0.0</td>\n",
       "      <td>0.0</td>\n",
       "      <td>0.0</td>\n",
       "      <td>1.0</td>\n",
       "      <td>0.0</td>\n",
       "    </tr>\n",
       "    <tr>\n",
       "      <th>3</th>\n",
       "      <td>1.0</td>\n",
       "      <td>0.0</td>\n",
       "      <td>0.434531</td>\n",
       "      <td>0.0</td>\n",
       "      <td>0.0</td>\n",
       "      <td>0.0</td>\n",
       "      <td>0.0</td>\n",
       "      <td>1.0</td>\n",
       "      <td>0.0</td>\n",
       "      <td>0.0</td>\n",
       "      <td>1.0</td>\n",
       "      <td>0.0</td>\n",
       "      <td>0.0</td>\n",
       "      <td>0.0</td>\n",
       "      <td>0.0</td>\n",
       "      <td>0.0</td>\n",
       "      <td>0.0</td>\n",
       "      <td>0.0</td>\n",
       "      <td>0.0</td>\n",
       "      <td>0.0</td>\n",
       "      <td>1.0</td>\n",
       "      <td>0.0</td>\n",
       "      <td>0.0</td>\n",
       "      <td>0.0</td>\n",
       "      <td>1.0</td>\n",
       "      <td>0.0</td>\n",
       "      <td>0.0</td>\n",
       "    </tr>\n",
       "    <tr>\n",
       "      <th>4</th>\n",
       "      <td>0.0</td>\n",
       "      <td>1.0</td>\n",
       "      <td>0.434531</td>\n",
       "      <td>1.0</td>\n",
       "      <td>0.0</td>\n",
       "      <td>0.0</td>\n",
       "      <td>0.0</td>\n",
       "      <td>1.0</td>\n",
       "      <td>0.0</td>\n",
       "      <td>0.0</td>\n",
       "      <td>0.0</td>\n",
       "      <td>0.0</td>\n",
       "      <td>0.0</td>\n",
       "      <td>0.0</td>\n",
       "      <td>0.0</td>\n",
       "      <td>0.0</td>\n",
       "      <td>1.0</td>\n",
       "      <td>0.0</td>\n",
       "      <td>0.0</td>\n",
       "      <td>1.0</td>\n",
       "      <td>0.0</td>\n",
       "      <td>0.0</td>\n",
       "      <td>0.0</td>\n",
       "      <td>0.0</td>\n",
       "      <td>0.0</td>\n",
       "      <td>1.0</td>\n",
       "      <td>0.0</td>\n",
       "    </tr>\n",
       "  </tbody>\n",
       "</table>\n",
       "</div>"
      ],
      "text/plain": [
       "   Survived  Pclass       Age  Solo  Baby  Embarked_C  Embarked_Q  Embarked_S  \\\n",
       "0       0.0     1.0  0.271174   0.0   0.0         0.0         0.0         1.0   \n",
       "1       1.0     0.0  0.472229   0.0   0.0         1.0         0.0         0.0   \n",
       "2       1.0     1.0  0.321438   1.0   0.0         0.0         0.0         1.0   \n",
       "3       1.0     0.0  0.434531   0.0   0.0         0.0         0.0         1.0   \n",
       "4       0.0     1.0  0.434531   1.0   0.0         0.0         0.0         1.0   \n",
       "\n",
       "   Deck_A  Deck_B  Deck_C  Deck_D  Deck_E  Deck_F  Deck_G  Deck_T  Deck_Z  \\\n",
       "0     0.0     0.0     0.0     0.0     0.0     0.0     0.0     0.0     1.0   \n",
       "1     0.0     0.0     1.0     0.0     0.0     0.0     0.0     0.0     0.0   \n",
       "2     0.0     0.0     0.0     0.0     0.0     0.0     0.0     0.0     1.0   \n",
       "3     0.0     0.0     1.0     0.0     0.0     0.0     0.0     0.0     0.0   \n",
       "4     0.0     0.0     0.0     0.0     0.0     0.0     0.0     0.0     1.0   \n",
       "\n",
       "   Title_Master  Title_Miss  Title_Mr  Title_Mrs  Title_Rare  Title_Royal  \\\n",
       "0           0.0         0.0       1.0        0.0         0.0          0.0   \n",
       "1           0.0         0.0       0.0        1.0         0.0          0.0   \n",
       "2           0.0         1.0       0.0        0.0         0.0          0.0   \n",
       "3           0.0         0.0       0.0        1.0         0.0          0.0   \n",
       "4           0.0         0.0       1.0        0.0         0.0          0.0   \n",
       "\n",
       "   FareBin_Extreme  FareBin_High  FareBin_Low  FareBin_Mid  \n",
       "0              0.0           0.0          1.0          0.0  \n",
       "1              0.0           1.0          0.0          0.0  \n",
       "2              0.0           0.0          1.0          0.0  \n",
       "3              0.0           1.0          0.0          0.0  \n",
       "4              0.0           0.0          1.0          0.0  "
      ]
     },
     "execution_count": 609,
     "metadata": {},
     "output_type": "execute_result"
    }
   ],
   "source": [
    "df_train_transformed_mc.head()"
   ]
  },
  {
   "cell_type": "code",
   "execution_count": 610,
   "metadata": {
    "id": "90HMGiqEv2dw"
   },
   "outputs": [],
   "source": [
    "# Second step, i using \"WoE Calculation\" method\n",
    "def calculate_woe_iv(dataset, feature, target):\n",
    "    lst = []\n",
    "    for i in range(dataset[feature].nunique()):\n",
    "        val = list(dataset[feature].unique())[i]\n",
    "        lst.append({\n",
    "            'Value': val,\n",
    "            'All': dataset[dataset[feature] == val].count()[feature],\n",
    "            'Good': dataset[(dataset[feature] == val) & (dataset[target] == 1)].count()[feature],\n",
    "            'Bad': dataset[(dataset[feature] == val) & (dataset[target] == 0)].count()[feature]\n",
    "        })\n",
    "        \n",
    "    dset = pd.DataFrame(lst)\n",
    "    dset['Distr_Good'] = dset['Good'] / dset['Good'].sum()\n",
    "    dset['Distr_Bad'] = dset['Bad'] / dset['Bad'].sum()\n",
    "    dset['WoE'] = np.log(dset['Distr_Good'] / dset['Distr_Bad'])\n",
    "    dset = dset.replace({'WoE': {np.inf: 0, -np.inf: 0}})\n",
    "    dset['IV'] = (dset['Distr_Good'] - dset['Distr_Bad']) * dset['WoE']\n",
    "    iv = dset['IV'].sum()\n",
    "    \n",
    "    dset = dset.sort_values(by='WoE')\n",
    "    \n",
    "    return dset, iv"
   ]
  },
  {
   "cell_type": "code",
   "execution_count": 611,
   "metadata": {
    "colab": {
     "base_uri": "https://localhost:8080/",
     "height": 1000
    },
    "id": "37068d79",
    "outputId": "d2776cb3-a2cb-4e5b-c0a5-d6a8d4c96739",
    "tags": []
   },
   "outputs": [
    {
     "data": {
      "text/html": [
       "<div>\n",
       "<style scoped>\n",
       "    .dataframe tbody tr th:only-of-type {\n",
       "        vertical-align: middle;\n",
       "    }\n",
       "\n",
       "    .dataframe tbody tr th {\n",
       "        vertical-align: top;\n",
       "    }\n",
       "\n",
       "    .dataframe thead th {\n",
       "        text-align: right;\n",
       "    }\n",
       "</style>\n",
       "<table border=\"1\" class=\"dataframe\">\n",
       "  <thead>\n",
       "    <tr style=\"text-align: right;\">\n",
       "      <th></th>\n",
       "      <th>Value</th>\n",
       "      <th>All</th>\n",
       "      <th>Good</th>\n",
       "      <th>Bad</th>\n",
       "      <th>Distr_Good</th>\n",
       "      <th>Distr_Bad</th>\n",
       "      <th>WoE</th>\n",
       "      <th>IV</th>\n",
       "    </tr>\n",
       "  </thead>\n",
       "  <tbody>\n",
       "    <tr>\n",
       "      <th>0</th>\n",
       "      <td>0.0</td>\n",
       "      <td>549</td>\n",
       "      <td>0</td>\n",
       "      <td>549</td>\n",
       "      <td>0.0</td>\n",
       "      <td>1.0</td>\n",
       "      <td>0.0</td>\n",
       "      <td>-0.0</td>\n",
       "    </tr>\n",
       "    <tr>\n",
       "      <th>1</th>\n",
       "      <td>1.0</td>\n",
       "      <td>342</td>\n",
       "      <td>342</td>\n",
       "      <td>0</td>\n",
       "      <td>1.0</td>\n",
       "      <td>0.0</td>\n",
       "      <td>0.0</td>\n",
       "      <td>0.0</td>\n",
       "    </tr>\n",
       "  </tbody>\n",
       "</table>\n",
       "</div>"
      ],
      "text/plain": [
       "   Value  All  Good  Bad  Distr_Good  Distr_Bad  WoE   IV\n",
       "0    0.0  549     0  549         0.0        1.0  0.0 -0.0\n",
       "1    1.0  342   342    0         1.0        0.0  0.0  0.0"
      ]
     },
     "metadata": {},
     "output_type": "display_data"
    },
    {
     "name": "stdout",
     "output_type": "stream",
     "text": [
      "IV  Survived 0.0\n"
     ]
    },
    {
     "data": {
      "text/html": [
       "<div>\n",
       "<style scoped>\n",
       "    .dataframe tbody tr th:only-of-type {\n",
       "        vertical-align: middle;\n",
       "    }\n",
       "\n",
       "    .dataframe tbody tr th {\n",
       "        vertical-align: top;\n",
       "    }\n",
       "\n",
       "    .dataframe thead th {\n",
       "        text-align: right;\n",
       "    }\n",
       "</style>\n",
       "<table border=\"1\" class=\"dataframe\">\n",
       "  <thead>\n",
       "    <tr style=\"text-align: right;\">\n",
       "      <th></th>\n",
       "      <th>Value</th>\n",
       "      <th>All</th>\n",
       "      <th>Good</th>\n",
       "      <th>Bad</th>\n",
       "      <th>Distr_Good</th>\n",
       "      <th>Distr_Bad</th>\n",
       "      <th>WoE</th>\n",
       "      <th>IV</th>\n",
       "    </tr>\n",
       "  </thead>\n",
       "  <tbody>\n",
       "    <tr>\n",
       "      <th>0</th>\n",
       "      <td>1.0</td>\n",
       "      <td>491</td>\n",
       "      <td>119</td>\n",
       "      <td>372</td>\n",
       "      <td>0.347953</td>\n",
       "      <td>0.677596</td>\n",
       "      <td>-0.666483</td>\n",
       "      <td>0.219701</td>\n",
       "    </tr>\n",
       "    <tr>\n",
       "      <th>2</th>\n",
       "      <td>0.5</td>\n",
       "      <td>184</td>\n",
       "      <td>87</td>\n",
       "      <td>97</td>\n",
       "      <td>0.254386</td>\n",
       "      <td>0.176685</td>\n",
       "      <td>0.364485</td>\n",
       "      <td>0.028321</td>\n",
       "    </tr>\n",
       "    <tr>\n",
       "      <th>1</th>\n",
       "      <td>0.0</td>\n",
       "      <td>216</td>\n",
       "      <td>136</td>\n",
       "      <td>80</td>\n",
       "      <td>0.397661</td>\n",
       "      <td>0.145719</td>\n",
       "      <td>1.003916</td>\n",
       "      <td>0.252928</td>\n",
       "    </tr>\n",
       "  </tbody>\n",
       "</table>\n",
       "</div>"
      ],
      "text/plain": [
       "   Value  All  Good  Bad  Distr_Good  Distr_Bad       WoE        IV\n",
       "0    1.0  491   119  372    0.347953   0.677596 -0.666483  0.219701\n",
       "2    0.5  184    87   97    0.254386   0.176685  0.364485  0.028321\n",
       "1    0.0  216   136   80    0.397661   0.145719  1.003916  0.252928"
      ]
     },
     "metadata": {},
     "output_type": "display_data"
    },
    {
     "name": "stdout",
     "output_type": "stream",
     "text": [
      "IV  Pclass 0.500949737583947\n"
     ]
    },
    {
     "data": {
      "text/html": [
       "<div>\n",
       "<style scoped>\n",
       "    .dataframe tbody tr th:only-of-type {\n",
       "        vertical-align: middle;\n",
       "    }\n",
       "\n",
       "    .dataframe tbody tr th {\n",
       "        vertical-align: top;\n",
       "    }\n",
       "\n",
       "    .dataframe thead th {\n",
       "        text-align: right;\n",
       "    }\n",
       "</style>\n",
       "<table border=\"1\" class=\"dataframe\">\n",
       "  <thead>\n",
       "    <tr style=\"text-align: right;\">\n",
       "      <th></th>\n",
       "      <th>Value</th>\n",
       "      <th>All</th>\n",
       "      <th>Good</th>\n",
       "      <th>Bad</th>\n",
       "      <th>Distr_Good</th>\n",
       "      <th>Distr_Bad</th>\n",
       "      <th>WoE</th>\n",
       "      <th>IV</th>\n",
       "    </tr>\n",
       "  </thead>\n",
       "  <tbody>\n",
       "    <tr>\n",
       "      <th>46</th>\n",
       "      <td>0.585323</td>\n",
       "      <td>9</td>\n",
       "      <td>1</td>\n",
       "      <td>8</td>\n",
       "      <td>0.002924</td>\n",
       "      <td>0.014572</td>\n",
       "      <td>-1.606154</td>\n",
       "      <td>0.018708</td>\n",
       "    </tr>\n",
       "    <tr>\n",
       "      <th>45</th>\n",
       "      <td>0.459663</td>\n",
       "      <td>6</td>\n",
       "      <td>1</td>\n",
       "      <td>5</td>\n",
       "      <td>0.002924</td>\n",
       "      <td>0.009107</td>\n",
       "      <td>-1.136150</td>\n",
       "      <td>0.007025</td>\n",
       "    </tr>\n",
       "    <tr>\n",
       "      <th>70</th>\n",
       "      <td>0.535059</td>\n",
       "      <td>5</td>\n",
       "      <td>1</td>\n",
       "      <td>4</td>\n",
       "      <td>0.002924</td>\n",
       "      <td>0.007286</td>\n",
       "      <td>-0.913007</td>\n",
       "      <td>0.003983</td>\n",
       "    </tr>\n",
       "    <tr>\n",
       "      <th>11</th>\n",
       "      <td>0.246042</td>\n",
       "      <td>15</td>\n",
       "      <td>3</td>\n",
       "      <td>12</td>\n",
       "      <td>0.008772</td>\n",
       "      <td>0.021858</td>\n",
       "      <td>-0.913007</td>\n",
       "      <td>0.011948</td>\n",
       "    </tr>\n",
       "    <tr>\n",
       "      <th>23</th>\n",
       "      <td>0.258608</td>\n",
       "      <td>24</td>\n",
       "      <td>5</td>\n",
       "      <td>19</td>\n",
       "      <td>0.014620</td>\n",
       "      <td>0.034608</td>\n",
       "      <td>-0.861713</td>\n",
       "      <td>0.017224</td>\n",
       "    </tr>\n",
       "    <tr>\n",
       "      <th>...</th>\n",
       "      <td>...</td>\n",
       "      <td>...</td>\n",
       "      <td>...</td>\n",
       "      <td>...</td>\n",
       "      <td>...</td>\n",
       "      <td>...</td>\n",
       "      <td>...</td>\n",
       "      <td>...</td>\n",
       "    </tr>\n",
       "    <tr>\n",
       "      <th>75</th>\n",
       "      <td>0.597889</td>\n",
       "      <td>9</td>\n",
       "      <td>6</td>\n",
       "      <td>3</td>\n",
       "      <td>0.017544</td>\n",
       "      <td>0.005464</td>\n",
       "      <td>1.166435</td>\n",
       "      <td>0.014090</td>\n",
       "    </tr>\n",
       "    <tr>\n",
       "      <th>9</th>\n",
       "      <td>0.044986</td>\n",
       "      <td>10</td>\n",
       "      <td>7</td>\n",
       "      <td>3</td>\n",
       "      <td>0.020468</td>\n",
       "      <td>0.005464</td>\n",
       "      <td>1.320586</td>\n",
       "      <td>0.019813</td>\n",
       "    </tr>\n",
       "    <tr>\n",
       "      <th>57</th>\n",
       "      <td>0.007288</td>\n",
       "      <td>7</td>\n",
       "      <td>5</td>\n",
       "      <td>2</td>\n",
       "      <td>0.014620</td>\n",
       "      <td>0.003643</td>\n",
       "      <td>1.389578</td>\n",
       "      <td>0.015253</td>\n",
       "    </tr>\n",
       "    <tr>\n",
       "      <th>16</th>\n",
       "      <td>0.183212</td>\n",
       "      <td>5</td>\n",
       "      <td>4</td>\n",
       "      <td>1</td>\n",
       "      <td>0.011696</td>\n",
       "      <td>0.001821</td>\n",
       "      <td>1.859582</td>\n",
       "      <td>0.018362</td>\n",
       "    </tr>\n",
       "    <tr>\n",
       "      <th>25</th>\n",
       "      <td>0.032420</td>\n",
       "      <td>6</td>\n",
       "      <td>5</td>\n",
       "      <td>1</td>\n",
       "      <td>0.014620</td>\n",
       "      <td>0.001821</td>\n",
       "      <td>2.082726</td>\n",
       "      <td>0.026656</td>\n",
       "    </tr>\n",
       "  </tbody>\n",
       "</table>\n",
       "<p>88 rows × 8 columns</p>\n",
       "</div>"
      ],
      "text/plain": [
       "       Value  All  Good  Bad  Distr_Good  Distr_Bad       WoE        IV\n",
       "46  0.585323    9     1    8    0.002924   0.014572 -1.606154  0.018708\n",
       "45  0.459663    6     1    5    0.002924   0.009107 -1.136150  0.007025\n",
       "70  0.535059    5     1    4    0.002924   0.007286 -0.913007  0.003983\n",
       "11  0.246042   15     3   12    0.008772   0.021858 -0.913007  0.011948\n",
       "23  0.258608   24     5   19    0.014620   0.034608 -0.861713  0.017224\n",
       "..       ...  ...   ...  ...         ...        ...       ...       ...\n",
       "75  0.597889    9     6    3    0.017544   0.005464  1.166435  0.014090\n",
       "9   0.044986   10     7    3    0.020468   0.005464  1.320586  0.019813\n",
       "57  0.007288    7     5    2    0.014620   0.003643  1.389578  0.015253\n",
       "16  0.183212    5     4    1    0.011696   0.001821  1.859582  0.018362\n",
       "25  0.032420    6     5    1    0.014620   0.001821  2.082726  0.026656\n",
       "\n",
       "[88 rows x 8 columns]"
      ]
     },
     "metadata": {},
     "output_type": "display_data"
    },
    {
     "name": "stdout",
     "output_type": "stream",
     "text": [
      "IV  Age 0.2790631512736872\n"
     ]
    },
    {
     "data": {
      "text/html": [
       "<div>\n",
       "<style scoped>\n",
       "    .dataframe tbody tr th:only-of-type {\n",
       "        vertical-align: middle;\n",
       "    }\n",
       "\n",
       "    .dataframe tbody tr th {\n",
       "        vertical-align: top;\n",
       "    }\n",
       "\n",
       "    .dataframe thead th {\n",
       "        text-align: right;\n",
       "    }\n",
       "</style>\n",
       "<table border=\"1\" class=\"dataframe\">\n",
       "  <thead>\n",
       "    <tr style=\"text-align: right;\">\n",
       "      <th></th>\n",
       "      <th>Value</th>\n",
       "      <th>All</th>\n",
       "      <th>Good</th>\n",
       "      <th>Bad</th>\n",
       "      <th>Distr_Good</th>\n",
       "      <th>Distr_Bad</th>\n",
       "      <th>WoE</th>\n",
       "      <th>IV</th>\n",
       "    </tr>\n",
       "  </thead>\n",
       "  <tbody>\n",
       "    <tr>\n",
       "      <th>1</th>\n",
       "      <td>1.0</td>\n",
       "      <td>537</td>\n",
       "      <td>163</td>\n",
       "      <td>374</td>\n",
       "      <td>0.476608</td>\n",
       "      <td>0.681239</td>\n",
       "      <td>-0.357218</td>\n",
       "      <td>0.073098</td>\n",
       "    </tr>\n",
       "    <tr>\n",
       "      <th>0</th>\n",
       "      <td>0.0</td>\n",
       "      <td>354</td>\n",
       "      <td>179</td>\n",
       "      <td>175</td>\n",
       "      <td>0.523392</td>\n",
       "      <td>0.318761</td>\n",
       "      <td>0.495888</td>\n",
       "      <td>0.101474</td>\n",
       "    </tr>\n",
       "  </tbody>\n",
       "</table>\n",
       "</div>"
      ],
      "text/plain": [
       "   Value  All  Good  Bad  Distr_Good  Distr_Bad       WoE        IV\n",
       "1    1.0  537   163  374    0.476608   0.681239 -0.357218  0.073098\n",
       "0    0.0  354   179  175    0.523392   0.318761  0.495888  0.101474"
      ]
     },
     "metadata": {},
     "output_type": "display_data"
    },
    {
     "name": "stdout",
     "output_type": "stream",
     "text": [
      "IV  Solo 0.1745713294206342\n"
     ]
    },
    {
     "data": {
      "text/html": [
       "<div>\n",
       "<style scoped>\n",
       "    .dataframe tbody tr th:only-of-type {\n",
       "        vertical-align: middle;\n",
       "    }\n",
       "\n",
       "    .dataframe tbody tr th {\n",
       "        vertical-align: top;\n",
       "    }\n",
       "\n",
       "    .dataframe thead th {\n",
       "        text-align: right;\n",
       "    }\n",
       "</style>\n",
       "<table border=\"1\" class=\"dataframe\">\n",
       "  <thead>\n",
       "    <tr style=\"text-align: right;\">\n",
       "      <th></th>\n",
       "      <th>Value</th>\n",
       "      <th>All</th>\n",
       "      <th>Good</th>\n",
       "      <th>Bad</th>\n",
       "      <th>Distr_Good</th>\n",
       "      <th>Distr_Bad</th>\n",
       "      <th>WoE</th>\n",
       "      <th>IV</th>\n",
       "    </tr>\n",
       "  </thead>\n",
       "  <tbody>\n",
       "    <tr>\n",
       "      <th>0</th>\n",
       "      <td>0.0</td>\n",
       "      <td>847</td>\n",
       "      <td>311</td>\n",
       "      <td>536</td>\n",
       "      <td>0.909357</td>\n",
       "      <td>0.976321</td>\n",
       "      <td>-0.071054</td>\n",
       "      <td>0.004758</td>\n",
       "    </tr>\n",
       "    <tr>\n",
       "      <th>1</th>\n",
       "      <td>1.0</td>\n",
       "      <td>44</td>\n",
       "      <td>31</td>\n",
       "      <td>13</td>\n",
       "      <td>0.090643</td>\n",
       "      <td>0.023679</td>\n",
       "      <td>1.342326</td>\n",
       "      <td>0.089887</td>\n",
       "    </tr>\n",
       "  </tbody>\n",
       "</table>\n",
       "</div>"
      ],
      "text/plain": [
       "   Value  All  Good  Bad  Distr_Good  Distr_Bad       WoE        IV\n",
       "0    0.0  847   311  536    0.909357   0.976321 -0.071054  0.004758\n",
       "1    1.0   44    31   13    0.090643   0.023679  1.342326  0.089887"
      ]
     },
     "metadata": {},
     "output_type": "display_data"
    },
    {
     "name": "stdout",
     "output_type": "stream",
     "text": [
      "IV  Baby 0.09464531669990904\n"
     ]
    },
    {
     "data": {
      "text/html": [
       "<div>\n",
       "<style scoped>\n",
       "    .dataframe tbody tr th:only-of-type {\n",
       "        vertical-align: middle;\n",
       "    }\n",
       "\n",
       "    .dataframe tbody tr th {\n",
       "        vertical-align: top;\n",
       "    }\n",
       "\n",
       "    .dataframe thead th {\n",
       "        text-align: right;\n",
       "    }\n",
       "</style>\n",
       "<table border=\"1\" class=\"dataframe\">\n",
       "  <thead>\n",
       "    <tr style=\"text-align: right;\">\n",
       "      <th></th>\n",
       "      <th>Value</th>\n",
       "      <th>All</th>\n",
       "      <th>Good</th>\n",
       "      <th>Bad</th>\n",
       "      <th>Distr_Good</th>\n",
       "      <th>Distr_Bad</th>\n",
       "      <th>WoE</th>\n",
       "      <th>IV</th>\n",
       "    </tr>\n",
       "  </thead>\n",
       "  <tbody>\n",
       "    <tr>\n",
       "      <th>0</th>\n",
       "      <td>0.0</td>\n",
       "      <td>723</td>\n",
       "      <td>249</td>\n",
       "      <td>474</td>\n",
       "      <td>0.72807</td>\n",
       "      <td>0.863388</td>\n",
       "      <td>-0.170467</td>\n",
       "      <td>0.023067</td>\n",
       "    </tr>\n",
       "    <tr>\n",
       "      <th>1</th>\n",
       "      <td>1.0</td>\n",
       "      <td>168</td>\n",
       "      <td>93</td>\n",
       "      <td>75</td>\n",
       "      <td>0.27193</td>\n",
       "      <td>0.136612</td>\n",
       "      <td>0.688399</td>\n",
       "      <td>0.093153</td>\n",
       "    </tr>\n",
       "  </tbody>\n",
       "</table>\n",
       "</div>"
      ],
      "text/plain": [
       "   Value  All  Good  Bad  Distr_Good  Distr_Bad       WoE        IV\n",
       "0    0.0  723   249  474     0.72807   0.863388 -0.170467  0.023067\n",
       "1    1.0  168    93   75     0.27193   0.136612  0.688399  0.093153"
      ]
     },
     "metadata": {},
     "output_type": "display_data"
    },
    {
     "name": "stdout",
     "output_type": "stream",
     "text": [
      "IV  Embarked_C 0.11621983352909443\n"
     ]
    },
    {
     "data": {
      "text/html": [
       "<div>\n",
       "<style scoped>\n",
       "    .dataframe tbody tr th:only-of-type {\n",
       "        vertical-align: middle;\n",
       "    }\n",
       "\n",
       "    .dataframe tbody tr th {\n",
       "        vertical-align: top;\n",
       "    }\n",
       "\n",
       "    .dataframe thead th {\n",
       "        text-align: right;\n",
       "    }\n",
       "</style>\n",
       "<table border=\"1\" class=\"dataframe\">\n",
       "  <thead>\n",
       "    <tr style=\"text-align: right;\">\n",
       "      <th></th>\n",
       "      <th>Value</th>\n",
       "      <th>All</th>\n",
       "      <th>Good</th>\n",
       "      <th>Bad</th>\n",
       "      <th>Distr_Good</th>\n",
       "      <th>Distr_Bad</th>\n",
       "      <th>WoE</th>\n",
       "      <th>IV</th>\n",
       "    </tr>\n",
       "  </thead>\n",
       "  <tbody>\n",
       "    <tr>\n",
       "      <th>0</th>\n",
       "      <td>0.0</td>\n",
       "      <td>814</td>\n",
       "      <td>312</td>\n",
       "      <td>502</td>\n",
       "      <td>0.912281</td>\n",
       "      <td>0.91439</td>\n",
       "      <td>-0.002309</td>\n",
       "      <td>0.000005</td>\n",
       "    </tr>\n",
       "    <tr>\n",
       "      <th>1</th>\n",
       "      <td>1.0</td>\n",
       "      <td>77</td>\n",
       "      <td>30</td>\n",
       "      <td>47</td>\n",
       "      <td>0.087719</td>\n",
       "      <td>0.08561</td>\n",
       "      <td>0.024337</td>\n",
       "      <td>0.000051</td>\n",
       "    </tr>\n",
       "  </tbody>\n",
       "</table>\n",
       "</div>"
      ],
      "text/plain": [
       "   Value  All  Good  Bad  Distr_Good  Distr_Bad       WoE        IV\n",
       "0    0.0  814   312  502    0.912281    0.91439 -0.002309  0.000005\n",
       "1    1.0   77    30   47    0.087719    0.08561  0.024337  0.000051"
      ]
     },
     "metadata": {},
     "output_type": "display_data"
    },
    {
     "name": "stdout",
     "output_type": "stream",
     "text": [
      "IV  Embarked_Q 5.620052347383399e-05\n"
     ]
    },
    {
     "data": {
      "text/html": [
       "<div>\n",
       "<style scoped>\n",
       "    .dataframe tbody tr th:only-of-type {\n",
       "        vertical-align: middle;\n",
       "    }\n",
       "\n",
       "    .dataframe tbody tr th {\n",
       "        vertical-align: top;\n",
       "    }\n",
       "\n",
       "    .dataframe thead th {\n",
       "        text-align: right;\n",
       "    }\n",
       "</style>\n",
       "<table border=\"1\" class=\"dataframe\">\n",
       "  <thead>\n",
       "    <tr style=\"text-align: right;\">\n",
       "      <th></th>\n",
       "      <th>Value</th>\n",
       "      <th>All</th>\n",
       "      <th>Good</th>\n",
       "      <th>Bad</th>\n",
       "      <th>Distr_Good</th>\n",
       "      <th>Distr_Bad</th>\n",
       "      <th>WoE</th>\n",
       "      <th>IV</th>\n",
       "    </tr>\n",
       "  </thead>\n",
       "  <tbody>\n",
       "    <tr>\n",
       "      <th>0</th>\n",
       "      <td>1.0</td>\n",
       "      <td>646</td>\n",
       "      <td>219</td>\n",
       "      <td>427</td>\n",
       "      <td>0.640351</td>\n",
       "      <td>0.777778</td>\n",
       "      <td>-0.194425</td>\n",
       "      <td>0.026719</td>\n",
       "    </tr>\n",
       "    <tr>\n",
       "      <th>1</th>\n",
       "      <td>0.0</td>\n",
       "      <td>245</td>\n",
       "      <td>123</td>\n",
       "      <td>122</td>\n",
       "      <td>0.359649</td>\n",
       "      <td>0.222222</td>\n",
       "      <td>0.481451</td>\n",
       "      <td>0.066164</td>\n",
       "    </tr>\n",
       "  </tbody>\n",
       "</table>\n",
       "</div>"
      ],
      "text/plain": [
       "   Value  All  Good  Bad  Distr_Good  Distr_Bad       WoE        IV\n",
       "0    1.0  646   219  427    0.640351   0.777778 -0.194425  0.026719\n",
       "1    0.0  245   123  122    0.359649   0.222222  0.481451  0.066164"
      ]
     },
     "metadata": {},
     "output_type": "display_data"
    },
    {
     "name": "stdout",
     "output_type": "stream",
     "text": [
      "IV  Embarked_S 0.09288348807137542\n"
     ]
    },
    {
     "data": {
      "text/html": [
       "<div>\n",
       "<style scoped>\n",
       "    .dataframe tbody tr th:only-of-type {\n",
       "        vertical-align: middle;\n",
       "    }\n",
       "\n",
       "    .dataframe tbody tr th {\n",
       "        vertical-align: top;\n",
       "    }\n",
       "\n",
       "    .dataframe thead th {\n",
       "        text-align: right;\n",
       "    }\n",
       "</style>\n",
       "<table border=\"1\" class=\"dataframe\">\n",
       "  <thead>\n",
       "    <tr style=\"text-align: right;\">\n",
       "      <th></th>\n",
       "      <th>Value</th>\n",
       "      <th>All</th>\n",
       "      <th>Good</th>\n",
       "      <th>Bad</th>\n",
       "      <th>Distr_Good</th>\n",
       "      <th>Distr_Bad</th>\n",
       "      <th>WoE</th>\n",
       "      <th>IV</th>\n",
       "    </tr>\n",
       "  </thead>\n",
       "  <tbody>\n",
       "    <tr>\n",
       "      <th>0</th>\n",
       "      <td>0.0</td>\n",
       "      <td>876</td>\n",
       "      <td>335</td>\n",
       "      <td>541</td>\n",
       "      <td>0.979532</td>\n",
       "      <td>0.985428</td>\n",
       "      <td>-0.006001</td>\n",
       "      <td>0.000035</td>\n",
       "    </tr>\n",
       "    <tr>\n",
       "      <th>1</th>\n",
       "      <td>1.0</td>\n",
       "      <td>15</td>\n",
       "      <td>7</td>\n",
       "      <td>8</td>\n",
       "      <td>0.020468</td>\n",
       "      <td>0.014572</td>\n",
       "      <td>0.339756</td>\n",
       "      <td>0.002003</td>\n",
       "    </tr>\n",
       "  </tbody>\n",
       "</table>\n",
       "</div>"
      ],
      "text/plain": [
       "   Value  All  Good  Bad  Distr_Good  Distr_Bad       WoE        IV\n",
       "0    0.0  876   335  541    0.979532   0.985428 -0.006001  0.000035\n",
       "1    1.0   15     7    8    0.020468   0.014572  0.339756  0.002003"
      ]
     },
     "metadata": {},
     "output_type": "display_data"
    },
    {
     "name": "stdout",
     "output_type": "stream",
     "text": [
      "IV  Deck_A 0.0020385463805396306\n"
     ]
    },
    {
     "data": {
      "text/html": [
       "<div>\n",
       "<style scoped>\n",
       "    .dataframe tbody tr th:only-of-type {\n",
       "        vertical-align: middle;\n",
       "    }\n",
       "\n",
       "    .dataframe tbody tr th {\n",
       "        vertical-align: top;\n",
       "    }\n",
       "\n",
       "    .dataframe thead th {\n",
       "        text-align: right;\n",
       "    }\n",
       "</style>\n",
       "<table border=\"1\" class=\"dataframe\">\n",
       "  <thead>\n",
       "    <tr style=\"text-align: right;\">\n",
       "      <th></th>\n",
       "      <th>Value</th>\n",
       "      <th>All</th>\n",
       "      <th>Good</th>\n",
       "      <th>Bad</th>\n",
       "      <th>Distr_Good</th>\n",
       "      <th>Distr_Bad</th>\n",
       "      <th>WoE</th>\n",
       "      <th>IV</th>\n",
       "    </tr>\n",
       "  </thead>\n",
       "  <tbody>\n",
       "    <tr>\n",
       "      <th>0</th>\n",
       "      <td>0.0</td>\n",
       "      <td>844</td>\n",
       "      <td>307</td>\n",
       "      <td>537</td>\n",
       "      <td>0.897661</td>\n",
       "      <td>0.978142</td>\n",
       "      <td>-0.085863</td>\n",
       "      <td>0.006910</td>\n",
       "    </tr>\n",
       "    <tr>\n",
       "      <th>1</th>\n",
       "      <td>1.0</td>\n",
       "      <td>47</td>\n",
       "      <td>35</td>\n",
       "      <td>12</td>\n",
       "      <td>0.102339</td>\n",
       "      <td>0.021858</td>\n",
       "      <td>1.543729</td>\n",
       "      <td>0.124241</td>\n",
       "    </tr>\n",
       "  </tbody>\n",
       "</table>\n",
       "</div>"
      ],
      "text/plain": [
       "   Value  All  Good  Bad  Distr_Good  Distr_Bad       WoE        IV\n",
       "0    0.0  844   307  537    0.897661   0.978142 -0.085863  0.006910\n",
       "1    1.0   47    35   12    0.102339   0.021858  1.543729  0.124241"
      ]
     },
     "metadata": {},
     "output_type": "display_data"
    },
    {
     "name": "stdout",
     "output_type": "stream",
     "text": [
      "IV  Deck_B 0.13115159441703347\n"
     ]
    },
    {
     "data": {
      "text/html": [
       "<div>\n",
       "<style scoped>\n",
       "    .dataframe tbody tr th:only-of-type {\n",
       "        vertical-align: middle;\n",
       "    }\n",
       "\n",
       "    .dataframe tbody tr th {\n",
       "        vertical-align: top;\n",
       "    }\n",
       "\n",
       "    .dataframe thead th {\n",
       "        text-align: right;\n",
       "    }\n",
       "</style>\n",
       "<table border=\"1\" class=\"dataframe\">\n",
       "  <thead>\n",
       "    <tr style=\"text-align: right;\">\n",
       "      <th></th>\n",
       "      <th>Value</th>\n",
       "      <th>All</th>\n",
       "      <th>Good</th>\n",
       "      <th>Bad</th>\n",
       "      <th>Distr_Good</th>\n",
       "      <th>Distr_Bad</th>\n",
       "      <th>WoE</th>\n",
       "      <th>IV</th>\n",
       "    </tr>\n",
       "  </thead>\n",
       "  <tbody>\n",
       "    <tr>\n",
       "      <th>0</th>\n",
       "      <td>0.0</td>\n",
       "      <td>832</td>\n",
       "      <td>307</td>\n",
       "      <td>525</td>\n",
       "      <td>0.897661</td>\n",
       "      <td>0.956284</td>\n",
       "      <td>-0.063263</td>\n",
       "      <td>0.003709</td>\n",
       "    </tr>\n",
       "    <tr>\n",
       "      <th>1</th>\n",
       "      <td>1.0</td>\n",
       "      <td>59</td>\n",
       "      <td>35</td>\n",
       "      <td>24</td>\n",
       "      <td>0.102339</td>\n",
       "      <td>0.043716</td>\n",
       "      <td>0.850582</td>\n",
       "      <td>0.049864</td>\n",
       "    </tr>\n",
       "  </tbody>\n",
       "</table>\n",
       "</div>"
      ],
      "text/plain": [
       "   Value  All  Good  Bad  Distr_Good  Distr_Bad       WoE        IV\n",
       "0    0.0  832   307  525    0.897661   0.956284 -0.063263  0.003709\n",
       "1    1.0   59    35   24    0.102339   0.043716  0.850582  0.049864"
      ]
     },
     "metadata": {},
     "output_type": "display_data"
    },
    {
     "name": "stdout",
     "output_type": "stream",
     "text": [
      "IV  Deck_C 0.05357262604431162\n"
     ]
    },
    {
     "data": {
      "text/html": [
       "<div>\n",
       "<style scoped>\n",
       "    .dataframe tbody tr th:only-of-type {\n",
       "        vertical-align: middle;\n",
       "    }\n",
       "\n",
       "    .dataframe tbody tr th {\n",
       "        vertical-align: top;\n",
       "    }\n",
       "\n",
       "    .dataframe thead th {\n",
       "        text-align: right;\n",
       "    }\n",
       "</style>\n",
       "<table border=\"1\" class=\"dataframe\">\n",
       "  <thead>\n",
       "    <tr style=\"text-align: right;\">\n",
       "      <th></th>\n",
       "      <th>Value</th>\n",
       "      <th>All</th>\n",
       "      <th>Good</th>\n",
       "      <th>Bad</th>\n",
       "      <th>Distr_Good</th>\n",
       "      <th>Distr_Bad</th>\n",
       "      <th>WoE</th>\n",
       "      <th>IV</th>\n",
       "    </tr>\n",
       "  </thead>\n",
       "  <tbody>\n",
       "    <tr>\n",
       "      <th>0</th>\n",
       "      <td>0.0</td>\n",
       "      <td>858</td>\n",
       "      <td>317</td>\n",
       "      <td>541</td>\n",
       "      <td>0.926901</td>\n",
       "      <td>0.985428</td>\n",
       "      <td>-0.061230</td>\n",
       "      <td>0.003584</td>\n",
       "    </tr>\n",
       "    <tr>\n",
       "      <th>1</th>\n",
       "      <td>1.0</td>\n",
       "      <td>33</td>\n",
       "      <td>25</td>\n",
       "      <td>8</td>\n",
       "      <td>0.073099</td>\n",
       "      <td>0.014572</td>\n",
       "      <td>1.612722</td>\n",
       "      <td>0.094389</td>\n",
       "    </tr>\n",
       "  </tbody>\n",
       "</table>\n",
       "</div>"
      ],
      "text/plain": [
       "   Value  All  Good  Bad  Distr_Good  Distr_Bad       WoE        IV\n",
       "0    0.0  858   317  541    0.926901   0.985428 -0.061230  0.003584\n",
       "1    1.0   33    25    8    0.073099   0.014572  1.612722  0.094389"
      ]
     },
     "metadata": {},
     "output_type": "display_data"
    },
    {
     "name": "stdout",
     "output_type": "stream",
     "text": [
      "IV  Deck_D 0.09797215671270192\n"
     ]
    },
    {
     "data": {
      "text/html": [
       "<div>\n",
       "<style scoped>\n",
       "    .dataframe tbody tr th:only-of-type {\n",
       "        vertical-align: middle;\n",
       "    }\n",
       "\n",
       "    .dataframe tbody tr th {\n",
       "        vertical-align: top;\n",
       "    }\n",
       "\n",
       "    .dataframe thead th {\n",
       "        text-align: right;\n",
       "    }\n",
       "</style>\n",
       "<table border=\"1\" class=\"dataframe\">\n",
       "  <thead>\n",
       "    <tr style=\"text-align: right;\">\n",
       "      <th></th>\n",
       "      <th>Value</th>\n",
       "      <th>All</th>\n",
       "      <th>Good</th>\n",
       "      <th>Bad</th>\n",
       "      <th>Distr_Good</th>\n",
       "      <th>Distr_Bad</th>\n",
       "      <th>WoE</th>\n",
       "      <th>IV</th>\n",
       "    </tr>\n",
       "  </thead>\n",
       "  <tbody>\n",
       "    <tr>\n",
       "      <th>0</th>\n",
       "      <td>0.0</td>\n",
       "      <td>859</td>\n",
       "      <td>318</td>\n",
       "      <td>541</td>\n",
       "      <td>0.929825</td>\n",
       "      <td>0.985428</td>\n",
       "      <td>-0.05808</td>\n",
       "      <td>0.003229</td>\n",
       "    </tr>\n",
       "    <tr>\n",
       "      <th>1</th>\n",
       "      <td>1.0</td>\n",
       "      <td>32</td>\n",
       "      <td>24</td>\n",
       "      <td>8</td>\n",
       "      <td>0.070175</td>\n",
       "      <td>0.014572</td>\n",
       "      <td>1.57190</td>\n",
       "      <td>0.087403</td>\n",
       "    </tr>\n",
       "  </tbody>\n",
       "</table>\n",
       "</div>"
      ],
      "text/plain": [
       "   Value  All  Good  Bad  Distr_Good  Distr_Bad      WoE        IV\n",
       "0    0.0  859   318  541    0.929825   0.985428 -0.05808  0.003229\n",
       "1    1.0   32    24    8    0.070175   0.014572  1.57190  0.087403"
      ]
     },
     "metadata": {},
     "output_type": "display_data"
    },
    {
     "name": "stdout",
     "output_type": "stream",
     "text": [
      "IV  Deck_E 0.09063258624733586\n"
     ]
    },
    {
     "data": {
      "text/html": [
       "<div>\n",
       "<style scoped>\n",
       "    .dataframe tbody tr th:only-of-type {\n",
       "        vertical-align: middle;\n",
       "    }\n",
       "\n",
       "    .dataframe tbody tr th {\n",
       "        vertical-align: top;\n",
       "    }\n",
       "\n",
       "    .dataframe thead th {\n",
       "        text-align: right;\n",
       "    }\n",
       "</style>\n",
       "<table border=\"1\" class=\"dataframe\">\n",
       "  <thead>\n",
       "    <tr style=\"text-align: right;\">\n",
       "      <th></th>\n",
       "      <th>Value</th>\n",
       "      <th>All</th>\n",
       "      <th>Good</th>\n",
       "      <th>Bad</th>\n",
       "      <th>Distr_Good</th>\n",
       "      <th>Distr_Bad</th>\n",
       "      <th>WoE</th>\n",
       "      <th>IV</th>\n",
       "    </tr>\n",
       "  </thead>\n",
       "  <tbody>\n",
       "    <tr>\n",
       "      <th>0</th>\n",
       "      <td>0.0</td>\n",
       "      <td>878</td>\n",
       "      <td>334</td>\n",
       "      <td>544</td>\n",
       "      <td>0.976608</td>\n",
       "      <td>0.990893</td>\n",
       "      <td>-0.014521</td>\n",
       "      <td>0.000207</td>\n",
       "    </tr>\n",
       "    <tr>\n",
       "      <th>1</th>\n",
       "      <td>1.0</td>\n",
       "      <td>13</td>\n",
       "      <td>8</td>\n",
       "      <td>5</td>\n",
       "      <td>0.023392</td>\n",
       "      <td>0.009107</td>\n",
       "      <td>0.943291</td>\n",
       "      <td>0.013474</td>\n",
       "    </tr>\n",
       "  </tbody>\n",
       "</table>\n",
       "</div>"
      ],
      "text/plain": [
       "   Value  All  Good  Bad  Distr_Good  Distr_Bad       WoE        IV\n",
       "0    0.0  878   334  544    0.976608   0.990893 -0.014521  0.000207\n",
       "1    1.0   13     8    5    0.023392   0.009107  0.943291  0.013474"
      ]
     },
     "metadata": {},
     "output_type": "display_data"
    },
    {
     "name": "stdout",
     "output_type": "stream",
     "text": [
      "IV  Deck_F 0.013681715136192277\n"
     ]
    },
    {
     "data": {
      "text/html": [
       "<div>\n",
       "<style scoped>\n",
       "    .dataframe tbody tr th:only-of-type {\n",
       "        vertical-align: middle;\n",
       "    }\n",
       "\n",
       "    .dataframe tbody tr th {\n",
       "        vertical-align: top;\n",
       "    }\n",
       "\n",
       "    .dataframe thead th {\n",
       "        text-align: right;\n",
       "    }\n",
       "</style>\n",
       "<table border=\"1\" class=\"dataframe\">\n",
       "  <thead>\n",
       "    <tr style=\"text-align: right;\">\n",
       "      <th></th>\n",
       "      <th>Value</th>\n",
       "      <th>All</th>\n",
       "      <th>Good</th>\n",
       "      <th>Bad</th>\n",
       "      <th>Distr_Good</th>\n",
       "      <th>Distr_Bad</th>\n",
       "      <th>WoE</th>\n",
       "      <th>IV</th>\n",
       "    </tr>\n",
       "  </thead>\n",
       "  <tbody>\n",
       "    <tr>\n",
       "      <th>0</th>\n",
       "      <td>0.0</td>\n",
       "      <td>887</td>\n",
       "      <td>340</td>\n",
       "      <td>547</td>\n",
       "      <td>0.994152</td>\n",
       "      <td>0.996357</td>\n",
       "      <td>-0.002215</td>\n",
       "      <td>0.000005</td>\n",
       "    </tr>\n",
       "    <tr>\n",
       "      <th>1</th>\n",
       "      <td>1.0</td>\n",
       "      <td>4</td>\n",
       "      <td>2</td>\n",
       "      <td>2</td>\n",
       "      <td>0.005848</td>\n",
       "      <td>0.003643</td>\n",
       "      <td>0.473288</td>\n",
       "      <td>0.001044</td>\n",
       "    </tr>\n",
       "  </tbody>\n",
       "</table>\n",
       "</div>"
      ],
      "text/plain": [
       "   Value  All  Good  Bad  Distr_Good  Distr_Bad       WoE        IV\n",
       "0    0.0  887   340  547    0.994152   0.996357 -0.002215  0.000005\n",
       "1    1.0    4     2    2    0.005848   0.003643  0.473288  0.001044"
      ]
     },
     "metadata": {},
     "output_type": "display_data"
    },
    {
     "name": "stdout",
     "output_type": "stream",
     "text": [
      "IV  Deck_G 0.0010484683396290678\n"
     ]
    },
    {
     "data": {
      "text/html": [
       "<div>\n",
       "<style scoped>\n",
       "    .dataframe tbody tr th:only-of-type {\n",
       "        vertical-align: middle;\n",
       "    }\n",
       "\n",
       "    .dataframe tbody tr th {\n",
       "        vertical-align: top;\n",
       "    }\n",
       "\n",
       "    .dataframe thead th {\n",
       "        text-align: right;\n",
       "    }\n",
       "</style>\n",
       "<table border=\"1\" class=\"dataframe\">\n",
       "  <thead>\n",
       "    <tr style=\"text-align: right;\">\n",
       "      <th></th>\n",
       "      <th>Value</th>\n",
       "      <th>All</th>\n",
       "      <th>Good</th>\n",
       "      <th>Bad</th>\n",
       "      <th>Distr_Good</th>\n",
       "      <th>Distr_Bad</th>\n",
       "      <th>WoE</th>\n",
       "      <th>IV</th>\n",
       "    </tr>\n",
       "  </thead>\n",
       "  <tbody>\n",
       "    <tr>\n",
       "      <th>1</th>\n",
       "      <td>1.0</td>\n",
       "      <td>1</td>\n",
       "      <td>0</td>\n",
       "      <td>1</td>\n",
       "      <td>0.0</td>\n",
       "      <td>0.001821</td>\n",
       "      <td>0.000000</td>\n",
       "      <td>-0.000000</td>\n",
       "    </tr>\n",
       "    <tr>\n",
       "      <th>0</th>\n",
       "      <td>0.0</td>\n",
       "      <td>890</td>\n",
       "      <td>342</td>\n",
       "      <td>548</td>\n",
       "      <td>1.0</td>\n",
       "      <td>0.998179</td>\n",
       "      <td>0.001823</td>\n",
       "      <td>0.000003</td>\n",
       "    </tr>\n",
       "  </tbody>\n",
       "</table>\n",
       "</div>"
      ],
      "text/plain": [
       "   Value  All  Good  Bad  Distr_Good  Distr_Bad       WoE        IV\n",
       "1    1.0    1     0    1         0.0   0.001821  0.000000 -0.000000\n",
       "0    0.0  890   342  548         1.0   0.998179  0.001823  0.000003"
      ]
     },
     "metadata": {},
     "output_type": "display_data"
    },
    {
     "name": "stdout",
     "output_type": "stream",
     "text": [
      "IV  Deck_T 3.320864410774531e-06\n"
     ]
    },
    {
     "data": {
      "text/html": [
       "<div>\n",
       "<style scoped>\n",
       "    .dataframe tbody tr th:only-of-type {\n",
       "        vertical-align: middle;\n",
       "    }\n",
       "\n",
       "    .dataframe tbody tr th {\n",
       "        vertical-align: top;\n",
       "    }\n",
       "\n",
       "    .dataframe thead th {\n",
       "        text-align: right;\n",
       "    }\n",
       "</style>\n",
       "<table border=\"1\" class=\"dataframe\">\n",
       "  <thead>\n",
       "    <tr style=\"text-align: right;\">\n",
       "      <th></th>\n",
       "      <th>Value</th>\n",
       "      <th>All</th>\n",
       "      <th>Good</th>\n",
       "      <th>Bad</th>\n",
       "      <th>Distr_Good</th>\n",
       "      <th>Distr_Bad</th>\n",
       "      <th>WoE</th>\n",
       "      <th>IV</th>\n",
       "    </tr>\n",
       "  </thead>\n",
       "  <tbody>\n",
       "    <tr>\n",
       "      <th>0</th>\n",
       "      <td>1.0</td>\n",
       "      <td>687</td>\n",
       "      <td>206</td>\n",
       "      <td>481</td>\n",
       "      <td>0.602339</td>\n",
       "      <td>0.876138</td>\n",
       "      <td>-0.374703</td>\n",
       "      <td>0.102594</td>\n",
       "    </tr>\n",
       "    <tr>\n",
       "      <th>1</th>\n",
       "      <td>0.0</td>\n",
       "      <td>204</td>\n",
       "      <td>136</td>\n",
       "      <td>68</td>\n",
       "      <td>0.397661</td>\n",
       "      <td>0.123862</td>\n",
       "      <td>1.166435</td>\n",
       "      <td>0.319369</td>\n",
       "    </tr>\n",
       "  </tbody>\n",
       "</table>\n",
       "</div>"
      ],
      "text/plain": [
       "   Value  All  Good  Bad  Distr_Good  Distr_Bad       WoE        IV\n",
       "0    1.0  687   206  481    0.602339   0.876138 -0.374703  0.102594\n",
       "1    0.0  204   136   68    0.397661   0.123862  1.166435  0.319369"
      ]
     },
     "metadata": {},
     "output_type": "display_data"
    },
    {
     "name": "stdout",
     "output_type": "stream",
     "text": [
      "IV  Deck_Z 0.42196250915906564\n"
     ]
    },
    {
     "data": {
      "text/html": [
       "<div>\n",
       "<style scoped>\n",
       "    .dataframe tbody tr th:only-of-type {\n",
       "        vertical-align: middle;\n",
       "    }\n",
       "\n",
       "    .dataframe tbody tr th {\n",
       "        vertical-align: top;\n",
       "    }\n",
       "\n",
       "    .dataframe thead th {\n",
       "        text-align: right;\n",
       "    }\n",
       "</style>\n",
       "<table border=\"1\" class=\"dataframe\">\n",
       "  <thead>\n",
       "    <tr style=\"text-align: right;\">\n",
       "      <th></th>\n",
       "      <th>Value</th>\n",
       "      <th>All</th>\n",
       "      <th>Good</th>\n",
       "      <th>Bad</th>\n",
       "      <th>Distr_Good</th>\n",
       "      <th>Distr_Bad</th>\n",
       "      <th>WoE</th>\n",
       "      <th>IV</th>\n",
       "    </tr>\n",
       "  </thead>\n",
       "  <tbody>\n",
       "    <tr>\n",
       "      <th>0</th>\n",
       "      <td>0.0</td>\n",
       "      <td>851</td>\n",
       "      <td>319</td>\n",
       "      <td>532</td>\n",
       "      <td>0.932749</td>\n",
       "      <td>0.969035</td>\n",
       "      <td>-0.038165</td>\n",
       "      <td>0.001385</td>\n",
       "    </tr>\n",
       "    <tr>\n",
       "      <th>1</th>\n",
       "      <td>1.0</td>\n",
       "      <td>40</td>\n",
       "      <td>23</td>\n",
       "      <td>17</td>\n",
       "      <td>0.067251</td>\n",
       "      <td>0.030965</td>\n",
       "      <td>0.775569</td>\n",
       "      <td>0.028142</td>\n",
       "    </tr>\n",
       "  </tbody>\n",
       "</table>\n",
       "</div>"
      ],
      "text/plain": [
       "   Value  All  Good  Bad  Distr_Good  Distr_Bad       WoE        IV\n",
       "0    0.0  851   319  532    0.932749   0.969035 -0.038165  0.001385\n",
       "1    1.0   40    23   17    0.067251   0.030965  0.775569  0.028142"
      ]
     },
     "metadata": {},
     "output_type": "display_data"
    },
    {
     "name": "stdout",
     "output_type": "stream",
     "text": [
      "IV  Title_Master 0.029527182275491715\n"
     ]
    },
    {
     "data": {
      "text/html": [
       "<div>\n",
       "<style scoped>\n",
       "    .dataframe tbody tr th:only-of-type {\n",
       "        vertical-align: middle;\n",
       "    }\n",
       "\n",
       "    .dataframe tbody tr th {\n",
       "        vertical-align: top;\n",
       "    }\n",
       "\n",
       "    .dataframe thead th {\n",
       "        text-align: right;\n",
       "    }\n",
       "</style>\n",
       "<table border=\"1\" class=\"dataframe\">\n",
       "  <thead>\n",
       "    <tr style=\"text-align: right;\">\n",
       "      <th></th>\n",
       "      <th>Value</th>\n",
       "      <th>All</th>\n",
       "      <th>Good</th>\n",
       "      <th>Bad</th>\n",
       "      <th>Distr_Good</th>\n",
       "      <th>Distr_Bad</th>\n",
       "      <th>WoE</th>\n",
       "      <th>IV</th>\n",
       "    </tr>\n",
       "  </thead>\n",
       "  <tbody>\n",
       "    <tr>\n",
       "      <th>0</th>\n",
       "      <td>0.0</td>\n",
       "      <td>706</td>\n",
       "      <td>212</td>\n",
       "      <td>494</td>\n",
       "      <td>0.619883</td>\n",
       "      <td>0.899818</td>\n",
       "      <td>-0.372662</td>\n",
       "      <td>0.104321</td>\n",
       "    </tr>\n",
       "    <tr>\n",
       "      <th>1</th>\n",
       "      <td>1.0</td>\n",
       "      <td>185</td>\n",
       "      <td>130</td>\n",
       "      <td>55</td>\n",
       "      <td>0.380117</td>\n",
       "      <td>0.100182</td>\n",
       "      <td>1.333489</td>\n",
       "      <td>0.373290</td>\n",
       "    </tr>\n",
       "  </tbody>\n",
       "</table>\n",
       "</div>"
      ],
      "text/plain": [
       "   Value  All  Good  Bad  Distr_Good  Distr_Bad       WoE        IV\n",
       "0    0.0  706   212  494    0.619883   0.899818 -0.372662  0.104321\n",
       "1    1.0  185   130   55    0.380117   0.100182  1.333489  0.373290"
      ]
     },
     "metadata": {},
     "output_type": "display_data"
    },
    {
     "name": "stdout",
     "output_type": "stream",
     "text": [
      "IV  Title_Miss 0.47761091770663816\n"
     ]
    },
    {
     "data": {
      "text/html": [
       "<div>\n",
       "<style scoped>\n",
       "    .dataframe tbody tr th:only-of-type {\n",
       "        vertical-align: middle;\n",
       "    }\n",
       "\n",
       "    .dataframe tbody tr th {\n",
       "        vertical-align: top;\n",
       "    }\n",
       "\n",
       "    .dataframe thead th {\n",
       "        text-align: right;\n",
       "    }\n",
       "</style>\n",
       "<table border=\"1\" class=\"dataframe\">\n",
       "  <thead>\n",
       "    <tr style=\"text-align: right;\">\n",
       "      <th></th>\n",
       "      <th>Value</th>\n",
       "      <th>All</th>\n",
       "      <th>Good</th>\n",
       "      <th>Bad</th>\n",
       "      <th>Distr_Good</th>\n",
       "      <th>Distr_Bad</th>\n",
       "      <th>WoE</th>\n",
       "      <th>IV</th>\n",
       "    </tr>\n",
       "  </thead>\n",
       "  <tbody>\n",
       "    <tr>\n",
       "      <th>0</th>\n",
       "      <td>1.0</td>\n",
       "      <td>517</td>\n",
       "      <td>81</td>\n",
       "      <td>436</td>\n",
       "      <td>0.236842</td>\n",
       "      <td>0.794171</td>\n",
       "      <td>-1.209905</td>\n",
       "      <td>0.674315</td>\n",
       "    </tr>\n",
       "    <tr>\n",
       "      <th>1</th>\n",
       "      <td>0.0</td>\n",
       "      <td>374</td>\n",
       "      <td>261</td>\n",
       "      <td>113</td>\n",
       "      <td>0.763158</td>\n",
       "      <td>0.205829</td>\n",
       "      <td>1.310420</td>\n",
       "      <td>0.730335</td>\n",
       "    </tr>\n",
       "  </tbody>\n",
       "</table>\n",
       "</div>"
      ],
      "text/plain": [
       "   Value  All  Good  Bad  Distr_Good  Distr_Bad       WoE        IV\n",
       "0    1.0  517    81  436    0.236842   0.794171 -1.209905  0.674315\n",
       "1    0.0  374   261  113    0.763158   0.205829  1.310420  0.730335"
      ]
     },
     "metadata": {},
     "output_type": "display_data"
    },
    {
     "name": "stdout",
     "output_type": "stream",
     "text": [
      "IV  Title_Mr 1.4046508795808337\n"
     ]
    },
    {
     "data": {
      "text/html": [
       "<div>\n",
       "<style scoped>\n",
       "    .dataframe tbody tr th:only-of-type {\n",
       "        vertical-align: middle;\n",
       "    }\n",
       "\n",
       "    .dataframe tbody tr th {\n",
       "        vertical-align: top;\n",
       "    }\n",
       "\n",
       "    .dataframe thead th {\n",
       "        text-align: right;\n",
       "    }\n",
       "</style>\n",
       "<table border=\"1\" class=\"dataframe\">\n",
       "  <thead>\n",
       "    <tr style=\"text-align: right;\">\n",
       "      <th></th>\n",
       "      <th>Value</th>\n",
       "      <th>All</th>\n",
       "      <th>Good</th>\n",
       "      <th>Bad</th>\n",
       "      <th>Distr_Good</th>\n",
       "      <th>Distr_Bad</th>\n",
       "      <th>WoE</th>\n",
       "      <th>IV</th>\n",
       "    </tr>\n",
       "  </thead>\n",
       "  <tbody>\n",
       "    <tr>\n",
       "      <th>0</th>\n",
       "      <td>0.0</td>\n",
       "      <td>765</td>\n",
       "      <td>242</td>\n",
       "      <td>523</td>\n",
       "      <td>0.707602</td>\n",
       "      <td>0.952641</td>\n",
       "      <td>-0.297356</td>\n",
       "      <td>0.072864</td>\n",
       "    </tr>\n",
       "    <tr>\n",
       "      <th>1</th>\n",
       "      <td>1.0</td>\n",
       "      <td>126</td>\n",
       "      <td>100</td>\n",
       "      <td>26</td>\n",
       "      <td>0.292398</td>\n",
       "      <td>0.047359</td>\n",
       "      <td>1.820361</td>\n",
       "      <td>0.446059</td>\n",
       "    </tr>\n",
       "  </tbody>\n",
       "</table>\n",
       "</div>"
      ],
      "text/plain": [
       "   Value  All  Good  Bad  Distr_Good  Distr_Bad       WoE        IV\n",
       "0    0.0  765   242  523    0.707602   0.952641 -0.297356  0.072864\n",
       "1    1.0  126   100   26    0.292398   0.047359  1.820361  0.446059"
      ]
     },
     "metadata": {},
     "output_type": "display_data"
    },
    {
     "name": "stdout",
     "output_type": "stream",
     "text": [
      "IV  Title_Mrs 0.5189229832514721\n"
     ]
    },
    {
     "data": {
      "text/html": [
       "<div>\n",
       "<style scoped>\n",
       "    .dataframe tbody tr th:only-of-type {\n",
       "        vertical-align: middle;\n",
       "    }\n",
       "\n",
       "    .dataframe tbody tr th {\n",
       "        vertical-align: top;\n",
       "    }\n",
       "\n",
       "    .dataframe thead th {\n",
       "        text-align: right;\n",
       "    }\n",
       "</style>\n",
       "<table border=\"1\" class=\"dataframe\">\n",
       "  <thead>\n",
       "    <tr style=\"text-align: right;\">\n",
       "      <th></th>\n",
       "      <th>Value</th>\n",
       "      <th>All</th>\n",
       "      <th>Good</th>\n",
       "      <th>Bad</th>\n",
       "      <th>Distr_Good</th>\n",
       "      <th>Distr_Bad</th>\n",
       "      <th>WoE</th>\n",
       "      <th>IV</th>\n",
       "    </tr>\n",
       "  </thead>\n",
       "  <tbody>\n",
       "    <tr>\n",
       "      <th>1</th>\n",
       "      <td>1.0</td>\n",
       "      <td>21</td>\n",
       "      <td>6</td>\n",
       "      <td>15</td>\n",
       "      <td>0.017544</td>\n",
       "      <td>0.027322</td>\n",
       "      <td>-0.443003</td>\n",
       "      <td>0.004332</td>\n",
       "    </tr>\n",
       "    <tr>\n",
       "      <th>0</th>\n",
       "      <td>0.0</td>\n",
       "      <td>870</td>\n",
       "      <td>336</td>\n",
       "      <td>534</td>\n",
       "      <td>0.982456</td>\n",
       "      <td>0.972678</td>\n",
       "      <td>0.010003</td>\n",
       "      <td>0.000098</td>\n",
       "    </tr>\n",
       "  </tbody>\n",
       "</table>\n",
       "</div>"
      ],
      "text/plain": [
       "   Value  All  Good  Bad  Distr_Good  Distr_Bad       WoE        IV\n",
       "1    1.0   21     6   15    0.017544   0.027322 -0.443003  0.004332\n",
       "0    0.0  870   336  534    0.982456   0.972678  0.010003  0.000098"
      ]
     },
     "metadata": {},
     "output_type": "display_data"
    },
    {
     "name": "stdout",
     "output_type": "stream",
     "text": [
      "IV  Title_Rare 0.00442973994760529\n"
     ]
    },
    {
     "data": {
      "text/html": [
       "<div>\n",
       "<style scoped>\n",
       "    .dataframe tbody tr th:only-of-type {\n",
       "        vertical-align: middle;\n",
       "    }\n",
       "\n",
       "    .dataframe tbody tr th {\n",
       "        vertical-align: top;\n",
       "    }\n",
       "\n",
       "    .dataframe thead th {\n",
       "        text-align: right;\n",
       "    }\n",
       "</style>\n",
       "<table border=\"1\" class=\"dataframe\">\n",
       "  <thead>\n",
       "    <tr style=\"text-align: right;\">\n",
       "      <th></th>\n",
       "      <th>Value</th>\n",
       "      <th>All</th>\n",
       "      <th>Good</th>\n",
       "      <th>Bad</th>\n",
       "      <th>Distr_Good</th>\n",
       "      <th>Distr_Bad</th>\n",
       "      <th>WoE</th>\n",
       "      <th>IV</th>\n",
       "    </tr>\n",
       "  </thead>\n",
       "  <tbody>\n",
       "    <tr>\n",
       "      <th>0</th>\n",
       "      <td>0.0</td>\n",
       "      <td>889</td>\n",
       "      <td>340</td>\n",
       "      <td>549</td>\n",
       "      <td>0.994152</td>\n",
       "      <td>1.0</td>\n",
       "      <td>-0.005865</td>\n",
       "      <td>0.000034</td>\n",
       "    </tr>\n",
       "    <tr>\n",
       "      <th>1</th>\n",
       "      <td>1.0</td>\n",
       "      <td>2</td>\n",
       "      <td>2</td>\n",
       "      <td>0</td>\n",
       "      <td>0.005848</td>\n",
       "      <td>0.0</td>\n",
       "      <td>0.000000</td>\n",
       "      <td>0.000000</td>\n",
       "    </tr>\n",
       "  </tbody>\n",
       "</table>\n",
       "</div>"
      ],
      "text/plain": [
       "   Value  All  Good  Bad  Distr_Good  Distr_Bad       WoE        IV\n",
       "0    0.0  889   340  549    0.994152        1.0 -0.005865  0.000034\n",
       "1    1.0    2     2    0    0.005848        0.0  0.000000  0.000000"
      ]
     },
     "metadata": {},
     "output_type": "display_data"
    },
    {
     "name": "stdout",
     "output_type": "stream",
     "text": [
      "IV  Title_Royal 3.4298944166071284e-05\n"
     ]
    },
    {
     "data": {
      "text/html": [
       "<div>\n",
       "<style scoped>\n",
       "    .dataframe tbody tr th:only-of-type {\n",
       "        vertical-align: middle;\n",
       "    }\n",
       "\n",
       "    .dataframe tbody tr th {\n",
       "        vertical-align: top;\n",
       "    }\n",
       "\n",
       "    .dataframe thead th {\n",
       "        text-align: right;\n",
       "    }\n",
       "</style>\n",
       "<table border=\"1\" class=\"dataframe\">\n",
       "  <thead>\n",
       "    <tr style=\"text-align: right;\">\n",
       "      <th></th>\n",
       "      <th>Value</th>\n",
       "      <th>All</th>\n",
       "      <th>Good</th>\n",
       "      <th>Bad</th>\n",
       "      <th>Distr_Good</th>\n",
       "      <th>Distr_Bad</th>\n",
       "      <th>WoE</th>\n",
       "      <th>IV</th>\n",
       "    </tr>\n",
       "  </thead>\n",
       "  <tbody>\n",
       "    <tr>\n",
       "      <th>0</th>\n",
       "      <td>0.0</td>\n",
       "      <td>842</td>\n",
       "      <td>305</td>\n",
       "      <td>537</td>\n",
       "      <td>0.891813</td>\n",
       "      <td>0.978142</td>\n",
       "      <td>-0.092399</td>\n",
       "      <td>0.007977</td>\n",
       "    </tr>\n",
       "    <tr>\n",
       "      <th>1</th>\n",
       "      <td>1.0</td>\n",
       "      <td>49</td>\n",
       "      <td>37</td>\n",
       "      <td>12</td>\n",
       "      <td>0.108187</td>\n",
       "      <td>0.021858</td>\n",
       "      <td>1.599299</td>\n",
       "      <td>0.138066</td>\n",
       "    </tr>\n",
       "  </tbody>\n",
       "</table>\n",
       "</div>"
      ],
      "text/plain": [
       "   Value  All  Good  Bad  Distr_Good  Distr_Bad       WoE        IV\n",
       "0    0.0  842   305  537    0.891813   0.978142 -0.092399  0.007977\n",
       "1    1.0   49    37   12    0.108187   0.021858  1.599299  0.138066"
      ]
     },
     "metadata": {},
     "output_type": "display_data"
    },
    {
     "name": "stdout",
     "output_type": "stream",
     "text": [
      "IV  FareBin_Extreme 0.14604291740698763\n"
     ]
    },
    {
     "data": {
      "text/html": [
       "<div>\n",
       "<style scoped>\n",
       "    .dataframe tbody tr th:only-of-type {\n",
       "        vertical-align: middle;\n",
       "    }\n",
       "\n",
       "    .dataframe tbody tr th {\n",
       "        vertical-align: top;\n",
       "    }\n",
       "\n",
       "    .dataframe thead th {\n",
       "        text-align: right;\n",
       "    }\n",
       "</style>\n",
       "<table border=\"1\" class=\"dataframe\">\n",
       "  <thead>\n",
       "    <tr style=\"text-align: right;\">\n",
       "      <th></th>\n",
       "      <th>Value</th>\n",
       "      <th>All</th>\n",
       "      <th>Good</th>\n",
       "      <th>Bad</th>\n",
       "      <th>Distr_Good</th>\n",
       "      <th>Distr_Bad</th>\n",
       "      <th>WoE</th>\n",
       "      <th>IV</th>\n",
       "    </tr>\n",
       "  </thead>\n",
       "  <tbody>\n",
       "    <tr>\n",
       "      <th>0</th>\n",
       "      <td>0.0</td>\n",
       "      <td>706</td>\n",
       "      <td>243</td>\n",
       "      <td>463</td>\n",
       "      <td>0.710526</td>\n",
       "      <td>0.843352</td>\n",
       "      <td>-0.171378</td>\n",
       "      <td>0.022763</td>\n",
       "    </tr>\n",
       "    <tr>\n",
       "      <th>1</th>\n",
       "      <td>1.0</td>\n",
       "      <td>185</td>\n",
       "      <td>99</td>\n",
       "      <td>86</td>\n",
       "      <td>0.289474</td>\n",
       "      <td>0.156648</td>\n",
       "      <td>0.614060</td>\n",
       "      <td>0.081563</td>\n",
       "    </tr>\n",
       "  </tbody>\n",
       "</table>\n",
       "</div>"
      ],
      "text/plain": [
       "   Value  All  Good  Bad  Distr_Good  Distr_Bad       WoE        IV\n",
       "0    0.0  706   243  463    0.710526   0.843352 -0.171378  0.022763\n",
       "1    1.0  185    99   86    0.289474   0.156648  0.614060  0.081563"
      ]
     },
     "metadata": {},
     "output_type": "display_data"
    },
    {
     "name": "stdout",
     "output_type": "stream",
     "text": [
      "IV  FareBin_High 0.1043260068152993\n"
     ]
    },
    {
     "data": {
      "text/html": [
       "<div>\n",
       "<style scoped>\n",
       "    .dataframe tbody tr th:only-of-type {\n",
       "        vertical-align: middle;\n",
       "    }\n",
       "\n",
       "    .dataframe tbody tr th {\n",
       "        vertical-align: top;\n",
       "    }\n",
       "\n",
       "    .dataframe thead th {\n",
       "        text-align: right;\n",
       "    }\n",
       "</style>\n",
       "<table border=\"1\" class=\"dataframe\">\n",
       "  <thead>\n",
       "    <tr style=\"text-align: right;\">\n",
       "      <th></th>\n",
       "      <th>Value</th>\n",
       "      <th>All</th>\n",
       "      <th>Good</th>\n",
       "      <th>Bad</th>\n",
       "      <th>Distr_Good</th>\n",
       "      <th>Distr_Bad</th>\n",
       "      <th>WoE</th>\n",
       "      <th>IV</th>\n",
       "    </tr>\n",
       "  </thead>\n",
       "  <tbody>\n",
       "    <tr>\n",
       "      <th>0</th>\n",
       "      <td>1.0</td>\n",
       "      <td>515</td>\n",
       "      <td>143</td>\n",
       "      <td>372</td>\n",
       "      <td>0.418129</td>\n",
       "      <td>0.677596</td>\n",
       "      <td>-0.482762</td>\n",
       "      <td>0.125261</td>\n",
       "    </tr>\n",
       "    <tr>\n",
       "      <th>1</th>\n",
       "      <td>0.0</td>\n",
       "      <td>376</td>\n",
       "      <td>199</td>\n",
       "      <td>177</td>\n",
       "      <td>0.581871</td>\n",
       "      <td>0.322404</td>\n",
       "      <td>0.590443</td>\n",
       "      <td>0.153200</td>\n",
       "    </tr>\n",
       "  </tbody>\n",
       "</table>\n",
       "</div>"
      ],
      "text/plain": [
       "   Value  All  Good  Bad  Distr_Good  Distr_Bad       WoE        IV\n",
       "0    1.0  515   143  372    0.418129   0.677596 -0.482762  0.125261\n",
       "1    0.0  376   199  177    0.581871   0.322404  0.590443  0.153200"
      ]
     },
     "metadata": {},
     "output_type": "display_data"
    },
    {
     "name": "stdout",
     "output_type": "stream",
     "text": [
      "IV  FareBin_Low 0.2784610758026652\n"
     ]
    },
    {
     "data": {
      "text/html": [
       "<div>\n",
       "<style scoped>\n",
       "    .dataframe tbody tr th:only-of-type {\n",
       "        vertical-align: middle;\n",
       "    }\n",
       "\n",
       "    .dataframe tbody tr th {\n",
       "        vertical-align: top;\n",
       "    }\n",
       "\n",
       "    .dataframe thead th {\n",
       "        text-align: right;\n",
       "    }\n",
       "</style>\n",
       "<table border=\"1\" class=\"dataframe\">\n",
       "  <thead>\n",
       "    <tr style=\"text-align: right;\">\n",
       "      <th></th>\n",
       "      <th>Value</th>\n",
       "      <th>All</th>\n",
       "      <th>Good</th>\n",
       "      <th>Bad</th>\n",
       "      <th>Distr_Good</th>\n",
       "      <th>Distr_Bad</th>\n",
       "      <th>WoE</th>\n",
       "      <th>IV</th>\n",
       "    </tr>\n",
       "  </thead>\n",
       "  <tbody>\n",
       "    <tr>\n",
       "      <th>0</th>\n",
       "      <td>0.0</td>\n",
       "      <td>749</td>\n",
       "      <td>279</td>\n",
       "      <td>470</td>\n",
       "      <td>0.815789</td>\n",
       "      <td>0.856102</td>\n",
       "      <td>-0.048233</td>\n",
       "      <td>0.001944</td>\n",
       "    </tr>\n",
       "    <tr>\n",
       "      <th>1</th>\n",
       "      <td>1.0</td>\n",
       "      <td>142</td>\n",
       "      <td>63</td>\n",
       "      <td>79</td>\n",
       "      <td>0.184211</td>\n",
       "      <td>0.143898</td>\n",
       "      <td>0.246975</td>\n",
       "      <td>0.009956</td>\n",
       "    </tr>\n",
       "  </tbody>\n",
       "</table>\n",
       "</div>"
      ],
      "text/plain": [
       "   Value  All  Good  Bad  Distr_Good  Distr_Bad       WoE        IV\n",
       "0    0.0  749   279  470    0.815789   0.856102 -0.048233  0.001944\n",
       "1    1.0  142    63   79    0.184211   0.143898  0.246975  0.009956"
      ]
     },
     "metadata": {},
     "output_type": "display_data"
    },
    {
     "name": "stdout",
     "output_type": "stream",
     "text": [
      "IV  FareBin_Mid 0.011900572749731428\n"
     ]
    }
   ],
   "source": [
    "for feat in df_train_transformed_mc:\n",
    "    dset, iv = calculate_woe_iv(df_train_transformed_mc,feat,'Survived')\n",
    "    display(dset)\n",
    "    print('IV ',feat,iv)"
   ]
  },
  {
   "cell_type": "code",
   "execution_count": 612,
   "metadata": {
    "id": "IXMlrchDv22L"
   },
   "outputs": [],
   "source": [
    "#Menyeleksi kolom yang memiliki nilai lebih dari 0.02 #20 feature\n",
    "df_train_transformed_mc = df_train_transformed[['Survived','Pclass','Age','Solo','Baby','Embarked_C',\n",
    "'Embarked_Q','Embarked_S','Deck_B','Deck_C','Deck_D','Deck_E','Deck_Z','Title_Master','Title_Miss',\n",
    "'Title_Mr','Title_Mrs','FareBin_Extreme','FareBin_High','FareBin_Low']]"
   ]
  },
  {
   "cell_type": "code",
   "execution_count": 613,
   "metadata": {
    "colab": {
     "base_uri": "https://localhost:8080/",
     "height": 270
    },
    "id": "zQc2RDEpwOF1",
    "outputId": "0f429152-f1ce-47d6-ff14-90d64fbb0e19"
   },
   "outputs": [
    {
     "data": {
      "text/html": [
       "<div>\n",
       "<style scoped>\n",
       "    .dataframe tbody tr th:only-of-type {\n",
       "        vertical-align: middle;\n",
       "    }\n",
       "\n",
       "    .dataframe tbody tr th {\n",
       "        vertical-align: top;\n",
       "    }\n",
       "\n",
       "    .dataframe thead th {\n",
       "        text-align: right;\n",
       "    }\n",
       "</style>\n",
       "<table border=\"1\" class=\"dataframe\">\n",
       "  <thead>\n",
       "    <tr style=\"text-align: right;\">\n",
       "      <th></th>\n",
       "      <th>Pclass</th>\n",
       "      <th>Age</th>\n",
       "      <th>SibSp</th>\n",
       "      <th>Parch</th>\n",
       "      <th>FamilyMember</th>\n",
       "      <th>Solo</th>\n",
       "      <th>Baby</th>\n",
       "      <th>Sex_female</th>\n",
       "      <th>Sex_male</th>\n",
       "      <th>Embarked_C</th>\n",
       "      <th>Embarked_Q</th>\n",
       "      <th>Embarked_S</th>\n",
       "      <th>Deck_A</th>\n",
       "      <th>Deck_B</th>\n",
       "      <th>Deck_C</th>\n",
       "      <th>Deck_D</th>\n",
       "      <th>Deck_E</th>\n",
       "      <th>Deck_F</th>\n",
       "      <th>Deck_G</th>\n",
       "      <th>Deck_Z</th>\n",
       "      <th>Title_Master</th>\n",
       "      <th>Title_Miss</th>\n",
       "      <th>Title_Mr</th>\n",
       "      <th>Title_Mrs</th>\n",
       "      <th>Title_Rare</th>\n",
       "      <th>FareBin_Extreme</th>\n",
       "      <th>FareBin_High</th>\n",
       "      <th>FareBin_Low</th>\n",
       "      <th>FareBin_Mid</th>\n",
       "    </tr>\n",
       "  </thead>\n",
       "  <tbody>\n",
       "    <tr>\n",
       "      <th>0</th>\n",
       "      <td>1.0</td>\n",
       "      <td>0.452723</td>\n",
       "      <td>0.000</td>\n",
       "      <td>0.000000</td>\n",
       "      <td>0.0</td>\n",
       "      <td>1.0</td>\n",
       "      <td>0.0</td>\n",
       "      <td>0.0</td>\n",
       "      <td>1.0</td>\n",
       "      <td>0.0</td>\n",
       "      <td>1.0</td>\n",
       "      <td>0.0</td>\n",
       "      <td>0.0</td>\n",
       "      <td>0.0</td>\n",
       "      <td>0.0</td>\n",
       "      <td>0.0</td>\n",
       "      <td>0.0</td>\n",
       "      <td>0.0</td>\n",
       "      <td>0.0</td>\n",
       "      <td>1.0</td>\n",
       "      <td>0.0</td>\n",
       "      <td>0.0</td>\n",
       "      <td>1.0</td>\n",
       "      <td>0.0</td>\n",
       "      <td>0.0</td>\n",
       "      <td>0.0</td>\n",
       "      <td>0.0</td>\n",
       "      <td>1.0</td>\n",
       "      <td>0.0</td>\n",
       "    </tr>\n",
       "    <tr>\n",
       "      <th>1</th>\n",
       "      <td>1.0</td>\n",
       "      <td>0.617566</td>\n",
       "      <td>0.125</td>\n",
       "      <td>0.000000</td>\n",
       "      <td>0.1</td>\n",
       "      <td>0.0</td>\n",
       "      <td>0.0</td>\n",
       "      <td>1.0</td>\n",
       "      <td>0.0</td>\n",
       "      <td>0.0</td>\n",
       "      <td>0.0</td>\n",
       "      <td>1.0</td>\n",
       "      <td>0.0</td>\n",
       "      <td>0.0</td>\n",
       "      <td>0.0</td>\n",
       "      <td>0.0</td>\n",
       "      <td>0.0</td>\n",
       "      <td>0.0</td>\n",
       "      <td>0.0</td>\n",
       "      <td>1.0</td>\n",
       "      <td>0.0</td>\n",
       "      <td>0.0</td>\n",
       "      <td>0.0</td>\n",
       "      <td>1.0</td>\n",
       "      <td>0.0</td>\n",
       "      <td>0.0</td>\n",
       "      <td>0.0</td>\n",
       "      <td>1.0</td>\n",
       "      <td>0.0</td>\n",
       "    </tr>\n",
       "    <tr>\n",
       "      <th>2</th>\n",
       "      <td>0.5</td>\n",
       "      <td>0.815377</td>\n",
       "      <td>0.000</td>\n",
       "      <td>0.000000</td>\n",
       "      <td>0.0</td>\n",
       "      <td>1.0</td>\n",
       "      <td>0.0</td>\n",
       "      <td>0.0</td>\n",
       "      <td>1.0</td>\n",
       "      <td>0.0</td>\n",
       "      <td>1.0</td>\n",
       "      <td>0.0</td>\n",
       "      <td>0.0</td>\n",
       "      <td>0.0</td>\n",
       "      <td>0.0</td>\n",
       "      <td>0.0</td>\n",
       "      <td>0.0</td>\n",
       "      <td>0.0</td>\n",
       "      <td>0.0</td>\n",
       "      <td>1.0</td>\n",
       "      <td>0.0</td>\n",
       "      <td>0.0</td>\n",
       "      <td>1.0</td>\n",
       "      <td>0.0</td>\n",
       "      <td>0.0</td>\n",
       "      <td>0.0</td>\n",
       "      <td>0.0</td>\n",
       "      <td>1.0</td>\n",
       "      <td>0.0</td>\n",
       "    </tr>\n",
       "    <tr>\n",
       "      <th>3</th>\n",
       "      <td>1.0</td>\n",
       "      <td>0.353818</td>\n",
       "      <td>0.000</td>\n",
       "      <td>0.000000</td>\n",
       "      <td>0.0</td>\n",
       "      <td>1.0</td>\n",
       "      <td>0.0</td>\n",
       "      <td>0.0</td>\n",
       "      <td>1.0</td>\n",
       "      <td>0.0</td>\n",
       "      <td>0.0</td>\n",
       "      <td>1.0</td>\n",
       "      <td>0.0</td>\n",
       "      <td>0.0</td>\n",
       "      <td>0.0</td>\n",
       "      <td>0.0</td>\n",
       "      <td>0.0</td>\n",
       "      <td>0.0</td>\n",
       "      <td>0.0</td>\n",
       "      <td>1.0</td>\n",
       "      <td>0.0</td>\n",
       "      <td>0.0</td>\n",
       "      <td>1.0</td>\n",
       "      <td>0.0</td>\n",
       "      <td>0.0</td>\n",
       "      <td>0.0</td>\n",
       "      <td>0.0</td>\n",
       "      <td>1.0</td>\n",
       "      <td>0.0</td>\n",
       "    </tr>\n",
       "    <tr>\n",
       "      <th>4</th>\n",
       "      <td>1.0</td>\n",
       "      <td>0.287881</td>\n",
       "      <td>0.125</td>\n",
       "      <td>0.111111</td>\n",
       "      <td>0.2</td>\n",
       "      <td>0.0</td>\n",
       "      <td>0.0</td>\n",
       "      <td>1.0</td>\n",
       "      <td>0.0</td>\n",
       "      <td>0.0</td>\n",
       "      <td>0.0</td>\n",
       "      <td>1.0</td>\n",
       "      <td>0.0</td>\n",
       "      <td>0.0</td>\n",
       "      <td>0.0</td>\n",
       "      <td>0.0</td>\n",
       "      <td>0.0</td>\n",
       "      <td>0.0</td>\n",
       "      <td>0.0</td>\n",
       "      <td>1.0</td>\n",
       "      <td>0.0</td>\n",
       "      <td>0.0</td>\n",
       "      <td>0.0</td>\n",
       "      <td>1.0</td>\n",
       "      <td>0.0</td>\n",
       "      <td>0.0</td>\n",
       "      <td>0.0</td>\n",
       "      <td>1.0</td>\n",
       "      <td>0.0</td>\n",
       "    </tr>\n",
       "  </tbody>\n",
       "</table>\n",
       "</div>"
      ],
      "text/plain": [
       "   Pclass       Age  SibSp     Parch  FamilyMember  Solo  Baby  Sex_female  \\\n",
       "0     1.0  0.452723  0.000  0.000000           0.0   1.0   0.0         0.0   \n",
       "1     1.0  0.617566  0.125  0.000000           0.1   0.0   0.0         1.0   \n",
       "2     0.5  0.815377  0.000  0.000000           0.0   1.0   0.0         0.0   \n",
       "3     1.0  0.353818  0.000  0.000000           0.0   1.0   0.0         0.0   \n",
       "4     1.0  0.287881  0.125  0.111111           0.2   0.0   0.0         1.0   \n",
       "\n",
       "   Sex_male  Embarked_C  Embarked_Q  Embarked_S  Deck_A  Deck_B  Deck_C  \\\n",
       "0       1.0         0.0         1.0         0.0     0.0     0.0     0.0   \n",
       "1       0.0         0.0         0.0         1.0     0.0     0.0     0.0   \n",
       "2       1.0         0.0         1.0         0.0     0.0     0.0     0.0   \n",
       "3       1.0         0.0         0.0         1.0     0.0     0.0     0.0   \n",
       "4       0.0         0.0         0.0         1.0     0.0     0.0     0.0   \n",
       "\n",
       "   Deck_D  Deck_E  Deck_F  Deck_G  Deck_Z  Title_Master  Title_Miss  Title_Mr  \\\n",
       "0     0.0     0.0     0.0     0.0     1.0           0.0         0.0       1.0   \n",
       "1     0.0     0.0     0.0     0.0     1.0           0.0         0.0       0.0   \n",
       "2     0.0     0.0     0.0     0.0     1.0           0.0         0.0       1.0   \n",
       "3     0.0     0.0     0.0     0.0     1.0           0.0         0.0       1.0   \n",
       "4     0.0     0.0     0.0     0.0     1.0           0.0         0.0       0.0   \n",
       "\n",
       "   Title_Mrs  Title_Rare  FareBin_Extreme  FareBin_High  FareBin_Low  \\\n",
       "0        0.0         0.0              0.0           0.0          1.0   \n",
       "1        1.0         0.0              0.0           0.0          1.0   \n",
       "2        0.0         0.0              0.0           0.0          1.0   \n",
       "3        0.0         0.0              0.0           0.0          1.0   \n",
       "4        1.0         0.0              0.0           0.0          1.0   \n",
       "\n",
       "   FareBin_Mid  \n",
       "0          0.0  \n",
       "1          0.0  \n",
       "2          0.0  \n",
       "3          0.0  \n",
       "4          0.0  "
      ]
     },
     "execution_count": 613,
     "metadata": {},
     "output_type": "execute_result"
    }
   ],
   "source": [
    "df_backtesting_transformed.head()"
   ]
  },
  {
   "cell_type": "code",
   "execution_count": 614,
   "metadata": {
    "id": "PjbjfEAuNCqR"
   },
   "outputs": [],
   "source": [
    "df_backtesting_transformed_mc = df_backtesting_transformed[['Pclass','Age','Solo','Baby','Embarked_C','Embarked_Q',\n",
    "'Embarked_S','Deck_B','Deck_C','Deck_D','Deck_E','Deck_Z','Title_Master','Title_Miss','Title_Mr',\n",
    "'Title_Mrs','FareBin_Extreme','FareBin_High','FareBin_Low']]"
   ]
  },
  {
   "cell_type": "code",
   "execution_count": 615,
   "metadata": {
    "id": "60ef3030"
   },
   "outputs": [],
   "source": [
    "#Splitting\n",
    "from sklearn.model_selection import train_test_split"
   ]
  },
  {
   "cell_type": "code",
   "execution_count": 616,
   "metadata": {
    "id": "906f0f41"
   },
   "outputs": [],
   "source": [
    "X = df_train_transformed_mc.drop(['Survived'], axis=1)\n",
    "y = df_train_transformed_mc['Survived']"
   ]
  },
  {
   "cell_type": "code",
   "execution_count": 617,
   "metadata": {
    "id": "bac39df5"
   },
   "outputs": [],
   "source": [
    "X_train, X_test, y_train, y_test = train_test_split(X,y, test_size=0.10, stratify = y)"
   ]
  },
  {
   "cell_type": "code",
   "execution_count": 618,
   "metadata": {
    "id": "o-63cEVFVC2t"
   },
   "outputs": [],
   "source": [
    "#Variable id backtesting\n",
    "Id = df_backtesting['PassengerId']"
   ]
  },
  {
   "cell_type": "code",
   "execution_count": 619,
   "metadata": {
    "colab": {
     "base_uri": "https://localhost:8080/"
    },
    "id": "74ff31bd",
    "outputId": "55191e5c-a61a-4b5e-bb50-27d65d004105"
   },
   "outputs": [
    {
     "data": {
      "text/plain": [
       "array([0.0375473 , 0.03688017, 0.03906588, 0.04112183, 0.01382211,\n",
       "       0.        , 0.01100927, 0.        , 0.00013874, 0.01163592,\n",
       "       0.03125243, 0.08822694, 0.0538625 , 0.03188022, 0.13742147,\n",
       "       0.04191587, 0.0064771 , 0.01121518, 0.02533405])"
      ]
     },
     "execution_count": 619,
     "metadata": {},
     "output_type": "execute_result"
    }
   ],
   "source": [
    "#Third step, i using the \"Mutual Info\" method\n",
    "from sklearn.feature_selection import mutual_info_classif\n",
    "mutual_info_classif(X_train, y_train)"
   ]
  },
  {
   "cell_type": "code",
   "execution_count": 620,
   "metadata": {
    "colab": {
     "base_uri": "https://localhost:8080/",
     "height": 206
    },
    "id": "2c542ff7",
    "outputId": "10c78ca6-9b71-4f95-c78a-c823e839a7c9"
   },
   "outputs": [
    {
     "data": {
      "text/html": [
       "<div>\n",
       "<style scoped>\n",
       "    .dataframe tbody tr th:only-of-type {\n",
       "        vertical-align: middle;\n",
       "    }\n",
       "\n",
       "    .dataframe tbody tr th {\n",
       "        vertical-align: top;\n",
       "    }\n",
       "\n",
       "    .dataframe thead th {\n",
       "        text-align: right;\n",
       "    }\n",
       "</style>\n",
       "<table border=\"1\" class=\"dataframe\">\n",
       "  <thead>\n",
       "    <tr style=\"text-align: right;\">\n",
       "      <th></th>\n",
       "      <th>features</th>\n",
       "      <th>mutual_info</th>\n",
       "    </tr>\n",
       "  </thead>\n",
       "  <tbody>\n",
       "    <tr>\n",
       "      <th>14</th>\n",
       "      <td>Title_Mr</td>\n",
       "      <td>0.162738</td>\n",
       "    </tr>\n",
       "    <tr>\n",
       "      <th>15</th>\n",
       "      <td>Title_Mrs</td>\n",
       "      <td>0.085579</td>\n",
       "    </tr>\n",
       "    <tr>\n",
       "      <th>0</th>\n",
       "      <td>Pclass</td>\n",
       "      <td>0.066588</td>\n",
       "    </tr>\n",
       "    <tr>\n",
       "      <th>11</th>\n",
       "      <td>Deck_Z</td>\n",
       "      <td>0.059693</td>\n",
       "    </tr>\n",
       "    <tr>\n",
       "      <th>16</th>\n",
       "      <td>FareBin_Extreme</td>\n",
       "      <td>0.046508</td>\n",
       "    </tr>\n",
       "  </tbody>\n",
       "</table>\n",
       "</div>"
      ],
      "text/plain": [
       "           features  mutual_info\n",
       "14         Title_Mr     0.162738\n",
       "15        Title_Mrs     0.085579\n",
       "0            Pclass     0.066588\n",
       "11           Deck_Z     0.059693\n",
       "16  FareBin_Extreme     0.046508"
      ]
     },
     "execution_count": 620,
     "metadata": {},
     "output_type": "execute_result"
    }
   ],
   "source": [
    "mutualinfo=pd.DataFrame({'features': X_train.columns, \n",
    "             'mutual_info': mutual_info_classif(X_train, y_train)}).sort_values('mutual_info', ascending=False)\n",
    "mutualinfo.head()"
   ]
  },
  {
   "cell_type": "code",
   "execution_count": 621,
   "metadata": {
    "colab": {
     "base_uri": "https://localhost:8080/"
    },
    "id": "5f86b79d",
    "outputId": "b2364ef7-11b3-4fa0-a9ac-4b0897b68e7c"
   },
   "outputs": [
    {
     "data": {
      "text/plain": [
       "array(['Title_Mr', 'Title_Mrs', 'Pclass', 'Deck_Z', 'FareBin_Extreme',\n",
       "       'FareBin_High', 'Deck_E', 'Title_Miss', 'Deck_B', 'Baby',\n",
       "       'Embarked_S', 'Solo', 'FareBin_Low', 'Age', 'Title_Master',\n",
       "       'Deck_C', 'Embarked_Q', 'Embarked_C', 'Deck_D'], dtype=object)"
      ]
     },
     "execution_count": 621,
     "metadata": {},
     "output_type": "execute_result"
    }
   ],
   "source": [
    "mutualinfo['features'].unique()"
   ]
  },
  {
   "cell_type": "code",
   "execution_count": 622,
   "metadata": {
    "colab": {
     "base_uri": "https://localhost:8080/"
    },
    "id": "c2bbe37e",
    "outputId": "58e7cd94-3dee-4ad8-9751-9e9c1c696134"
   },
   "outputs": [
    {
     "data": {
      "text/plain": [
       "SelectKBest(k=19,\n",
       "            score_func=<function mutual_info_classif at 0x000001C755E04310>)"
      ]
     },
     "execution_count": 622,
     "metadata": {},
     "output_type": "execute_result"
    }
   ],
   "source": [
    "#Fourth step, i using the \"KBest\" method to find the best column to process on machine learning\n",
    "from sklearn.feature_selection import SelectKBest\n",
    "kbest = SelectKBest(score_func = mutual_info_classif, k=19)\n",
    "kbest.fit(X_train, y_train)"
   ]
  },
  {
   "cell_type": "code",
   "execution_count": 623,
   "metadata": {
    "colab": {
     "base_uri": "https://localhost:8080/"
    },
    "id": "5d914e82",
    "outputId": "d44e8d6a-1dc4-49d7-b6ec-7c3992004915"
   },
   "outputs": [
    {
     "data": {
      "text/plain": [
       "array([ True,  True,  True,  True,  True,  True,  True,  True,  True,\n",
       "        True,  True,  True,  True,  True,  True,  True,  True,  True,\n",
       "        True])"
      ]
     },
     "execution_count": 623,
     "metadata": {},
     "output_type": "execute_result"
    }
   ],
   "source": [
    "kbest.get_support()"
   ]
  },
  {
   "cell_type": "code",
   "execution_count": 624,
   "metadata": {
    "colab": {
     "base_uri": "https://localhost:8080/"
    },
    "id": "f26cf885",
    "outputId": "5fdbc6f5-0ec5-437d-8031-081413d71fe9"
   },
   "outputs": [
    {
     "data": {
      "text/plain": [
       "Index(['Pclass', 'Age', 'Solo', 'Baby', 'Embarked_C', 'Embarked_Q',\n",
       "       'Embarked_S', 'Deck_B', 'Deck_C', 'Deck_D', 'Deck_E', 'Deck_Z',\n",
       "       'Title_Master', 'Title_Miss', 'Title_Mr', 'Title_Mrs',\n",
       "       'FareBin_Extreme', 'FareBin_High', 'FareBin_Low'],\n",
       "      dtype='object')"
      ]
     },
     "execution_count": 624,
     "metadata": {},
     "output_type": "execute_result"
    }
   ],
   "source": [
    "X_train.columns[kbest.get_support()]"
   ]
  },
  {
   "cell_type": "code",
   "execution_count": 625,
   "metadata": {
    "id": "372f2bc3"
   },
   "outputs": [],
   "source": [
    "X_train = pd.DataFrame(X_train)"
   ]
  },
  {
   "cell_type": "code",
   "execution_count": 626,
   "metadata": {
    "id": "4e16aac6"
   },
   "outputs": [],
   "source": [
    "X_train_mi = X_train[X_train.columns[kbest.get_support()]]"
   ]
  },
  {
   "cell_type": "code",
   "execution_count": 627,
   "metadata": {
    "id": "qwPCPXb8Lum-"
   },
   "outputs": [],
   "source": [
    "X_test_mi = X_test[X_train.columns[kbest.get_support()]]"
   ]
  },
  {
   "cell_type": "code",
   "execution_count": 628,
   "metadata": {
    "id": "17e15a37"
   },
   "outputs": [],
   "source": [
    "X_backtesting_mi = df_backtesting_transformed_mc[X_train.columns[kbest.get_support()]]"
   ]
  },
  {
   "cell_type": "markdown",
   "metadata": {
    "id": "3aKxvcmc4P61"
   },
   "source": [
    "*   **Resampling**"
   ]
  },
  {
   "cell_type": "code",
   "execution_count": 629,
   "metadata": {
    "id": "Un6W_-Za4OHY"
   },
   "outputs": [],
   "source": [
    "#Because the portion of dataset is inbalanced, i using the resampling technique\n",
    "from imblearn.over_sampling import RandomOverSampler, SMOTE, ADASYN\n",
    "from imblearn.combine import SMOTEENN\n",
    "from imblearn.under_sampling import EditedNearestNeighbours"
   ]
  },
  {
   "cell_type": "code",
   "execution_count": 630,
   "metadata": {
    "colab": {
     "base_uri": "https://localhost:8080/"
    },
    "id": "AubpvhTo4Xrz",
    "outputId": "de572b62-6ace-406a-efdd-b3f3045c9176"
   },
   "outputs": [
    {
     "data": {
      "text/plain": [
       "0.0    494\n",
       "1.0    307\n",
       "Name: Survived, dtype: int64"
      ]
     },
     "execution_count": 630,
     "metadata": {},
     "output_type": "execute_result"
    }
   ],
   "source": [
    "y_train.value_counts()"
   ]
  },
  {
   "cell_type": "code",
   "execution_count": 631,
   "metadata": {
    "id": "WhrOMREX4X7v"
   },
   "outputs": [],
   "source": [
    "#enn = SMOTE(sampling_strategy=0.55)\n",
    "#enn = RandomOverSampler(sampling_strategy=0.60)\n",
    "#enn = ADASYN()\n",
    "#enn = EditedNearestNeighbours()\n",
    "#enn = SMOTEENN()\n",
    "\n",
    "#ros = RandomOverSampler()\n",
    "smote = SMOTE()\n",
    "#adasyn = ADASYN()"
   ]
  },
  {
   "cell_type": "code",
   "execution_count": null,
   "metadata": {},
   "outputs": [],
   "source": []
  },
  {
   "cell_type": "code",
   "execution_count": 632,
   "metadata": {
    "colab": {
     "base_uri": "https://localhost:8080/"
    },
    "id": "VSAqtAG54YO8",
    "outputId": "88be02f2-f8ab-45d2-e7a2-54ad06172785"
   },
   "outputs": [
    {
     "name": "stdout",
     "output_type": "stream",
     "text": [
      "1.0    494\n",
      "0.0    494\n",
      "Name: Survived, dtype: int64\n"
     ]
    }
   ],
   "source": [
    "X_train_mii, y_train_mii = smote.fit_resample(X_train_mi, y_train)\n",
    "print(y_train_mii.value_counts())\n",
    "\n",
    "#for x in [ros, smote, adasyn]:\n",
    "    #X_train_mii, y_train_mii = x.fit_resample(X_train_mi, y_train)\n",
    "    #print(y_train_mii.value_counts())"
   ]
  },
  {
   "cell_type": "markdown",
   "metadata": {
    "id": "saYLaOXkUtL3"
   },
   "source": [
    "# **4. Modeling**"
   ]
  },
  {
   "cell_type": "code",
   "execution_count": 633,
   "metadata": {
    "id": "IqumNcRROR9d"
   },
   "outputs": [],
   "source": [
    "#Algorithms\n",
    "from sklearn import ensemble, tree, svm, naive_bayes, neighbors, linear_model, gaussian_process, neural_network\n",
    "import xgboost as xgb\n",
    "from xgboost.sklearn import XGBClassifier\n",
    "\n",
    "# Model\n",
    "from sklearn.metrics import accuracy_score, f1_score, auc, roc_curve, roc_auc_score\n",
    "from sklearn.model_selection import train_test_split, StratifiedKFold, GridSearchCV, cross_val_score\n",
    "#from sklearn.ensemble import VotingClassifier\n",
    "\n",
    "MLA = [\n",
    "    ensemble.AdaBoostClassifier(),\n",
    "    ensemble.ExtraTreesClassifier(),\n",
    "    ensemble.GradientBoostingClassifier(),\n",
    "    ensemble.RandomForestClassifier(),\n",
    "    gaussian_process.GaussianProcessClassifier(),\n",
    "    linear_model.LogisticRegressionCV(),\n",
    "    linear_model.RidgeClassifierCV(),\n",
    "    linear_model.Perceptron(),\n",
    "    naive_bayes.BernoulliNB(),\n",
    "    naive_bayes.GaussianNB(),\n",
    "    neighbors.KNeighborsClassifier(),\n",
    "    svm.SVC(probability=True),\n",
    "    svm.NuSVC(probability=True),\n",
    "    svm.LinearSVC(),\n",
    "    tree.DecisionTreeClassifier(),\n",
    "    tree.ExtraTreeClassifier(),\n",
    "    xgb.XGBClassifier()\n",
    "    ]"
   ]
  },
  {
   "cell_type": "code",
   "execution_count": 634,
   "metadata": {
    "id": "Jq-pjTu6A0eu"
   },
   "outputs": [
    {
     "name": "stdout",
     "output_type": "stream",
     "text": [
      "[22:20:19] WARNING: C:/Users/Administrator/workspace/xgboost-win64_release_1.5.1/src/learner.cc:1115: Starting in XGBoost 1.3.0, the default evaluation metric used with the objective 'binary:logistic' was changed from 'error' to 'logloss'. Explicitly set eval_metric if you'd like to restore the old behavior.\n",
      "[22:20:19] WARNING: C:/Users/Administrator/workspace/xgboost-win64_release_1.5.1/src/learner.cc:1115: Starting in XGBoost 1.3.0, the default evaluation metric used with the objective 'binary:logistic' was changed from 'error' to 'logloss'. Explicitly set eval_metric if you'd like to restore the old behavior.\n",
      "[22:20:19] WARNING: C:/Users/Administrator/workspace/xgboost-win64_release_1.5.1/src/learner.cc:1115: Starting in XGBoost 1.3.0, the default evaluation metric used with the objective 'binary:logistic' was changed from 'error' to 'logloss'. Explicitly set eval_metric if you'd like to restore the old behavior.\n",
      "[22:20:20] WARNING: C:/Users/Administrator/workspace/xgboost-win64_release_1.5.1/src/learner.cc:1115: Starting in XGBoost 1.3.0, the default evaluation metric used with the objective 'binary:logistic' was changed from 'error' to 'logloss'. Explicitly set eval_metric if you'd like to restore the old behavior.\n",
      "[22:20:20] WARNING: C:/Users/Administrator/workspace/xgboost-win64_release_1.5.1/src/learner.cc:1115: Starting in XGBoost 1.3.0, the default evaluation metric used with the objective 'binary:logistic' was changed from 'error' to 'logloss'. Explicitly set eval_metric if you'd like to restore the old behavior.\n",
      "[22:20:20] WARNING: C:/Users/Administrator/workspace/xgboost-win64_release_1.5.1/src/learner.cc:1115: Starting in XGBoost 1.3.0, the default evaluation metric used with the objective 'binary:logistic' was changed from 'error' to 'logloss'. Explicitly set eval_metric if you'd like to restore the old behavior.\n"
     ]
    }
   ],
   "source": [
    "col = []\n",
    "algorithms = pd.DataFrame(columns = col)\n",
    "idx = 0\n",
    "\n",
    "#Train and score algorithms\n",
    "for a in MLA:\n",
    "    \n",
    "    a.fit(X_train_mii, y_train_mii)\n",
    "    pred = a.predict(X_test_mi)\n",
    "    acc = accuracy_score(y_test, pred) \n",
    "    f1 = f1_score(y_test, pred)\n",
    "    cv = cross_val_score(a, X_test_mi, y_test).mean()\n",
    "    \n",
    "    Alg = a.__class__.__name__\n",
    "    \n",
    "    algorithms.loc[idx, 'Algorithm'] = Alg\n",
    "    algorithms.loc[idx, 'Accuracy'] = round(acc * 100, 2)\n",
    "    algorithms.loc[idx, 'F1 Score'] = round(f1 * 100, 2)\n",
    "    algorithms.loc[idx, 'CV Score'] = round(cv * 100, 2)\n",
    "\n",
    "    idx+=1"
   ]
  },
  {
   "cell_type": "code",
   "execution_count": 635,
   "metadata": {
    "colab": {
     "base_uri": "https://localhost:8080/",
     "height": 206
    },
    "id": "otaS45EEA0rA",
    "outputId": "1367572a-2324-46ee-e8e3-e9091bd81305"
   },
   "outputs": [
    {
     "data": {
      "text/html": [
       "<div>\n",
       "<style scoped>\n",
       "    .dataframe tbody tr th:only-of-type {\n",
       "        vertical-align: middle;\n",
       "    }\n",
       "\n",
       "    .dataframe tbody tr th {\n",
       "        vertical-align: top;\n",
       "    }\n",
       "\n",
       "    .dataframe thead th {\n",
       "        text-align: right;\n",
       "    }\n",
       "</style>\n",
       "<table border=\"1\" class=\"dataframe\">\n",
       "  <thead>\n",
       "    <tr style=\"text-align: right;\">\n",
       "      <th></th>\n",
       "      <th>Algorithm</th>\n",
       "      <th>Accuracy</th>\n",
       "      <th>F1 Score</th>\n",
       "      <th>CV Score</th>\n",
       "    </tr>\n",
       "  </thead>\n",
       "  <tbody>\n",
       "    <tr>\n",
       "      <th>3</th>\n",
       "      <td>RandomForestClassifier</td>\n",
       "      <td>88.89</td>\n",
       "      <td>85.29</td>\n",
       "      <td>83.33</td>\n",
       "    </tr>\n",
       "    <tr>\n",
       "      <th>1</th>\n",
       "      <td>ExtraTreesClassifier</td>\n",
       "      <td>87.78</td>\n",
       "      <td>83.58</td>\n",
       "      <td>77.78</td>\n",
       "    </tr>\n",
       "    <tr>\n",
       "      <th>2</th>\n",
       "      <td>GradientBoostingClassifier</td>\n",
       "      <td>86.67</td>\n",
       "      <td>81.25</td>\n",
       "      <td>84.44</td>\n",
       "    </tr>\n",
       "  </tbody>\n",
       "</table>\n",
       "</div>"
      ],
      "text/plain": [
       "                    Algorithm  Accuracy  F1 Score  CV Score\n",
       "3      RandomForestClassifier     88.89     85.29     83.33\n",
       "1        ExtraTreesClassifier     87.78     83.58     77.78\n",
       "2  GradientBoostingClassifier     86.67     81.25     84.44"
      ]
     },
     "execution_count": 635,
     "metadata": {},
     "output_type": "execute_result"
    }
   ],
   "source": [
    "#Compare invidual models\n",
    "algorithms.sort_values(by = ['Accuracy'], ascending = False, inplace = True)    \n",
    "algorithms.head(3)\n"
   ]
  },
  {
   "cell_type": "markdown",
   "metadata": {
    "id": "Wd0V4e0aRXYe"
   },
   "source": [
    "# **5. Evaluation**"
   ]
  },
  {
   "cell_type": "code",
   "execution_count": 637,
   "metadata": {
    "id": "QKU5V0qISZpw"
   },
   "outputs": [],
   "source": [
    "kfold = StratifiedKFold(n_splits=10)"
   ]
  },
  {
   "cell_type": "markdown",
   "metadata": {},
   "source": [
    "- Random Forest"
   ]
  },
  {
   "cell_type": "code",
   "execution_count": 638,
   "metadata": {},
   "outputs": [
    {
     "name": "stdout",
     "output_type": "stream",
     "text": [
      "Fitting 10 folds for each of 162 candidates, totalling 1620 fits\n"
     ]
    },
    {
     "data": {
      "text/plain": [
       "0.8229952587095444"
      ]
     },
     "execution_count": 638,
     "metadata": {},
     "output_type": "execute_result"
    }
   ],
   "source": [
    "# Random Forest Classifier\n",
    "RF = ensemble.RandomForestClassifier()\n",
    "RF_param = {\n",
    "    'n_estimators' : [100, 200],\n",
    "     'criterion' : ['gini', 'entropy', 'log_loss'],\n",
    "     'min_samples_split' : [2, 3, 4],\n",
    "     'min_samples_leaf' : [1, 2, 3],\n",
    "     'max_features' : ['sqrt', 'log2', None]\n",
    "     }\n",
    "\n",
    "gsRF = GridSearchCV(RF, param_grid = RF_param, cv=kfold, scoring=\"accuracy\", n_jobs= -1, verbose = 10)\n",
    "gsRF.fit(X_train_mii,y_train_mii)\n",
    "RF_best = gsRF.best_estimator_\n",
    "\n",
    "# Best score\n",
    "gsRF.best_score_"
   ]
  },
  {
   "cell_type": "markdown",
   "metadata": {},
   "source": [
    "- Extra Trees"
   ]
  },
  {
   "cell_type": "code",
   "execution_count": 639,
   "metadata": {},
   "outputs": [
    {
     "name": "stdout",
     "output_type": "stream",
     "text": [
      "Fitting 10 folds for each of 162 candidates, totalling 1620 fits\n"
     ]
    },
    {
     "data": {
      "text/plain": [
       "0.819954648526077"
      ]
     },
     "execution_count": 639,
     "metadata": {},
     "output_type": "execute_result"
    }
   ],
   "source": [
    "# ET Classifier\n",
    "ET = ensemble.ExtraTreesClassifier()\n",
    "ET_param = {\n",
    "     'n_estimators' : [100, 200],\n",
    "     'criterion' : ['gini', 'entropy', 'log_loss'],\n",
    "     'min_samples_split' : [2, 3, 4],\n",
    "     'min_samples_leaf' : [1, 2, 3],\n",
    "     'max_features' : ['sqrt', 'log2', None]}\n",
    "\n",
    "gsET = GridSearchCV(ET, param_grid = ET_param, cv=kfold, scoring=\"accuracy\", n_jobs= -1, verbose = 10)\n",
    "gsET.fit(X_train_mii,y_train_mii)\n",
    "ET_best = gsET.best_estimator_\n",
    "\n",
    "# Best score\n",
    "gsET.best_score_"
   ]
  },
  {
   "cell_type": "markdown",
   "metadata": {},
   "source": [
    "- Gradient Boosting"
   ]
  },
  {
   "cell_type": "code",
   "execution_count": 640,
   "metadata": {
    "id": "Q6rkjhL9R9J7"
   },
   "outputs": [
    {
     "name": "stdout",
     "output_type": "stream",
     "text": [
      "Fitting 10 folds for each of 72 candidates, totalling 720 fits\n"
     ]
    },
    {
     "data": {
      "text/plain": [
       "0.8209338280766852"
      ]
     },
     "execution_count": 640,
     "metadata": {},
     "output_type": "execute_result"
    }
   ],
   "source": [
    "GB = ensemble.GradientBoostingClassifier()\n",
    "gb_param = {\n",
    "        'loss' : [\"deviance\"],\n",
    "        'n_estimators' : [100,200,300],\n",
    "        'learning_rate': [0.1, 0.05, 0.01],\n",
    "        'max_depth': [4, 8],\n",
    "        'min_samples_leaf': [100,150],\n",
    "        'max_features': [0.3, 0.1] \n",
    "        }\n",
    "\n",
    "gsGB = GridSearchCV(GB, param_grid = gb_param, cv=kfold, scoring=\"accuracy\", n_jobs= -1, verbose = 1)\n",
    "gsGB.fit(X_train_mii,y_train_mii)\n",
    "GB_best = gsGB.best_estimator_\n",
    "\n",
    "# Best score\n",
    "gsGB.best_score_"
   ]
  },
  {
   "cell_type": "code",
   "execution_count": 641,
   "metadata": {
    "id": "ECI0k-nuf3Ew"
   },
   "outputs": [],
   "source": [
    "#Using \"Voting Classifier\" to find the best algorithm\n",
    "vc = ensemble.VotingClassifier(\n",
    "    estimators = [('et', ET_best), ('gb',GB_best), ('rf', RF_best)],\n",
    "    voting='soft', n_jobs=-1)"
   ]
  },
  {
   "cell_type": "code",
   "execution_count": 642,
   "metadata": {},
   "outputs": [
    {
     "name": "stdout",
     "output_type": "stream",
     "text": [
      "Accuracy:  88.89 \n",
      "F1-Score:  84.85 \n",
      "CV Score:  87.78\n"
     ]
    }
   ],
   "source": [
    "vc = vc.fit(X_train_mii, y_train_mii)\n",
    "pred = vc.predict(X_test_mi)\n",
    "acc = accuracy_score(y_test, pred) #Other way: vc.score(X_test, y_test)\n",
    "f1 = f1_score(y_test, pred)\n",
    "cv = cross_val_score(vc, X_test_mi, y_test).mean()\n",
    "\n",
    "print(\"Accuracy: \", round(acc*100,2), \"\\nF1-Score: \", round(f1*100,2), \"\\nCV Score: \", round(cv*100,2))"
   ]
  },
  {
   "cell_type": "code",
   "execution_count": 643,
   "metadata": {},
   "outputs": [],
   "source": [
    "y_scores = vc.predict_proba(X_test_mi)\n",
    "y_scores = y_scores[:,1]"
   ]
  },
  {
   "cell_type": "code",
   "execution_count": 644,
   "metadata": {},
   "outputs": [],
   "source": [
    "false_positive_rate, true_positive_rate, thresholds = roc_curve(y_test, y_scores)"
   ]
  },
  {
   "cell_type": "code",
   "execution_count": 645,
   "metadata": {},
   "outputs": [
    {
     "name": "stdout",
     "output_type": "stream",
     "text": [
      "ROC-AUC Score: 0.9101298701298701\n"
     ]
    }
   ],
   "source": [
    "auroc = roc_auc_score(y_test, y_scores)\n",
    "print(\"ROC-AUC Score:\", auroc)"
   ]
  },
  {
   "cell_type": "markdown",
   "metadata": {},
   "source": [
    "- Submission"
   ]
  },
  {
   "cell_type": "code",
   "execution_count": 646,
   "metadata": {},
   "outputs": [],
   "source": [
    "Id = df_backtesting['PassengerId']"
   ]
  },
  {
   "cell_type": "code",
   "execution_count": 649,
   "metadata": {},
   "outputs": [],
   "source": [
    "pred = vc.predict(X_backtesting_mi).astype(int)\n",
    "target = pd.Series(pred, name='Survived')\n",
    "\n",
    "output = pd.concat({'PassengerId':Id, 'Survived':target}\n",
    "                   ,axis='columns')\n",
    "\n",
    "output.to_csv('hasil_submission_titanic.csv', index=False, header=True)"
   ]
  }
 ],
 "metadata": {
  "colab": {
   "collapsed_sections": [],
   "name": "ProTitanicProject.ipynb",
   "provenance": []
  },
  "kernelspec": {
   "display_name": "Python 3 (ipykernel)",
   "language": "python",
   "name": "python3"
  },
  "language_info": {
   "codemirror_mode": {
    "name": "ipython",
    "version": 3
   },
   "file_extension": ".py",
   "mimetype": "text/x-python",
   "name": "python",
   "nbconvert_exporter": "python",
   "pygments_lexer": "ipython3",
   "version": "3.9.7"
  }
 },
 "nbformat": 4,
 "nbformat_minor": 4
}
